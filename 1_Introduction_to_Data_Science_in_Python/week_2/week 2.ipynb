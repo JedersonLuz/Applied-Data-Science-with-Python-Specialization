{
  "nbformat": 4,
  "nbformat_minor": 0,
  "metadata": {
    "kernelspec": {
      "display_name": "Python 3",
      "language": "python",
      "name": "python3"
    },
    "language_info": {
      "codemirror_mode": {
        "name": "ipython",
        "version": 3
      },
      "file_extension": ".py",
      "mimetype": "text/x-python",
      "name": "python",
      "nbconvert_exporter": "python",
      "pygments_lexer": "ipython3",
      "version": "3.7.4"
    },
    "colab": {
      "name": "week 2.ipynb",
      "provenance": [],
      "include_colab_link": true
    }
  },
  "cells": [
    {
      "cell_type": "markdown",
      "metadata": {
        "id": "view-in-github",
        "colab_type": "text"
      },
      "source": [
        "<a href=\"https://colab.research.google.com/github/JedersonLuz/Applied_Data_Science_with_Python_Specialization/blob/master/1_Introduction_to_Data_Science_in_Python/week_2/week%202.ipynb\" target=\"_parent\"><img src=\"https://colab.research.google.com/assets/colab-badge.svg\" alt=\"Open In Colab\"/></a>"
      ]
    },
    {
      "cell_type": "markdown",
      "metadata": {
        "id": "9xETkbK6vrh0",
        "colab_type": "text"
      },
      "source": [
        "---\n",
        "\n",
        "_You are currently looking at **version 1.0** of this notebook. To download notebooks and datafiles, as well as get help on Jupyter notebooks in the Coursera platform, visit the [Jupyter Notebook FAQ](https://www.coursera.org/learn/python-data-analysis/resources/0dhYG) course resource._\n",
        "\n",
        "---"
      ]
    },
    {
      "cell_type": "markdown",
      "metadata": {
        "id": "wwVTAEbNvrh6",
        "colab_type": "text"
      },
      "source": [
        "# The Series Data Structure"
      ]
    },
    {
      "cell_type": "code",
      "metadata": {
        "id": "aCWINe2pvrh7",
        "colab_type": "code",
        "colab": {},
        "outputId": "e6a62f1c-9531-4f93-c445-60d2db64b497"
      },
      "source": [
        "import pandas as pd\n",
        "pd.Series?"
      ],
      "execution_count": 0,
      "outputs": [
        {
          "output_type": "display_data",
          "data": {
            "text/plain": [
              "\u001b[0;31mInit signature:\u001b[0m\n",
              "\u001b[0mpd\u001b[0m\u001b[0;34m.\u001b[0m\u001b[0mSeries\u001b[0m\u001b[0;34m(\u001b[0m\u001b[0;34m\u001b[0m\n",
              "\u001b[0;34m\u001b[0m    \u001b[0mdata\u001b[0m\u001b[0;34m=\u001b[0m\u001b[0;32mNone\u001b[0m\u001b[0;34m,\u001b[0m\u001b[0;34m\u001b[0m\n",
              "\u001b[0;34m\u001b[0m    \u001b[0mindex\u001b[0m\u001b[0;34m=\u001b[0m\u001b[0;32mNone\u001b[0m\u001b[0;34m,\u001b[0m\u001b[0;34m\u001b[0m\n",
              "\u001b[0;34m\u001b[0m    \u001b[0mdtype\u001b[0m\u001b[0;34m=\u001b[0m\u001b[0;32mNone\u001b[0m\u001b[0;34m,\u001b[0m\u001b[0;34m\u001b[0m\n",
              "\u001b[0;34m\u001b[0m    \u001b[0mname\u001b[0m\u001b[0;34m=\u001b[0m\u001b[0;32mNone\u001b[0m\u001b[0;34m,\u001b[0m\u001b[0;34m\u001b[0m\n",
              "\u001b[0;34m\u001b[0m    \u001b[0mcopy\u001b[0m\u001b[0;34m=\u001b[0m\u001b[0;32mFalse\u001b[0m\u001b[0;34m,\u001b[0m\u001b[0;34m\u001b[0m\n",
              "\u001b[0;34m\u001b[0m    \u001b[0mfastpath\u001b[0m\u001b[0;34m=\u001b[0m\u001b[0;32mFalse\u001b[0m\u001b[0;34m,\u001b[0m\u001b[0;34m\u001b[0m\n",
              "\u001b[0;34m\u001b[0m\u001b[0;34m)\u001b[0m\u001b[0;34m\u001b[0m\u001b[0;34m\u001b[0m\u001b[0m\n",
              "\u001b[0;31mDocstring:\u001b[0m     \n",
              "One-dimensional ndarray with axis labels (including time series).\n",
              "\n",
              "Labels need not be unique but must be a hashable type. The object\n",
              "supports both integer- and label-based indexing and provides a host of\n",
              "methods for performing operations involving the index. Statistical\n",
              "methods from ndarray have been overridden to automatically exclude\n",
              "missing data (currently represented as NaN).\n",
              "\n",
              "Operations between Series (+, -, /, *, **) align values based on their\n",
              "associated index values-- they need not be the same length. The result\n",
              "index will be the sorted union of the two indexes.\n",
              "\n",
              "Parameters\n",
              "----------\n",
              "data : array-like, Iterable, dict, or scalar value\n",
              "    Contains data stored in Series.\n",
              "\n",
              "    .. versionchanged :: 0.23.0\n",
              "       If data is a dict, argument order is maintained for Python 3.6\n",
              "       and later.\n",
              "\n",
              "index : array-like or Index (1d)\n",
              "    Values must be hashable and have the same length as `data`.\n",
              "    Non-unique index values are allowed. Will default to\n",
              "    RangeIndex (0, 1, 2, ..., n) if not provided. If both a dict and index\n",
              "    sequence are used, the index will override the keys found in the\n",
              "    dict.\n",
              "dtype : str, numpy.dtype, or ExtensionDtype, optional\n",
              "    Data type for the output Series. If not specified, this will be\n",
              "    inferred from `data`.\n",
              "    See the :ref:`user guide <basics.dtypes>` for more usages.\n",
              "copy : bool, default False\n",
              "    Copy input data.\n",
              "\u001b[0;31mFile:\u001b[0m           ~/anaconda3/lib/python3.7/site-packages/pandas/core/series.py\n",
              "\u001b[0;31mType:\u001b[0m           type\n",
              "\u001b[0;31mSubclasses:\u001b[0m     SparseSeries, SubclassedSeries\n"
            ]
          },
          "metadata": {
            "tags": []
          }
        }
      ]
    },
    {
      "cell_type": "code",
      "metadata": {
        "id": "MNvqceSGvriC",
        "colab_type": "code",
        "colab": {},
        "outputId": "3f6489a7-c849-4d04-fb6c-ba39859e521d"
      },
      "source": [
        "animals = ['Tiger', 'Bear', 'Moose']\n",
        "pd.Series(animals)"
      ],
      "execution_count": 0,
      "outputs": [
        {
          "output_type": "execute_result",
          "data": {
            "text/plain": [
              "0    Tiger\n",
              "1     Bear\n",
              "2    Moose\n",
              "dtype: object"
            ]
          },
          "metadata": {
            "tags": []
          },
          "execution_count": 2
        }
      ]
    },
    {
      "cell_type": "code",
      "metadata": {
        "id": "nPikf0fLvriJ",
        "colab_type": "code",
        "colab": {},
        "outputId": "b6862526-48e3-4bb3-8512-2b7833a4afeb"
      },
      "source": [
        "numbers = [1, 2, 3]\n",
        "pd.Series(numbers)"
      ],
      "execution_count": 0,
      "outputs": [
        {
          "output_type": "execute_result",
          "data": {
            "text/plain": [
              "0    1\n",
              "1    2\n",
              "2    3\n",
              "dtype: int64"
            ]
          },
          "metadata": {
            "tags": []
          },
          "execution_count": 3
        }
      ]
    },
    {
      "cell_type": "code",
      "metadata": {
        "id": "M8jOGGG-vriO",
        "colab_type": "code",
        "colab": {},
        "outputId": "12b7a6b8-d93f-4200-e679-514a38acaa7e"
      },
      "source": [
        "animals = ['Tiger', 'Bear', None]\n",
        "pd.Series(animals)"
      ],
      "execution_count": 0,
      "outputs": [
        {
          "output_type": "execute_result",
          "data": {
            "text/plain": [
              "0    Tiger\n",
              "1     Bear\n",
              "2     None\n",
              "dtype: object"
            ]
          },
          "metadata": {
            "tags": []
          },
          "execution_count": 4
        }
      ]
    },
    {
      "cell_type": "code",
      "metadata": {
        "id": "y1_RFGd_vriT",
        "colab_type": "code",
        "colab": {},
        "outputId": "56ab8b23-ebd9-4985-d9f0-c2c0613568fb"
      },
      "source": [
        "numbers = [1, 2, None]\n",
        "pd.Series(numbers)"
      ],
      "execution_count": 0,
      "outputs": [
        {
          "output_type": "execute_result",
          "data": {
            "text/plain": [
              "0    1.0\n",
              "1    2.0\n",
              "2    NaN\n",
              "dtype: float64"
            ]
          },
          "metadata": {
            "tags": []
          },
          "execution_count": 5
        }
      ]
    },
    {
      "cell_type": "code",
      "metadata": {
        "id": "zW6TEPS5vria",
        "colab_type": "code",
        "colab": {},
        "outputId": "0d5d2f9f-2f34-4072-8a3e-926b93e1c919"
      },
      "source": [
        "import numpy as np\n",
        "np.nan == None"
      ],
      "execution_count": 0,
      "outputs": [
        {
          "output_type": "execute_result",
          "data": {
            "text/plain": [
              "False"
            ]
          },
          "metadata": {
            "tags": []
          },
          "execution_count": 6
        }
      ]
    },
    {
      "cell_type": "code",
      "metadata": {
        "id": "JAKQgpINvrig",
        "colab_type": "code",
        "colab": {},
        "outputId": "8edf14d5-9593-46d9-8cd1-885eddef1492"
      },
      "source": [
        "np.nan == np.nan"
      ],
      "execution_count": 0,
      "outputs": [
        {
          "output_type": "execute_result",
          "data": {
            "text/plain": [
              "False"
            ]
          },
          "metadata": {
            "tags": []
          },
          "execution_count": 7
        }
      ]
    },
    {
      "cell_type": "code",
      "metadata": {
        "id": "Lxsoctafvrio",
        "colab_type": "code",
        "colab": {},
        "outputId": "406518c5-bb04-4441-f59b-7785c48edc19"
      },
      "source": [
        "np.isnan(np.nan)"
      ],
      "execution_count": 0,
      "outputs": [
        {
          "output_type": "execute_result",
          "data": {
            "text/plain": [
              "True"
            ]
          },
          "metadata": {
            "tags": []
          },
          "execution_count": 8
        }
      ]
    },
    {
      "cell_type": "code",
      "metadata": {
        "id": "9-Wo3L0Qvrit",
        "colab_type": "code",
        "colab": {},
        "outputId": "425cbc56-9026-4fb4-a299-86bff478ef57"
      },
      "source": [
        "sports = {'Archery': 'Bhutan',\n",
        "          'Golf': 'Scotland',\n",
        "          'Sumo': 'Japan',\n",
        "          'Taekwondo': 'South Korea'}\n",
        "s = pd.Series(sports)\n",
        "s"
      ],
      "execution_count": 0,
      "outputs": [
        {
          "output_type": "execute_result",
          "data": {
            "text/plain": [
              "Archery           Bhutan\n",
              "Golf            Scotland\n",
              "Sumo               Japan\n",
              "Taekwondo    South Korea\n",
              "dtype: object"
            ]
          },
          "metadata": {
            "tags": []
          },
          "execution_count": 9
        }
      ]
    },
    {
      "cell_type": "code",
      "metadata": {
        "id": "fmQKutQyvri0",
        "colab_type": "code",
        "colab": {},
        "outputId": "2fa771ec-1baf-42ec-8a81-6822cf3255a1"
      },
      "source": [
        "s.index"
      ],
      "execution_count": 0,
      "outputs": [
        {
          "output_type": "execute_result",
          "data": {
            "text/plain": [
              "Index(['Archery', 'Golf', 'Sumo', 'Taekwondo'], dtype='object')"
            ]
          },
          "metadata": {
            "tags": []
          },
          "execution_count": 10
        }
      ]
    },
    {
      "cell_type": "code",
      "metadata": {
        "id": "kpf6xrZOvri4",
        "colab_type": "code",
        "colab": {},
        "outputId": "194c8ab8-6ef6-4386-d755-417303ad2bfd"
      },
      "source": [
        "s = pd.Series(['Tiger', 'Bear', 'Moose'], index=['India', 'America', 'Canada'])\n",
        "s"
      ],
      "execution_count": 0,
      "outputs": [
        {
          "output_type": "execute_result",
          "data": {
            "text/plain": [
              "India      Tiger\n",
              "America     Bear\n",
              "Canada     Moose\n",
              "dtype: object"
            ]
          },
          "metadata": {
            "tags": []
          },
          "execution_count": 11
        }
      ]
    },
    {
      "cell_type": "code",
      "metadata": {
        "id": "JF8NCQkCvri9",
        "colab_type": "code",
        "colab": {},
        "outputId": "9b16c581-191e-4975-92c6-3d411d2ed10f"
      },
      "source": [
        "sports = {'Archery': 'Bhutan',\n",
        "          'Golf': 'Scotland',\n",
        "          'Sumo': 'Japan',\n",
        "          'Taekwondo': 'South Korea'}\n",
        "s = pd.Series(sports, index=['Golf', 'Sumo', 'Hockey'])\n",
        "s"
      ],
      "execution_count": 0,
      "outputs": [
        {
          "output_type": "execute_result",
          "data": {
            "text/plain": [
              "Golf      Scotland\n",
              "Sumo         Japan\n",
              "Hockey         NaN\n",
              "dtype: object"
            ]
          },
          "metadata": {
            "tags": []
          },
          "execution_count": 12
        }
      ]
    },
    {
      "cell_type": "markdown",
      "metadata": {
        "id": "jU1U-kfFvrjB",
        "colab_type": "text"
      },
      "source": [
        "# Querying a Series"
      ]
    },
    {
      "cell_type": "code",
      "metadata": {
        "id": "VdDIoAc8vrjC",
        "colab_type": "code",
        "colab": {},
        "outputId": "2b0d3de5-f252-48ff-bcd6-6272cae4cd9c"
      },
      "source": [
        "sports = {'Archery': 'Bhutan',\n",
        "          'Golf': 'Scotland',\n",
        "          'Sumo': 'Japan',\n",
        "          'Taekwondo': 'South Korea'}\n",
        "s = pd.Series(sports)\n",
        "s"
      ],
      "execution_count": 0,
      "outputs": [
        {
          "output_type": "execute_result",
          "data": {
            "text/plain": [
              "Archery           Bhutan\n",
              "Golf            Scotland\n",
              "Sumo               Japan\n",
              "Taekwondo    South Korea\n",
              "dtype: object"
            ]
          },
          "metadata": {
            "tags": []
          },
          "execution_count": 13
        }
      ]
    },
    {
      "cell_type": "code",
      "metadata": {
        "id": "LR-uS8EhvrjH",
        "colab_type": "code",
        "colab": {},
        "outputId": "2bf45fb4-7caa-4310-cbac-9536c5e9a21b"
      },
      "source": [
        "s.iloc[3]"
      ],
      "execution_count": 0,
      "outputs": [
        {
          "output_type": "execute_result",
          "data": {
            "text/plain": [
              "'South Korea'"
            ]
          },
          "metadata": {
            "tags": []
          },
          "execution_count": 14
        }
      ]
    },
    {
      "cell_type": "code",
      "metadata": {
        "id": "r__mfmg2vrjM",
        "colab_type": "code",
        "colab": {},
        "outputId": "38c13c5a-ec7e-4962-9fc8-4de2c086c32b"
      },
      "source": [
        "s.loc['Golf']"
      ],
      "execution_count": 0,
      "outputs": [
        {
          "output_type": "execute_result",
          "data": {
            "text/plain": [
              "'Scotland'"
            ]
          },
          "metadata": {
            "tags": []
          },
          "execution_count": 15
        }
      ]
    },
    {
      "cell_type": "code",
      "metadata": {
        "id": "S27UtIBsvrjT",
        "colab_type": "code",
        "colab": {},
        "outputId": "b3b4e090-bc1e-47e7-985a-ecd2ed2c0714"
      },
      "source": [
        "s[3]"
      ],
      "execution_count": 0,
      "outputs": [
        {
          "output_type": "execute_result",
          "data": {
            "text/plain": [
              "'South Korea'"
            ]
          },
          "metadata": {
            "tags": []
          },
          "execution_count": 16
        }
      ]
    },
    {
      "cell_type": "code",
      "metadata": {
        "id": "vKcGxozBvrja",
        "colab_type": "code",
        "colab": {},
        "outputId": "329744de-0cd7-45c2-b270-2a5d66c11164"
      },
      "source": [
        "s['Golf']"
      ],
      "execution_count": 0,
      "outputs": [
        {
          "output_type": "execute_result",
          "data": {
            "text/plain": [
              "'Scotland'"
            ]
          },
          "metadata": {
            "tags": []
          },
          "execution_count": 17
        }
      ]
    },
    {
      "cell_type": "code",
      "metadata": {
        "id": "TaN2tjsBvrje",
        "colab_type": "code",
        "colab": {}
      },
      "source": [
        "sports = {99: 'Bhutan',\n",
        "          100: 'Scotland',\n",
        "          101: 'Japan',\n",
        "          102: 'South Korea'}\n",
        "s = pd.Series(sports)"
      ],
      "execution_count": 0,
      "outputs": []
    },
    {
      "cell_type": "code",
      "metadata": {
        "scrolled": true,
        "id": "jOfckMZXvrji",
        "colab_type": "code",
        "colab": {},
        "outputId": "97f1922f-ec6d-410c-f680-6aafc0fa5b4a"
      },
      "source": [
        "s[0] #This won't call s.iloc[0] as one might expect, it generates an error instead"
      ],
      "execution_count": 0,
      "outputs": [
        {
          "output_type": "error",
          "ename": "KeyError",
          "evalue": "0",
          "traceback": [
            "\u001b[0;31m---------------------------------------------------------------------------\u001b[0m",
            "\u001b[0;31mKeyError\u001b[0m                                  Traceback (most recent call last)",
            "\u001b[0;32m<ipython-input-19-00fa51989f14>\u001b[0m in \u001b[0;36m<module>\u001b[0;34m\u001b[0m\n\u001b[0;32m----> 1\u001b[0;31m \u001b[0ms\u001b[0m\u001b[0;34m[\u001b[0m\u001b[0;36m0\u001b[0m\u001b[0;34m]\u001b[0m \u001b[0;31m#This won't call s.iloc[0] as one might expect, it generates an error instead\u001b[0m\u001b[0;34m\u001b[0m\u001b[0;34m\u001b[0m\u001b[0m\n\u001b[0m",
            "\u001b[0;32m~/anaconda3/lib/python3.7/site-packages/pandas/core/series.py\u001b[0m in \u001b[0;36m__getitem__\u001b[0;34m(self, key)\u001b[0m\n\u001b[1;32m   1066\u001b[0m         \u001b[0mkey\u001b[0m \u001b[0;34m=\u001b[0m \u001b[0mcom\u001b[0m\u001b[0;34m.\u001b[0m\u001b[0mapply_if_callable\u001b[0m\u001b[0;34m(\u001b[0m\u001b[0mkey\u001b[0m\u001b[0;34m,\u001b[0m \u001b[0mself\u001b[0m\u001b[0;34m)\u001b[0m\u001b[0;34m\u001b[0m\u001b[0;34m\u001b[0m\u001b[0m\n\u001b[1;32m   1067\u001b[0m         \u001b[0;32mtry\u001b[0m\u001b[0;34m:\u001b[0m\u001b[0;34m\u001b[0m\u001b[0;34m\u001b[0m\u001b[0m\n\u001b[0;32m-> 1068\u001b[0;31m             \u001b[0mresult\u001b[0m \u001b[0;34m=\u001b[0m \u001b[0mself\u001b[0m\u001b[0;34m.\u001b[0m\u001b[0mindex\u001b[0m\u001b[0;34m.\u001b[0m\u001b[0mget_value\u001b[0m\u001b[0;34m(\u001b[0m\u001b[0mself\u001b[0m\u001b[0;34m,\u001b[0m \u001b[0mkey\u001b[0m\u001b[0;34m)\u001b[0m\u001b[0;34m\u001b[0m\u001b[0;34m\u001b[0m\u001b[0m\n\u001b[0m\u001b[1;32m   1069\u001b[0m \u001b[0;34m\u001b[0m\u001b[0m\n\u001b[1;32m   1070\u001b[0m             \u001b[0;32mif\u001b[0m \u001b[0;32mnot\u001b[0m \u001b[0mis_scalar\u001b[0m\u001b[0;34m(\u001b[0m\u001b[0mresult\u001b[0m\u001b[0;34m)\u001b[0m\u001b[0;34m:\u001b[0m\u001b[0;34m\u001b[0m\u001b[0;34m\u001b[0m\u001b[0m\n",
            "\u001b[0;32m~/anaconda3/lib/python3.7/site-packages/pandas/core/indexes/base.py\u001b[0m in \u001b[0;36mget_value\u001b[0;34m(self, series, key)\u001b[0m\n\u001b[1;32m   4728\u001b[0m         \u001b[0mk\u001b[0m \u001b[0;34m=\u001b[0m \u001b[0mself\u001b[0m\u001b[0;34m.\u001b[0m\u001b[0m_convert_scalar_indexer\u001b[0m\u001b[0;34m(\u001b[0m\u001b[0mk\u001b[0m\u001b[0;34m,\u001b[0m \u001b[0mkind\u001b[0m\u001b[0;34m=\u001b[0m\u001b[0;34m\"getitem\"\u001b[0m\u001b[0;34m)\u001b[0m\u001b[0;34m\u001b[0m\u001b[0;34m\u001b[0m\u001b[0m\n\u001b[1;32m   4729\u001b[0m         \u001b[0;32mtry\u001b[0m\u001b[0;34m:\u001b[0m\u001b[0;34m\u001b[0m\u001b[0;34m\u001b[0m\u001b[0m\n\u001b[0;32m-> 4730\u001b[0;31m             \u001b[0;32mreturn\u001b[0m \u001b[0mself\u001b[0m\u001b[0;34m.\u001b[0m\u001b[0m_engine\u001b[0m\u001b[0;34m.\u001b[0m\u001b[0mget_value\u001b[0m\u001b[0;34m(\u001b[0m\u001b[0ms\u001b[0m\u001b[0;34m,\u001b[0m \u001b[0mk\u001b[0m\u001b[0;34m,\u001b[0m \u001b[0mtz\u001b[0m\u001b[0;34m=\u001b[0m\u001b[0mgetattr\u001b[0m\u001b[0;34m(\u001b[0m\u001b[0mseries\u001b[0m\u001b[0;34m.\u001b[0m\u001b[0mdtype\u001b[0m\u001b[0;34m,\u001b[0m \u001b[0;34m\"tz\"\u001b[0m\u001b[0;34m,\u001b[0m \u001b[0;32mNone\u001b[0m\u001b[0;34m)\u001b[0m\u001b[0;34m)\u001b[0m\u001b[0;34m\u001b[0m\u001b[0;34m\u001b[0m\u001b[0m\n\u001b[0m\u001b[1;32m   4731\u001b[0m         \u001b[0;32mexcept\u001b[0m \u001b[0mKeyError\u001b[0m \u001b[0;32mas\u001b[0m \u001b[0me1\u001b[0m\u001b[0;34m:\u001b[0m\u001b[0;34m\u001b[0m\u001b[0;34m\u001b[0m\u001b[0m\n\u001b[1;32m   4732\u001b[0m             \u001b[0;32mif\u001b[0m \u001b[0mlen\u001b[0m\u001b[0;34m(\u001b[0m\u001b[0mself\u001b[0m\u001b[0;34m)\u001b[0m \u001b[0;34m>\u001b[0m \u001b[0;36m0\u001b[0m \u001b[0;32mand\u001b[0m \u001b[0;34m(\u001b[0m\u001b[0mself\u001b[0m\u001b[0;34m.\u001b[0m\u001b[0mholds_integer\u001b[0m\u001b[0;34m(\u001b[0m\u001b[0;34m)\u001b[0m \u001b[0;32mor\u001b[0m \u001b[0mself\u001b[0m\u001b[0;34m.\u001b[0m\u001b[0mis_boolean\u001b[0m\u001b[0;34m(\u001b[0m\u001b[0;34m)\u001b[0m\u001b[0;34m)\u001b[0m\u001b[0;34m:\u001b[0m\u001b[0;34m\u001b[0m\u001b[0;34m\u001b[0m\u001b[0m\n",
            "\u001b[0;32mpandas/_libs/index.pyx\u001b[0m in \u001b[0;36mpandas._libs.index.IndexEngine.get_value\u001b[0;34m()\u001b[0m\n",
            "\u001b[0;32mpandas/_libs/index.pyx\u001b[0m in \u001b[0;36mpandas._libs.index.IndexEngine.get_value\u001b[0;34m()\u001b[0m\n",
            "\u001b[0;32mpandas/_libs/index.pyx\u001b[0m in \u001b[0;36mpandas._libs.index.IndexEngine.get_loc\u001b[0;34m()\u001b[0m\n",
            "\u001b[0;32mpandas/_libs/hashtable_class_helper.pxi\u001b[0m in \u001b[0;36mpandas._libs.hashtable.Int64HashTable.get_item\u001b[0;34m()\u001b[0m\n",
            "\u001b[0;32mpandas/_libs/hashtable_class_helper.pxi\u001b[0m in \u001b[0;36mpandas._libs.hashtable.Int64HashTable.get_item\u001b[0;34m()\u001b[0m\n",
            "\u001b[0;31mKeyError\u001b[0m: 0"
          ]
        }
      ]
    },
    {
      "cell_type": "code",
      "metadata": {
        "id": "e-_-09dwvrjl",
        "colab_type": "code",
        "colab": {},
        "outputId": "96bd7933-c4b1-4d50-dd8a-c7c7401ee1af"
      },
      "source": [
        "s = pd.Series([100.00, 120.00, 101.00, 3.00])\n",
        "s"
      ],
      "execution_count": 0,
      "outputs": [
        {
          "output_type": "execute_result",
          "data": {
            "text/plain": [
              "0    100.0\n",
              "1    120.0\n",
              "2    101.0\n",
              "3      3.0\n",
              "dtype: float64"
            ]
          },
          "metadata": {
            "tags": []
          },
          "execution_count": 21
        }
      ]
    },
    {
      "cell_type": "code",
      "metadata": {
        "id": "4i3msQ2bvrjq",
        "colab_type": "code",
        "colab": {},
        "outputId": "aad27c43-1682-4ba9-a60d-bcc1c949e54e"
      },
      "source": [
        "total = 0\n",
        "for item in s:\n",
        "    total+=item\n",
        "print(total)"
      ],
      "execution_count": 0,
      "outputs": [
        {
          "output_type": "stream",
          "text": [
            "324.0\n"
          ],
          "name": "stdout"
        }
      ]
    },
    {
      "cell_type": "code",
      "metadata": {
        "id": "ZsPzrlwSvrju",
        "colab_type": "code",
        "colab": {},
        "outputId": "c5b270cd-a77f-492f-afcc-78237b50b7bb"
      },
      "source": [
        "import numpy as np\n",
        "\n",
        "total = np.sum(s)\n",
        "print(total)"
      ],
      "execution_count": 0,
      "outputs": [
        {
          "output_type": "stream",
          "text": [
            "324.0\n"
          ],
          "name": "stdout"
        }
      ]
    },
    {
      "cell_type": "code",
      "metadata": {
        "id": "7e8tnzP2vrjy",
        "colab_type": "code",
        "colab": {},
        "outputId": "cd36bfd6-34be-42f2-9a4c-d92b2fb42a31"
      },
      "source": [
        "#this creates a big series of random numbers\n",
        "s = pd.Series(np.random.randint(0,1000,10000))\n",
        "s.head()"
      ],
      "execution_count": 0,
      "outputs": [
        {
          "output_type": "execute_result",
          "data": {
            "text/plain": [
              "0    735\n",
              "1    693\n",
              "2    421\n",
              "3    449\n",
              "4    895\n",
              "dtype: int64"
            ]
          },
          "metadata": {
            "tags": []
          },
          "execution_count": 24
        }
      ]
    },
    {
      "cell_type": "code",
      "metadata": {
        "id": "rBhzxtsIvrj1",
        "colab_type": "code",
        "colab": {},
        "outputId": "7fd09812-8bea-47c8-ca09-2eb00f9a53a7"
      },
      "source": [
        "len(s)"
      ],
      "execution_count": 0,
      "outputs": [
        {
          "output_type": "execute_result",
          "data": {
            "text/plain": [
              "10000"
            ]
          },
          "metadata": {
            "tags": []
          },
          "execution_count": 25
        }
      ]
    },
    {
      "cell_type": "code",
      "metadata": {
        "id": "G7Wui2rGvrj6",
        "colab_type": "code",
        "colab": {},
        "outputId": "de0dbeb5-774e-48df-cd9e-cdbf1b78651d"
      },
      "source": [
        "%%timeit -n 100\n",
        "summary = 0\n",
        "for item in s:\n",
        "    summary+=item"
      ],
      "execution_count": 0,
      "outputs": [
        {
          "output_type": "stream",
          "text": [
            "1.21 ms ± 41.3 µs per loop (mean ± std. dev. of 7 runs, 100 loops each)\n"
          ],
          "name": "stdout"
        }
      ]
    },
    {
      "cell_type": "code",
      "metadata": {
        "id": "F_y5JSfdvrj-",
        "colab_type": "code",
        "colab": {},
        "outputId": "60997ba8-2770-4b45-d1cd-8330e21baaa5"
      },
      "source": [
        "%%timeit -n 100\n",
        "summary = np.sum(s)"
      ],
      "execution_count": 0,
      "outputs": [
        {
          "output_type": "stream",
          "text": [
            "127 µs ± 35.1 µs per loop (mean ± std. dev. of 7 runs, 100 loops each)\n"
          ],
          "name": "stdout"
        }
      ]
    },
    {
      "cell_type": "code",
      "metadata": {
        "id": "fY-Mip6JvrkB",
        "colab_type": "code",
        "colab": {},
        "outputId": "ae8e932a-8cce-4452-f3ac-b4ded03e9741"
      },
      "source": [
        "s+=2 #adds two to each item in s using broadcasting\n",
        "s.head()"
      ],
      "execution_count": 0,
      "outputs": [
        {
          "output_type": "execute_result",
          "data": {
            "text/plain": [
              "0    737\n",
              "1    695\n",
              "2    423\n",
              "3    451\n",
              "4    897\n",
              "dtype: int64"
            ]
          },
          "metadata": {
            "tags": []
          },
          "execution_count": 28
        }
      ]
    },
    {
      "cell_type": "code",
      "metadata": {
        "id": "7oqRZSJwvrkF",
        "colab_type": "code",
        "colab": {},
        "outputId": "a4974b21-bfc0-4fae-e1b4-3a62a95cfec9"
      },
      "source": [
        "for label, value in s.iteritems():\n",
        "    s.set_value(label, value+2)\n",
        "s.head()"
      ],
      "execution_count": 0,
      "outputs": [
        {
          "output_type": "stream",
          "text": [
            "/home/jederson_luz/anaconda3/lib/python3.7/site-packages/ipykernel_launcher.py:2: FutureWarning: set_value is deprecated and will be removed in a future release. Please use .at[] or .iat[] accessors instead\n",
            "  \n"
          ],
          "name": "stderr"
        },
        {
          "output_type": "execute_result",
          "data": {
            "text/plain": [
              "0    739\n",
              "1    697\n",
              "2    425\n",
              "3    453\n",
              "4    899\n",
              "dtype: int64"
            ]
          },
          "metadata": {
            "tags": []
          },
          "execution_count": 29
        }
      ]
    },
    {
      "cell_type": "code",
      "metadata": {
        "id": "kxtiWOqQvrkL",
        "colab_type": "code",
        "colab": {},
        "outputId": "bd753103-4c8b-4e93-ff89-696ad312459a"
      },
      "source": [
        "%%timeit -n 10\n",
        "s = pd.Series(np.random.randint(0,1000,10000))\n",
        "for label, value in s.iteritems():\n",
        "    s.loc[label]= value+2"
      ],
      "execution_count": 0,
      "outputs": [
        {
          "output_type": "stream",
          "text": [
            "5.93 s ± 203 ms per loop (mean ± std. dev. of 7 runs, 10 loops each)\n"
          ],
          "name": "stdout"
        }
      ]
    },
    {
      "cell_type": "code",
      "metadata": {
        "id": "uxfCZ4NxvrkQ",
        "colab_type": "code",
        "colab": {},
        "outputId": "40849613-7718-4d0f-cc5c-746e19646128"
      },
      "source": [
        "%%timeit -n 10\n",
        "s = pd.Series(np.random.randint(0,1000,10000))\n",
        "s+=2\n"
      ],
      "execution_count": 0,
      "outputs": [
        {
          "output_type": "stream",
          "text": [
            "640 µs ± 40.9 µs per loop (mean ± std. dev. of 7 runs, 10 loops each)\n"
          ],
          "name": "stdout"
        }
      ]
    },
    {
      "cell_type": "code",
      "metadata": {
        "id": "IWetp02OvrkU",
        "colab_type": "code",
        "colab": {},
        "outputId": "896ae859-3e38-47c3-8e2d-a3c9a3d55590"
      },
      "source": [
        "s = pd.Series([1, 2, 3])\n",
        "s.loc['Animal'] = 'Bears'\n",
        "s"
      ],
      "execution_count": 0,
      "outputs": [
        {
          "output_type": "execute_result",
          "data": {
            "text/plain": [
              "0             1\n",
              "1             2\n",
              "2             3\n",
              "Animal    Bears\n",
              "dtype: object"
            ]
          },
          "metadata": {
            "tags": []
          },
          "execution_count": 32
        }
      ]
    },
    {
      "cell_type": "code",
      "metadata": {
        "id": "zYHqaKaAvrkY",
        "colab_type": "code",
        "colab": {}
      },
      "source": [
        "original_sports = pd.Series({'Archery': 'Bhutan',\n",
        "                             'Golf': 'Scotland',\n",
        "                             'Sumo': 'Japan',\n",
        "                             'Taekwondo': 'South Korea'})\n",
        "cricket_loving_countries = pd.Series(['Australia',\n",
        "                                      'Barbados',\n",
        "                                      'Pakistan',\n",
        "                                      'England'], \n",
        "                                   index=['Cricket',\n",
        "                                          'Cricket',\n",
        "                                          'Cricket',\n",
        "                                          'Cricket'])\n",
        "all_countries = original_sports.append(cricket_loving_countries)"
      ],
      "execution_count": 0,
      "outputs": []
    },
    {
      "cell_type": "code",
      "metadata": {
        "id": "37oQgzl2vrkd",
        "colab_type": "code",
        "colab": {},
        "outputId": "173e6104-9138-45e4-91d2-57d0020adc10"
      },
      "source": [
        "original_sports"
      ],
      "execution_count": 0,
      "outputs": [
        {
          "output_type": "execute_result",
          "data": {
            "text/plain": [
              "Archery           Bhutan\n",
              "Golf            Scotland\n",
              "Sumo               Japan\n",
              "Taekwondo    South Korea\n",
              "dtype: object"
            ]
          },
          "metadata": {
            "tags": []
          },
          "execution_count": 34
        }
      ]
    },
    {
      "cell_type": "code",
      "metadata": {
        "id": "uixpTorKvrkg",
        "colab_type": "code",
        "colab": {},
        "outputId": "49fc2adc-c0f1-446c-d212-0e2c791ed8a9"
      },
      "source": [
        "cricket_loving_countries"
      ],
      "execution_count": 0,
      "outputs": [
        {
          "output_type": "execute_result",
          "data": {
            "text/plain": [
              "Cricket    Australia\n",
              "Cricket     Barbados\n",
              "Cricket     Pakistan\n",
              "Cricket      England\n",
              "dtype: object"
            ]
          },
          "metadata": {
            "tags": []
          },
          "execution_count": 35
        }
      ]
    },
    {
      "cell_type": "code",
      "metadata": {
        "id": "iA3LQf2nvrkk",
        "colab_type": "code",
        "colab": {},
        "outputId": "ec3db25d-aacc-46fe-e176-dda0d6627a6b"
      },
      "source": [
        "all_countries"
      ],
      "execution_count": 0,
      "outputs": [
        {
          "output_type": "execute_result",
          "data": {
            "text/plain": [
              "Archery           Bhutan\n",
              "Golf            Scotland\n",
              "Sumo               Japan\n",
              "Taekwondo    South Korea\n",
              "Cricket        Australia\n",
              "Cricket         Barbados\n",
              "Cricket         Pakistan\n",
              "Cricket          England\n",
              "dtype: object"
            ]
          },
          "metadata": {
            "tags": []
          },
          "execution_count": 36
        }
      ]
    },
    {
      "cell_type": "code",
      "metadata": {
        "id": "xgY34uKovrkp",
        "colab_type": "code",
        "colab": {},
        "outputId": "3dba36f7-b032-400a-c045-d4ab9a6ed217"
      },
      "source": [
        "all_countries.loc['Cricket']"
      ],
      "execution_count": 0,
      "outputs": [
        {
          "output_type": "execute_result",
          "data": {
            "text/plain": [
              "Cricket    Australia\n",
              "Cricket     Barbados\n",
              "Cricket     Pakistan\n",
              "Cricket      England\n",
              "dtype: object"
            ]
          },
          "metadata": {
            "tags": []
          },
          "execution_count": 37
        }
      ]
    },
    {
      "cell_type": "markdown",
      "metadata": {
        "id": "drt7VGRwvrku",
        "colab_type": "text"
      },
      "source": [
        "# The DataFrame Data Structure"
      ]
    },
    {
      "cell_type": "code",
      "metadata": {
        "id": "uKV9HIG0vrkv",
        "colab_type": "code",
        "colab": {},
        "outputId": "81de94f0-92d3-4245-e78b-3fa9ce21ea2c"
      },
      "source": [
        "import pandas as pd\n",
        "purchase_1 = pd.Series({'Name': 'Chris',\n",
        "                        'Item Purchased': 'Dog Food',\n",
        "                        'Cost': 22.50})\n",
        "purchase_2 = pd.Series({'Name': 'Kevyn',\n",
        "                        'Item Purchased': 'Kitty Litter',\n",
        "                        'Cost': 2.50})\n",
        "purchase_3 = pd.Series({'Name': 'Vinod',\n",
        "                        'Item Purchased': 'Bird Seed',\n",
        "                        'Cost': 5.00})\n",
        "df = pd.DataFrame([purchase_1, purchase_2, purchase_3], index=['Store 1', 'Store 1', 'Store 2'])\n",
        "df.head()"
      ],
      "execution_count": 0,
      "outputs": [
        {
          "output_type": "execute_result",
          "data": {
            "text/html": [
              "<div>\n",
              "<style scoped>\n",
              "    .dataframe tbody tr th:only-of-type {\n",
              "        vertical-align: middle;\n",
              "    }\n",
              "\n",
              "    .dataframe tbody tr th {\n",
              "        vertical-align: top;\n",
              "    }\n",
              "\n",
              "    .dataframe thead th {\n",
              "        text-align: right;\n",
              "    }\n",
              "</style>\n",
              "<table border=\"1\" class=\"dataframe\">\n",
              "  <thead>\n",
              "    <tr style=\"text-align: right;\">\n",
              "      <th></th>\n",
              "      <th>Name</th>\n",
              "      <th>Item Purchased</th>\n",
              "      <th>Cost</th>\n",
              "    </tr>\n",
              "  </thead>\n",
              "  <tbody>\n",
              "    <tr>\n",
              "      <td>Store 1</td>\n",
              "      <td>Chris</td>\n",
              "      <td>Dog Food</td>\n",
              "      <td>22.5</td>\n",
              "    </tr>\n",
              "    <tr>\n",
              "      <td>Store 1</td>\n",
              "      <td>Kevyn</td>\n",
              "      <td>Kitty Litter</td>\n",
              "      <td>2.5</td>\n",
              "    </tr>\n",
              "    <tr>\n",
              "      <td>Store 2</td>\n",
              "      <td>Vinod</td>\n",
              "      <td>Bird Seed</td>\n",
              "      <td>5.0</td>\n",
              "    </tr>\n",
              "  </tbody>\n",
              "</table>\n",
              "</div>"
            ],
            "text/plain": [
              "          Name Item Purchased  Cost\n",
              "Store 1  Chris       Dog Food  22.5\n",
              "Store 1  Kevyn   Kitty Litter   2.5\n",
              "Store 2  Vinod      Bird Seed   5.0"
            ]
          },
          "metadata": {
            "tags": []
          },
          "execution_count": 38
        }
      ]
    },
    {
      "cell_type": "code",
      "metadata": {
        "id": "T-Z88VXpvrk1",
        "colab_type": "code",
        "colab": {},
        "outputId": "a5308eef-43c0-4bf5-cd29-e4a09aeebae0"
      },
      "source": [
        "df.loc['Store 2']"
      ],
      "execution_count": 0,
      "outputs": [
        {
          "output_type": "execute_result",
          "data": {
            "text/plain": [
              "Name                  Vinod\n",
              "Item Purchased    Bird Seed\n",
              "Cost                      5\n",
              "Name: Store 2, dtype: object"
            ]
          },
          "metadata": {
            "tags": []
          },
          "execution_count": 39
        }
      ]
    },
    {
      "cell_type": "code",
      "metadata": {
        "id": "8Qw4bUBVvrk4",
        "colab_type": "code",
        "colab": {},
        "outputId": "fa85c8c0-7f0c-4984-d3a1-2167ef10123c"
      },
      "source": [
        "type(df.loc['Store 2'])"
      ],
      "execution_count": 0,
      "outputs": [
        {
          "output_type": "execute_result",
          "data": {
            "text/plain": [
              "pandas.core.series.Series"
            ]
          },
          "metadata": {
            "tags": []
          },
          "execution_count": 40
        }
      ]
    },
    {
      "cell_type": "code",
      "metadata": {
        "id": "uVHVuZOivrk_",
        "colab_type": "code",
        "colab": {},
        "outputId": "981ec1ed-d5d0-49ca-bbf8-dff22a63bbb7"
      },
      "source": [
        "df.loc['Store 1']"
      ],
      "execution_count": 0,
      "outputs": [
        {
          "output_type": "execute_result",
          "data": {
            "text/html": [
              "<div>\n",
              "<style scoped>\n",
              "    .dataframe tbody tr th:only-of-type {\n",
              "        vertical-align: middle;\n",
              "    }\n",
              "\n",
              "    .dataframe tbody tr th {\n",
              "        vertical-align: top;\n",
              "    }\n",
              "\n",
              "    .dataframe thead th {\n",
              "        text-align: right;\n",
              "    }\n",
              "</style>\n",
              "<table border=\"1\" class=\"dataframe\">\n",
              "  <thead>\n",
              "    <tr style=\"text-align: right;\">\n",
              "      <th></th>\n",
              "      <th>Name</th>\n",
              "      <th>Item Purchased</th>\n",
              "      <th>Cost</th>\n",
              "    </tr>\n",
              "  </thead>\n",
              "  <tbody>\n",
              "    <tr>\n",
              "      <td>Store 1</td>\n",
              "      <td>Chris</td>\n",
              "      <td>Dog Food</td>\n",
              "      <td>22.5</td>\n",
              "    </tr>\n",
              "    <tr>\n",
              "      <td>Store 1</td>\n",
              "      <td>Kevyn</td>\n",
              "      <td>Kitty Litter</td>\n",
              "      <td>2.5</td>\n",
              "    </tr>\n",
              "  </tbody>\n",
              "</table>\n",
              "</div>"
            ],
            "text/plain": [
              "          Name Item Purchased  Cost\n",
              "Store 1  Chris       Dog Food  22.5\n",
              "Store 1  Kevyn   Kitty Litter   2.5"
            ]
          },
          "metadata": {
            "tags": []
          },
          "execution_count": 41
        }
      ]
    },
    {
      "cell_type": "code",
      "metadata": {
        "id": "_PHOBbDJvrlD",
        "colab_type": "code",
        "colab": {},
        "outputId": "4603b293-f9ae-448f-b56c-ec15ff10cbcf"
      },
      "source": [
        "df.loc['Store 1', 'Cost']"
      ],
      "execution_count": 0,
      "outputs": [
        {
          "output_type": "execute_result",
          "data": {
            "text/plain": [
              "Store 1    22.5\n",
              "Store 1     2.5\n",
              "Name: Cost, dtype: float64"
            ]
          },
          "metadata": {
            "tags": []
          },
          "execution_count": 42
        }
      ]
    },
    {
      "cell_type": "code",
      "metadata": {
        "id": "CmIzUfqfvrlI",
        "colab_type": "code",
        "colab": {},
        "outputId": "9ed11d8d-4dbb-47f1-ab21-466cb3c361cf"
      },
      "source": [
        "df.T"
      ],
      "execution_count": 0,
      "outputs": [
        {
          "output_type": "execute_result",
          "data": {
            "text/html": [
              "<div>\n",
              "<style scoped>\n",
              "    .dataframe tbody tr th:only-of-type {\n",
              "        vertical-align: middle;\n",
              "    }\n",
              "\n",
              "    .dataframe tbody tr th {\n",
              "        vertical-align: top;\n",
              "    }\n",
              "\n",
              "    .dataframe thead th {\n",
              "        text-align: right;\n",
              "    }\n",
              "</style>\n",
              "<table border=\"1\" class=\"dataframe\">\n",
              "  <thead>\n",
              "    <tr style=\"text-align: right;\">\n",
              "      <th></th>\n",
              "      <th>Store 1</th>\n",
              "      <th>Store 1</th>\n",
              "      <th>Store 2</th>\n",
              "    </tr>\n",
              "  </thead>\n",
              "  <tbody>\n",
              "    <tr>\n",
              "      <td>Name</td>\n",
              "      <td>Chris</td>\n",
              "      <td>Kevyn</td>\n",
              "      <td>Vinod</td>\n",
              "    </tr>\n",
              "    <tr>\n",
              "      <td>Item Purchased</td>\n",
              "      <td>Dog Food</td>\n",
              "      <td>Kitty Litter</td>\n",
              "      <td>Bird Seed</td>\n",
              "    </tr>\n",
              "    <tr>\n",
              "      <td>Cost</td>\n",
              "      <td>22.5</td>\n",
              "      <td>2.5</td>\n",
              "      <td>5</td>\n",
              "    </tr>\n",
              "  </tbody>\n",
              "</table>\n",
              "</div>"
            ],
            "text/plain": [
              "                 Store 1       Store 1    Store 2\n",
              "Name               Chris         Kevyn      Vinod\n",
              "Item Purchased  Dog Food  Kitty Litter  Bird Seed\n",
              "Cost                22.5           2.5          5"
            ]
          },
          "metadata": {
            "tags": []
          },
          "execution_count": 43
        }
      ]
    },
    {
      "cell_type": "code",
      "metadata": {
        "id": "LWoyrIT6vrlL",
        "colab_type": "code",
        "colab": {},
        "outputId": "a668da1d-82c5-4c72-e7b9-0476be1b38da"
      },
      "source": [
        "df.T.loc['Cost']"
      ],
      "execution_count": 0,
      "outputs": [
        {
          "output_type": "execute_result",
          "data": {
            "text/plain": [
              "Store 1    22.5\n",
              "Store 1     2.5\n",
              "Store 2       5\n",
              "Name: Cost, dtype: object"
            ]
          },
          "metadata": {
            "tags": []
          },
          "execution_count": 44
        }
      ]
    },
    {
      "cell_type": "code",
      "metadata": {
        "id": "8gXn4A3LvrlP",
        "colab_type": "code",
        "colab": {},
        "outputId": "93836bd3-10c2-400e-d714-2af7d5150799"
      },
      "source": [
        "df['Cost']"
      ],
      "execution_count": 0,
      "outputs": [
        {
          "output_type": "execute_result",
          "data": {
            "text/plain": [
              "Store 1    22.5\n",
              "Store 1     2.5\n",
              "Store 2     5.0\n",
              "Name: Cost, dtype: float64"
            ]
          },
          "metadata": {
            "tags": []
          },
          "execution_count": 45
        }
      ]
    },
    {
      "cell_type": "code",
      "metadata": {
        "id": "uWjwIIBovrlT",
        "colab_type": "code",
        "colab": {},
        "outputId": "65b97893-5c6a-41de-b348-0371aa6cd679"
      },
      "source": [
        "df.loc['Store 1']['Cost']"
      ],
      "execution_count": 0,
      "outputs": [
        {
          "output_type": "execute_result",
          "data": {
            "text/plain": [
              "Store 1    22.5\n",
              "Store 1     2.5\n",
              "Name: Cost, dtype: float64"
            ]
          },
          "metadata": {
            "tags": []
          },
          "execution_count": 46
        }
      ]
    },
    {
      "cell_type": "code",
      "metadata": {
        "id": "I2MC_j7jvrlZ",
        "colab_type": "code",
        "colab": {},
        "outputId": "cffce5df-efcc-4a83-ba6e-95b341a752b5"
      },
      "source": [
        "df.loc[:,['Name', 'Cost']]"
      ],
      "execution_count": 0,
      "outputs": [
        {
          "output_type": "execute_result",
          "data": {
            "text/html": [
              "<div>\n",
              "<style scoped>\n",
              "    .dataframe tbody tr th:only-of-type {\n",
              "        vertical-align: middle;\n",
              "    }\n",
              "\n",
              "    .dataframe tbody tr th {\n",
              "        vertical-align: top;\n",
              "    }\n",
              "\n",
              "    .dataframe thead th {\n",
              "        text-align: right;\n",
              "    }\n",
              "</style>\n",
              "<table border=\"1\" class=\"dataframe\">\n",
              "  <thead>\n",
              "    <tr style=\"text-align: right;\">\n",
              "      <th></th>\n",
              "      <th>Name</th>\n",
              "      <th>Cost</th>\n",
              "    </tr>\n",
              "  </thead>\n",
              "  <tbody>\n",
              "    <tr>\n",
              "      <td>Store 1</td>\n",
              "      <td>Chris</td>\n",
              "      <td>22.5</td>\n",
              "    </tr>\n",
              "    <tr>\n",
              "      <td>Store 1</td>\n",
              "      <td>Kevyn</td>\n",
              "      <td>2.5</td>\n",
              "    </tr>\n",
              "    <tr>\n",
              "      <td>Store 2</td>\n",
              "      <td>Vinod</td>\n",
              "      <td>5.0</td>\n",
              "    </tr>\n",
              "  </tbody>\n",
              "</table>\n",
              "</div>"
            ],
            "text/plain": [
              "          Name  Cost\n",
              "Store 1  Chris  22.5\n",
              "Store 1  Kevyn   2.5\n",
              "Store 2  Vinod   5.0"
            ]
          },
          "metadata": {
            "tags": []
          },
          "execution_count": 47
        }
      ]
    },
    {
      "cell_type": "code",
      "metadata": {
        "id": "i_cgcqKbvrld",
        "colab_type": "code",
        "colab": {},
        "outputId": "377667d4-8bdd-4003-eb33-0a24417035f8"
      },
      "source": [
        "df.drop('Store 1')"
      ],
      "execution_count": 0,
      "outputs": [
        {
          "output_type": "execute_result",
          "data": {
            "text/html": [
              "<div>\n",
              "<style scoped>\n",
              "    .dataframe tbody tr th:only-of-type {\n",
              "        vertical-align: middle;\n",
              "    }\n",
              "\n",
              "    .dataframe tbody tr th {\n",
              "        vertical-align: top;\n",
              "    }\n",
              "\n",
              "    .dataframe thead th {\n",
              "        text-align: right;\n",
              "    }\n",
              "</style>\n",
              "<table border=\"1\" class=\"dataframe\">\n",
              "  <thead>\n",
              "    <tr style=\"text-align: right;\">\n",
              "      <th></th>\n",
              "      <th>Name</th>\n",
              "      <th>Item Purchased</th>\n",
              "      <th>Cost</th>\n",
              "    </tr>\n",
              "  </thead>\n",
              "  <tbody>\n",
              "    <tr>\n",
              "      <td>Store 2</td>\n",
              "      <td>Vinod</td>\n",
              "      <td>Bird Seed</td>\n",
              "      <td>5.0</td>\n",
              "    </tr>\n",
              "  </tbody>\n",
              "</table>\n",
              "</div>"
            ],
            "text/plain": [
              "          Name Item Purchased  Cost\n",
              "Store 2  Vinod      Bird Seed   5.0"
            ]
          },
          "metadata": {
            "tags": []
          },
          "execution_count": 48
        }
      ]
    },
    {
      "cell_type": "code",
      "metadata": {
        "id": "_-jlws5cvrlg",
        "colab_type": "code",
        "colab": {},
        "outputId": "7d4a1104-bab6-4b3e-fe08-cb93f603720b"
      },
      "source": [
        "df"
      ],
      "execution_count": 0,
      "outputs": [
        {
          "output_type": "execute_result",
          "data": {
            "text/html": [
              "<div>\n",
              "<style scoped>\n",
              "    .dataframe tbody tr th:only-of-type {\n",
              "        vertical-align: middle;\n",
              "    }\n",
              "\n",
              "    .dataframe tbody tr th {\n",
              "        vertical-align: top;\n",
              "    }\n",
              "\n",
              "    .dataframe thead th {\n",
              "        text-align: right;\n",
              "    }\n",
              "</style>\n",
              "<table border=\"1\" class=\"dataframe\">\n",
              "  <thead>\n",
              "    <tr style=\"text-align: right;\">\n",
              "      <th></th>\n",
              "      <th>Name</th>\n",
              "      <th>Item Purchased</th>\n",
              "      <th>Cost</th>\n",
              "    </tr>\n",
              "  </thead>\n",
              "  <tbody>\n",
              "    <tr>\n",
              "      <td>Store 1</td>\n",
              "      <td>Chris</td>\n",
              "      <td>Dog Food</td>\n",
              "      <td>22.5</td>\n",
              "    </tr>\n",
              "    <tr>\n",
              "      <td>Store 1</td>\n",
              "      <td>Kevyn</td>\n",
              "      <td>Kitty Litter</td>\n",
              "      <td>2.5</td>\n",
              "    </tr>\n",
              "    <tr>\n",
              "      <td>Store 2</td>\n",
              "      <td>Vinod</td>\n",
              "      <td>Bird Seed</td>\n",
              "      <td>5.0</td>\n",
              "    </tr>\n",
              "  </tbody>\n",
              "</table>\n",
              "</div>"
            ],
            "text/plain": [
              "          Name Item Purchased  Cost\n",
              "Store 1  Chris       Dog Food  22.5\n",
              "Store 1  Kevyn   Kitty Litter   2.5\n",
              "Store 2  Vinod      Bird Seed   5.0"
            ]
          },
          "metadata": {
            "tags": []
          },
          "execution_count": 49
        }
      ]
    },
    {
      "cell_type": "code",
      "metadata": {
        "id": "Fnc1om7dvrlj",
        "colab_type": "code",
        "colab": {},
        "outputId": "00cc0b2c-d39e-4870-8f79-416cc0be4f14"
      },
      "source": [
        "copy_df = df.copy()\n",
        "copy_df = copy_df.drop('Store 1')\n",
        "copy_df"
      ],
      "execution_count": 0,
      "outputs": [
        {
          "output_type": "execute_result",
          "data": {
            "text/html": [
              "<div>\n",
              "<style scoped>\n",
              "    .dataframe tbody tr th:only-of-type {\n",
              "        vertical-align: middle;\n",
              "    }\n",
              "\n",
              "    .dataframe tbody tr th {\n",
              "        vertical-align: top;\n",
              "    }\n",
              "\n",
              "    .dataframe thead th {\n",
              "        text-align: right;\n",
              "    }\n",
              "</style>\n",
              "<table border=\"1\" class=\"dataframe\">\n",
              "  <thead>\n",
              "    <tr style=\"text-align: right;\">\n",
              "      <th></th>\n",
              "      <th>Name</th>\n",
              "      <th>Item Purchased</th>\n",
              "      <th>Cost</th>\n",
              "    </tr>\n",
              "  </thead>\n",
              "  <tbody>\n",
              "    <tr>\n",
              "      <td>Store 2</td>\n",
              "      <td>Vinod</td>\n",
              "      <td>Bird Seed</td>\n",
              "      <td>5.0</td>\n",
              "    </tr>\n",
              "  </tbody>\n",
              "</table>\n",
              "</div>"
            ],
            "text/plain": [
              "          Name Item Purchased  Cost\n",
              "Store 2  Vinod      Bird Seed   5.0"
            ]
          },
          "metadata": {
            "tags": []
          },
          "execution_count": 50
        }
      ]
    },
    {
      "cell_type": "code",
      "metadata": {
        "id": "O7ep-4oBvrlm",
        "colab_type": "code",
        "colab": {},
        "outputId": "340f4b0f-d5da-477c-b5be-c992bd1173c6"
      },
      "source": [
        "copy_df.drop?"
      ],
      "execution_count": 0,
      "outputs": [
        {
          "output_type": "display_data",
          "data": {
            "text/plain": [
              "\u001b[0;31mSignature:\u001b[0m\n",
              "\u001b[0mcopy_df\u001b[0m\u001b[0;34m.\u001b[0m\u001b[0mdrop\u001b[0m\u001b[0;34m(\u001b[0m\u001b[0;34m\u001b[0m\n",
              "\u001b[0;34m\u001b[0m    \u001b[0mlabels\u001b[0m\u001b[0;34m=\u001b[0m\u001b[0;32mNone\u001b[0m\u001b[0;34m,\u001b[0m\u001b[0;34m\u001b[0m\n",
              "\u001b[0;34m\u001b[0m    \u001b[0maxis\u001b[0m\u001b[0;34m=\u001b[0m\u001b[0;36m0\u001b[0m\u001b[0;34m,\u001b[0m\u001b[0;34m\u001b[0m\n",
              "\u001b[0;34m\u001b[0m    \u001b[0mindex\u001b[0m\u001b[0;34m=\u001b[0m\u001b[0;32mNone\u001b[0m\u001b[0;34m,\u001b[0m\u001b[0;34m\u001b[0m\n",
              "\u001b[0;34m\u001b[0m    \u001b[0mcolumns\u001b[0m\u001b[0;34m=\u001b[0m\u001b[0;32mNone\u001b[0m\u001b[0;34m,\u001b[0m\u001b[0;34m\u001b[0m\n",
              "\u001b[0;34m\u001b[0m    \u001b[0mlevel\u001b[0m\u001b[0;34m=\u001b[0m\u001b[0;32mNone\u001b[0m\u001b[0;34m,\u001b[0m\u001b[0;34m\u001b[0m\n",
              "\u001b[0;34m\u001b[0m    \u001b[0minplace\u001b[0m\u001b[0;34m=\u001b[0m\u001b[0;32mFalse\u001b[0m\u001b[0;34m,\u001b[0m\u001b[0;34m\u001b[0m\n",
              "\u001b[0;34m\u001b[0m    \u001b[0merrors\u001b[0m\u001b[0;34m=\u001b[0m\u001b[0;34m'raise'\u001b[0m\u001b[0;34m,\u001b[0m\u001b[0;34m\u001b[0m\n",
              "\u001b[0;34m\u001b[0m\u001b[0;34m)\u001b[0m\u001b[0;34m\u001b[0m\u001b[0;34m\u001b[0m\u001b[0m\n",
              "\u001b[0;31mDocstring:\u001b[0m\n",
              "Drop specified labels from rows or columns.\n",
              "\n",
              "Remove rows or columns by specifying label names and corresponding\n",
              "axis, or by specifying directly index or column names. When using a\n",
              "multi-index, labels on different levels can be removed by specifying\n",
              "the level.\n",
              "\n",
              "Parameters\n",
              "----------\n",
              "labels : single label or list-like\n",
              "    Index or column labels to drop.\n",
              "axis : {0 or 'index', 1 or 'columns'}, default 0\n",
              "    Whether to drop labels from the index (0 or 'index') or\n",
              "    columns (1 or 'columns').\n",
              "index : single label or list-like\n",
              "    Alternative to specifying axis (``labels, axis=0``\n",
              "    is equivalent to ``index=labels``).\n",
              "\n",
              "    .. versionadded:: 0.21.0\n",
              "columns : single label or list-like\n",
              "    Alternative to specifying axis (``labels, axis=1``\n",
              "    is equivalent to ``columns=labels``).\n",
              "\n",
              "    .. versionadded:: 0.21.0\n",
              "level : int or level name, optional\n",
              "    For MultiIndex, level from which the labels will be removed.\n",
              "inplace : bool, default False\n",
              "    If True, do operation inplace and return None.\n",
              "errors : {'ignore', 'raise'}, default 'raise'\n",
              "    If 'ignore', suppress error and only existing labels are\n",
              "    dropped.\n",
              "\n",
              "Returns\n",
              "-------\n",
              "DataFrame\n",
              "    DataFrame without the removed index or column labels.\n",
              "\n",
              "Raises\n",
              "------\n",
              "KeyError\n",
              "    If any of the labels is not found in the selected axis.\n",
              "\n",
              "See Also\n",
              "--------\n",
              "DataFrame.loc : Label-location based indexer for selection by label.\n",
              "DataFrame.dropna : Return DataFrame with labels on given axis omitted\n",
              "    where (all or any) data are missing.\n",
              "DataFrame.drop_duplicates : Return DataFrame with duplicate rows\n",
              "    removed, optionally only considering certain columns.\n",
              "Series.drop : Return Series with specified index labels removed.\n",
              "\n",
              "Examples\n",
              "--------\n",
              ">>> df = pd.DataFrame(np.arange(12).reshape(3, 4),\n",
              "...                   columns=['A', 'B', 'C', 'D'])\n",
              ">>> df\n",
              "   A  B   C   D\n",
              "0  0  1   2   3\n",
              "1  4  5   6   7\n",
              "2  8  9  10  11\n",
              "\n",
              "Drop columns\n",
              "\n",
              ">>> df.drop(['B', 'C'], axis=1)\n",
              "   A   D\n",
              "0  0   3\n",
              "1  4   7\n",
              "2  8  11\n",
              "\n",
              ">>> df.drop(columns=['B', 'C'])\n",
              "   A   D\n",
              "0  0   3\n",
              "1  4   7\n",
              "2  8  11\n",
              "\n",
              "Drop a row by index\n",
              "\n",
              ">>> df.drop([0, 1])\n",
              "   A  B   C   D\n",
              "2  8  9  10  11\n",
              "\n",
              "Drop columns and/or rows of MultiIndex DataFrame\n",
              "\n",
              ">>> midx = pd.MultiIndex(levels=[['lama', 'cow', 'falcon'],\n",
              "...                              ['speed', 'weight', 'length']],\n",
              "...                      codes=[[0, 0, 0, 1, 1, 1, 2, 2, 2],\n",
              "...                             [0, 1, 2, 0, 1, 2, 0, 1, 2]])\n",
              ">>> df = pd.DataFrame(index=midx, columns=['big', 'small'],\n",
              "...                   data=[[45, 30], [200, 100], [1.5, 1], [30, 20],\n",
              "...                         [250, 150], [1.5, 0.8], [320, 250],\n",
              "...                         [1, 0.8], [0.3, 0.2]])\n",
              ">>> df\n",
              "                big     small\n",
              "lama    speed   45.0    30.0\n",
              "        weight  200.0   100.0\n",
              "        length  1.5     1.0\n",
              "cow     speed   30.0    20.0\n",
              "        weight  250.0   150.0\n",
              "        length  1.5     0.8\n",
              "falcon  speed   320.0   250.0\n",
              "        weight  1.0     0.8\n",
              "        length  0.3     0.2\n",
              "\n",
              ">>> df.drop(index='cow', columns='small')\n",
              "                big\n",
              "lama    speed   45.0\n",
              "        weight  200.0\n",
              "        length  1.5\n",
              "falcon  speed   320.0\n",
              "        weight  1.0\n",
              "        length  0.3\n",
              "\n",
              ">>> df.drop(index='length', level=1)\n",
              "                big     small\n",
              "lama    speed   45.0    30.0\n",
              "        weight  200.0   100.0\n",
              "cow     speed   30.0    20.0\n",
              "        weight  250.0   150.0\n",
              "falcon  speed   320.0   250.0\n",
              "        weight  1.0     0.8\n",
              "\u001b[0;31mFile:\u001b[0m      ~/anaconda3/lib/python3.7/site-packages/pandas/core/frame.py\n",
              "\u001b[0;31mType:\u001b[0m      method\n"
            ]
          },
          "metadata": {
            "tags": []
          }
        }
      ]
    },
    {
      "cell_type": "code",
      "metadata": {
        "id": "Xv_bZCVgvrlp",
        "colab_type": "code",
        "colab": {},
        "outputId": "955c8a17-53c6-4eb1-8388-35707f60f799"
      },
      "source": [
        "del copy_df['Name']\n",
        "copy_df"
      ],
      "execution_count": 0,
      "outputs": [
        {
          "output_type": "execute_result",
          "data": {
            "text/html": [
              "<div>\n",
              "<style scoped>\n",
              "    .dataframe tbody tr th:only-of-type {\n",
              "        vertical-align: middle;\n",
              "    }\n",
              "\n",
              "    .dataframe tbody tr th {\n",
              "        vertical-align: top;\n",
              "    }\n",
              "\n",
              "    .dataframe thead th {\n",
              "        text-align: right;\n",
              "    }\n",
              "</style>\n",
              "<table border=\"1\" class=\"dataframe\">\n",
              "  <thead>\n",
              "    <tr style=\"text-align: right;\">\n",
              "      <th></th>\n",
              "      <th>Item Purchased</th>\n",
              "      <th>Cost</th>\n",
              "    </tr>\n",
              "  </thead>\n",
              "  <tbody>\n",
              "    <tr>\n",
              "      <td>Store 2</td>\n",
              "      <td>Bird Seed</td>\n",
              "      <td>5.0</td>\n",
              "    </tr>\n",
              "  </tbody>\n",
              "</table>\n",
              "</div>"
            ],
            "text/plain": [
              "        Item Purchased  Cost\n",
              "Store 2      Bird Seed   5.0"
            ]
          },
          "metadata": {
            "tags": []
          },
          "execution_count": 52
        }
      ]
    },
    {
      "cell_type": "code",
      "metadata": {
        "id": "xE4e2D5Avrlr",
        "colab_type": "code",
        "colab": {},
        "outputId": "49645d5b-4490-4aae-a51c-ab23552442b9"
      },
      "source": [
        "df['Location'] = None\n",
        "df"
      ],
      "execution_count": 0,
      "outputs": [
        {
          "output_type": "execute_result",
          "data": {
            "text/html": [
              "<div>\n",
              "<style scoped>\n",
              "    .dataframe tbody tr th:only-of-type {\n",
              "        vertical-align: middle;\n",
              "    }\n",
              "\n",
              "    .dataframe tbody tr th {\n",
              "        vertical-align: top;\n",
              "    }\n",
              "\n",
              "    .dataframe thead th {\n",
              "        text-align: right;\n",
              "    }\n",
              "</style>\n",
              "<table border=\"1\" class=\"dataframe\">\n",
              "  <thead>\n",
              "    <tr style=\"text-align: right;\">\n",
              "      <th></th>\n",
              "      <th>Name</th>\n",
              "      <th>Item Purchased</th>\n",
              "      <th>Cost</th>\n",
              "      <th>Location</th>\n",
              "    </tr>\n",
              "  </thead>\n",
              "  <tbody>\n",
              "    <tr>\n",
              "      <td>Store 1</td>\n",
              "      <td>Chris</td>\n",
              "      <td>Dog Food</td>\n",
              "      <td>22.5</td>\n",
              "      <td>None</td>\n",
              "    </tr>\n",
              "    <tr>\n",
              "      <td>Store 1</td>\n",
              "      <td>Kevyn</td>\n",
              "      <td>Kitty Litter</td>\n",
              "      <td>2.5</td>\n",
              "      <td>None</td>\n",
              "    </tr>\n",
              "    <tr>\n",
              "      <td>Store 2</td>\n",
              "      <td>Vinod</td>\n",
              "      <td>Bird Seed</td>\n",
              "      <td>5.0</td>\n",
              "      <td>None</td>\n",
              "    </tr>\n",
              "  </tbody>\n",
              "</table>\n",
              "</div>"
            ],
            "text/plain": [
              "          Name Item Purchased  Cost Location\n",
              "Store 1  Chris       Dog Food  22.5     None\n",
              "Store 1  Kevyn   Kitty Litter   2.5     None\n",
              "Store 2  Vinod      Bird Seed   5.0     None"
            ]
          },
          "metadata": {
            "tags": []
          },
          "execution_count": 53
        }
      ]
    },
    {
      "cell_type": "markdown",
      "metadata": {
        "id": "Ges5ZDz8vrlu",
        "colab_type": "text"
      },
      "source": [
        "# Dataframe Indexing and Loading"
      ]
    },
    {
      "cell_type": "code",
      "metadata": {
        "id": "dX9rMU_wvrlv",
        "colab_type": "code",
        "colab": {},
        "outputId": "324f7cf5-0727-4a57-e7bc-087f35471cf8"
      },
      "source": [
        "costs = df['Cost']\n",
        "costs"
      ],
      "execution_count": 0,
      "outputs": [
        {
          "output_type": "execute_result",
          "data": {
            "text/plain": [
              "Store 1    22.5\n",
              "Store 1     2.5\n",
              "Store 2     5.0\n",
              "Name: Cost, dtype: float64"
            ]
          },
          "metadata": {
            "tags": []
          },
          "execution_count": 54
        }
      ]
    },
    {
      "cell_type": "code",
      "metadata": {
        "id": "TM_meJb2vrly",
        "colab_type": "code",
        "colab": {},
        "outputId": "8de44abb-3257-498f-ed88-035c19005cbf"
      },
      "source": [
        "costs+=2\n",
        "costs"
      ],
      "execution_count": 0,
      "outputs": [
        {
          "output_type": "execute_result",
          "data": {
            "text/plain": [
              "Store 1    24.5\n",
              "Store 1     4.5\n",
              "Store 2     7.0\n",
              "Name: Cost, dtype: float64"
            ]
          },
          "metadata": {
            "tags": []
          },
          "execution_count": 55
        }
      ]
    },
    {
      "cell_type": "code",
      "metadata": {
        "id": "83W8pQ3Gvrl0",
        "colab_type": "code",
        "colab": {},
        "outputId": "834d83b6-8db4-46e8-a316-bfd929158aff"
      },
      "source": [
        "df"
      ],
      "execution_count": 0,
      "outputs": [
        {
          "output_type": "execute_result",
          "data": {
            "text/html": [
              "<div>\n",
              "<style scoped>\n",
              "    .dataframe tbody tr th:only-of-type {\n",
              "        vertical-align: middle;\n",
              "    }\n",
              "\n",
              "    .dataframe tbody tr th {\n",
              "        vertical-align: top;\n",
              "    }\n",
              "\n",
              "    .dataframe thead th {\n",
              "        text-align: right;\n",
              "    }\n",
              "</style>\n",
              "<table border=\"1\" class=\"dataframe\">\n",
              "  <thead>\n",
              "    <tr style=\"text-align: right;\">\n",
              "      <th></th>\n",
              "      <th>Name</th>\n",
              "      <th>Item Purchased</th>\n",
              "      <th>Cost</th>\n",
              "      <th>Location</th>\n",
              "    </tr>\n",
              "  </thead>\n",
              "  <tbody>\n",
              "    <tr>\n",
              "      <td>Store 1</td>\n",
              "      <td>Chris</td>\n",
              "      <td>Dog Food</td>\n",
              "      <td>24.5</td>\n",
              "      <td>None</td>\n",
              "    </tr>\n",
              "    <tr>\n",
              "      <td>Store 1</td>\n",
              "      <td>Kevyn</td>\n",
              "      <td>Kitty Litter</td>\n",
              "      <td>4.5</td>\n",
              "      <td>None</td>\n",
              "    </tr>\n",
              "    <tr>\n",
              "      <td>Store 2</td>\n",
              "      <td>Vinod</td>\n",
              "      <td>Bird Seed</td>\n",
              "      <td>7.0</td>\n",
              "      <td>None</td>\n",
              "    </tr>\n",
              "  </tbody>\n",
              "</table>\n",
              "</div>"
            ],
            "text/plain": [
              "          Name Item Purchased  Cost Location\n",
              "Store 1  Chris       Dog Food  24.5     None\n",
              "Store 1  Kevyn   Kitty Litter   4.5     None\n",
              "Store 2  Vinod      Bird Seed   7.0     None"
            ]
          },
          "metadata": {
            "tags": []
          },
          "execution_count": 56
        }
      ]
    },
    {
      "cell_type": "code",
      "metadata": {
        "id": "w0sw_q3Vvrl3",
        "colab_type": "code",
        "colab": {},
        "outputId": "b5d8c9a7-dd99-49d8-abd8-386e66973750"
      },
      "source": [
        "!cat olympics.csv"
      ],
      "execution_count": 0,
      "outputs": [
        {
          "output_type": "stream",
          "text": [
            "0,1,2,3,4,5,6,7,8,9,10,11,12,13,14,15\n",
            ",№ Summer,01 !,02 !,03 !,Total,№ Winter,01 !,02 !,03 !,Total,№ Games,01 !,02 !,03 !,Combined total\n",
            "Afghanistan (AFG),13,0,0,2,2,0,0,0,0,0,13,0,0,2,2\n",
            "Algeria (ALG),12,5,2,8,15,3,0,0,0,0,15,5,2,8,15\n",
            "Argentina (ARG),23,18,24,28,70,18,0,0,0,0,41,18,24,28,70\n",
            "Armenia (ARM),5,1,2,9,12,6,0,0,0,0,11,1,2,9,12\n",
            "Australasia (ANZ) [ANZ],2,3,4,5,12,0,0,0,0,0,2,3,4,5,12\n",
            "Australia (AUS) [AUS] [Z],25,139,152,177,468,18,5,3,4,12,43,144,155,181,480\n",
            "Austria (AUT),26,18,33,35,86,22,59,78,81,218,48,77,111,116,304\n",
            "Azerbaijan (AZE),5,6,5,15,26,5,0,0,0,0,10,6,5,15,26\n",
            "Bahamas (BAH),15,5,2,5,12,0,0,0,0,0,15,5,2,5,12\n",
            "Bahrain (BRN),8,0,0,1,1,0,0,0,0,0,8,0,0,1,1\n",
            "Barbados (BAR) [BAR],11,0,0,1,1,0,0,0,0,0,11,0,0,1,1\n",
            "Belarus (BLR),5,12,24,39,75,6,6,4,5,15,11,18,28,44,90\n",
            "Belgium (BEL),25,37,52,53,142,20,1,1,3,5,45,38,53,56,147\n",
            "Bermuda (BER),17,0,0,1,1,7,0,0,0,0,24,0,0,1,1\n",
            "Bohemia (BOH) [BOH] [Z],3,0,1,3,4,0,0,0,0,0,3,0,1,3,4\n",
            "Botswana (BOT),9,0,1,0,1,0,0,0,0,0,9,0,1,0,1\n",
            "Brazil (BRA),21,23,30,55,108,7,0,0,0,0,28,23,30,55,108\n",
            "British West Indies (BWI) [BWI],1,0,0,2,2,0,0,0,0,0,1,0,0,2,2\n",
            "Bulgaria (BUL) [H],19,51,85,78,214,19,1,2,3,6,38,52,87,81,220\n",
            "Burundi (BDI),5,1,0,0,1,0,0,0,0,0,5,1,0,0,1\n",
            "Cameroon (CMR),13,3,1,1,5,1,0,0,0,0,14,3,1,1,5\n",
            "Canada (CAN),25,59,99,121,279,22,62,56,52,170,47,121,155,173,449\n",
            "Chile (CHI) [I],22,2,7,4,13,16,0,0,0,0,38,2,7,4,13\n",
            "China (CHN) [CHN],9,201,146,126,473,10,12,22,19,53,19,213,168,145,526\n",
            "Colombia (COL),18,2,6,11,19,1,0,0,0,0,19,2,6,11,19\n",
            "Costa Rica (CRC),14,1,1,2,4,6,0,0,0,0,20,1,1,2,4\n",
            "Ivory Coast (CIV) [CIV],12,0,1,0,1,0,0,0,0,0,12,0,1,0,1\n",
            "Croatia (CRO),6,6,7,10,23,7,4,6,1,11,13,10,13,11,34\n",
            "Cuba (CUB) [Z],19,72,67,70,209,0,0,0,0,0,19,72,67,70,209\n",
            "Cyprus (CYP),9,0,1,0,1,10,0,0,0,0,19,0,1,0,1\n",
            "Czech Republic (CZE) [CZE],5,14,15,15,44,6,7,9,8,24,11,21,24,23,68\n",
            "Czechoslovakia (TCH) [TCH],16,49,49,45,143,16,2,8,15,25,32,51,57,60,168\n",
            "Denmark (DEN) [Z],26,43,68,68,179,13,0,1,0,1,39,43,69,68,180\n",
            "Djibouti (DJI) [B],7,0,0,1,1,0,0,0,0,0,7,0,0,1,1\n",
            "Dominican Republic (DOM),13,3,2,1,6,0,0,0,0,0,13,3,2,1,6\n",
            "Ecuador (ECU),13,1,1,0,2,0,0,0,0,0,13,1,1,0,2\n",
            "Egypt (EGY) [EGY] [Z],21,7,9,10,26,1,0,0,0,0,22,7,9,10,26\n",
            "Eritrea (ERI),4,0,0,1,1,0,0,0,0,0,4,0,0,1,1\n",
            "Estonia (EST),11,9,9,15,33,9,4,2,1,7,20,13,11,16,40\n",
            "Ethiopia (ETH),12,21,7,17,45,2,0,0,0,0,14,21,7,17,45\n",
            "Finland (FIN),24,101,84,117,302,22,42,62,57,161,46,143,146,174,463\n",
            "France (FRA) [O] [P] [Z],27,202,223,246,671,22,31,31,47,109,49,233,254,293,780\n",
            "Gabon (GAB),9,0,1,0,1,0,0,0,0,0,9,0,1,0,1\n",
            "Georgia (GEO),5,6,5,14,25,6,0,0,0,0,11,6,5,14,25\n",
            "Germany (GER) [GER] [Z],15,174,182,217,573,11,78,78,53,209,26,252,260,270,782\n",
            "United Team of Germany (EUA) [EUA],3,28,54,36,118,3,8,6,5,19,6,36,60,41,137\n",
            "East Germany (GDR) [GDR],5,153,129,127,409,6,39,36,35,110,11,192,165,162,519\n",
            "West Germany (FRG) [FRG],5,56,67,81,204,6,11,15,13,39,11,67,82,94,243\n",
            "Ghana (GHA) [GHA],13,0,1,3,4,1,0,0,0,0,14,0,1,3,4\n",
            "Great Britain (GBR) [GBR] [Z],27,236,272,272,780,22,10,4,12,26,49,246,276,284,806\n",
            "Greece (GRE) [Z],27,30,42,39,111,18,0,0,0,0,45,30,42,39,111\n",
            "Grenada (GRN),8,1,0,0,1,0,0,0,0,0,8,1,0,0,1\n",
            "Guatemala (GUA),13,0,1,0,1,1,0,0,0,0,14,0,1,0,1\n",
            "Guyana (GUY) [GUY],16,0,0,1,1,0,0,0,0,0,16,0,0,1,1\n",
            "Haiti (HAI) [J],14,0,1,1,2,0,0,0,0,0,14,0,1,1,2\n",
            "Hong Kong (HKG) [HKG],15,1,1,1,3,4,0,0,0,0,19,1,1,1,3\n",
            "Hungary (HUN),25,167,144,165,476,22,0,2,4,6,47,167,146,169,482\n",
            "Iceland (ISL),19,0,2,2,4,17,0,0,0,0,36,0,2,2,4\n",
            "India (IND) [F],23,9,6,11,26,9,0,0,0,0,32,9,6,11,26\n",
            "Indonesia (INA),14,6,10,11,27,0,0,0,0,0,14,6,10,11,27\n",
            "Iran (IRI) [K],15,15,20,25,60,10,0,0,0,0,25,15,20,25,60\n",
            "Iraq (IRQ),13,0,0,1,1,0,0,0,0,0,13,0,0,1,1\n",
            "Ireland (IRL),20,9,8,12,29,6,0,0,0,0,26,9,8,12,29\n",
            "Israel (ISR),15,1,1,5,7,6,0,0,0,0,21,1,1,5,7\n",
            "Italy (ITA) [M] [S],26,198,166,185,549,22,37,34,43,114,48,235,200,228,663\n",
            "Jamaica (JAM) [JAM],16,17,30,20,67,7,0,0,0,0,23,17,30,20,67\n",
            "Japan (JPN),21,130,126,142,398,20,10,17,18,45,41,140,143,160,443\n",
            "Kazakhstan (KAZ),5,16,17,19,52,6,1,3,3,7,11,17,20,22,59\n",
            "Kenya (KEN),13,25,32,29,86,3,0,0,0,0,16,25,32,29,86\n",
            "North Korea (PRK),9,14,12,21,47,8,0,1,1,2,17,14,13,22,49\n",
            "South Korea (KOR),16,81,82,80,243,17,26,17,10,53,33,107,99,90,296\n",
            "Kuwait (KUW),12,0,0,2,2,0,0,0,0,0,12,0,0,2,2\n",
            "Kyrgyzstan (KGZ),5,0,1,2,3,6,0,0,0,0,11,0,1,2,3\n",
            "Latvia (LAT),10,3,11,5,19,10,0,4,3,7,20,3,15,8,26\n",
            "Lebanon (LIB),16,0,2,2,4,16,0,0,0,0,32,0,2,2,4\n",
            "Liechtenstein (LIE),16,0,0,0,0,18,2,2,5,9,34,2,2,5,9\n",
            "Lithuania (LTU),8,6,5,10,21,8,0,0,0,0,16,6,5,10,21\n",
            "Luxembourg (LUX) [O],22,1,1,0,2,8,0,2,0,2,30,1,3,0,4\n",
            "Macedonia (MKD),5,0,0,1,1,5,0,0,0,0,10,0,0,1,1\n",
            "Malaysia (MAS) [MAS],12,0,3,3,6,0,0,0,0,0,12,0,3,3,6\n",
            "Mauritius (MRI),8,0,0,1,1,0,0,0,0,0,8,0,0,1,1\n",
            "Mexico (MEX),22,13,21,28,62,8,0,0,0,0,30,13,21,28,62\n",
            "Moldova (MDA),5,0,2,5,7,6,0,0,0,0,11,0,2,5,7\n",
            "Mongolia (MGL),12,2,9,13,24,13,0,0,0,0,25,2,9,13,24\n",
            "Montenegro (MNE),2,0,1,0,1,2,0,0,0,0,4,0,1,0,1\n",
            "Morocco (MAR),13,6,5,11,22,6,0,0,0,0,19,6,5,11,22\n",
            "Mozambique (MOZ),9,1,0,1,2,0,0,0,0,0,9,1,0,1,2\n",
            "Namibia (NAM),6,0,4,0,4,0,0,0,0,0,6,0,4,0,4\n",
            "Netherlands (NED) [Z],25,77,85,104,266,20,37,38,35,110,45,114,123,139,376\n",
            "Netherlands Antilles (AHO) [AHO] [I],13,0,1,0,1,2,0,0,0,0,15,0,1,0,1\n",
            "New Zealand (NZL) [NZL],22,42,18,39,99,15,0,1,0,1,37,42,19,39,100\n",
            "Niger (NIG),11,0,0,1,1,0,0,0,0,0,11,0,0,1,1\n",
            "Nigeria (NGR),15,3,8,12,23,0,0,0,0,0,15,3,8,12,23\n",
            "Norway (NOR) [Q],24,56,49,43,148,22,118,111,100,329,46,174,160,143,477\n",
            "Pakistan (PAK),16,3,3,4,10,2,0,0,0,0,18,3,3,4,10\n",
            "Panama (PAN),16,1,0,2,3,0,0,0,0,0,16,1,0,2,3\n",
            "Paraguay (PAR),11,0,1,0,1,1,0,0,0,0,12,0,1,0,1\n",
            "Peru (PER) [L],17,1,3,0,4,2,0,0,0,0,19,1,3,0,4\n",
            "Philippines (PHI),20,0,2,7,9,4,0,0,0,0,24,0,2,7,9\n",
            "Poland (POL),20,64,82,125,271,22,6,7,7,20,42,70,89,132,291\n",
            "Portugal (POR),23,4,8,11,23,7,0,0,0,0,30,4,8,11,23\n",
            "Puerto Rico (PUR),17,0,2,6,8,6,0,0,0,0,23,0,2,6,8\n",
            "Qatar (QAT),8,0,0,4,4,0,0,0,0,0,8,0,0,4,4\n",
            "Romania (ROU),20,88,94,119,301,20,0,0,1,1,40,88,94,120,302\n",
            "Russia (RUS) [RUS],5,132,121,142,395,6,49,40,35,124,11,181,161,177,519\n",
            "Russian Empire (RU1) [RU1],3,1,4,3,8,0,0,0,0,0,3,1,4,3,8\n",
            "Soviet Union (URS) [URS],9,395,319,296,1010,9,78,57,59,194,18,473,376,355,1204\n",
            "Unified Team (EUN) [EUN],1,45,38,29,112,1,9,6,8,23,2,54,44,37,135\n",
            "Saudi Arabia (KSA),10,0,1,2,3,0,0,0,0,0,10,0,1,2,3\n",
            "Senegal (SEN),13,0,1,0,1,5,0,0,0,0,18,0,1,0,1\n",
            "Serbia (SRB) [SRB],3,1,2,4,7,2,0,0,0,0,5,1,2,4,7\n",
            "Serbia and Montenegro (SCG) [SCG],3,2,4,3,9,3,0,0,0,0,6,2,4,3,9\n",
            "Singapore (SIN),15,0,2,2,4,0,0,0,0,0,15,0,2,2,4\n",
            "Slovakia (SVK) [SVK],5,7,9,8,24,6,2,2,1,5,11,9,11,9,29\n",
            "Slovenia (SLO),6,4,6,9,19,7,2,4,9,15,13,6,10,18,34\n",
            "South Africa (RSA),18,23,26,27,76,6,0,0,0,0,24,23,26,27,76\n",
            "Spain (ESP) [Z],22,37,59,35,131,19,1,0,1,2,41,38,59,36,133\n",
            "Sri Lanka (SRI) [SRI],16,0,2,0,2,0,0,0,0,0,16,0,2,0,2\n",
            "Sudan (SUD),11,0,1,0,1,0,0,0,0,0,11,0,1,0,1\n",
            "Suriname (SUR) [E],11,1,0,1,2,0,0,0,0,0,11,1,0,1,2\n",
            "Sweden (SWE) [Z],26,143,164,176,483,22,50,40,54,144,48,193,204,230,627\n",
            "Switzerland (SUI),27,47,73,65,185,22,50,40,48,138,49,97,113,113,323\n",
            "Syria (SYR),12,1,1,1,3,0,0,0,0,0,12,1,1,1,3\n",
            "Chinese Taipei (TPE) [TPE] [TPE2],13,2,7,12,21,11,0,0,0,0,24,2,7,12,21\n",
            "Tajikistan (TJK),5,0,1,2,3,4,0,0,0,0,9,0,1,2,3\n",
            "Tanzania (TAN) [TAN],12,0,2,0,2,0,0,0,0,0,12,0,2,0,2\n",
            "Thailand (THA),15,7,6,11,24,3,0,0,0,0,18,7,6,11,24\n",
            "Togo (TOG),9,0,0,1,1,1,0,0,0,0,10,0,0,1,1\n",
            "Tonga (TGA),8,0,1,0,1,1,0,0,0,0,9,0,1,0,1\n",
            "Trinidad and Tobago (TRI) [TRI],16,2,5,11,18,3,0,0,0,0,19,2,5,11,18\n",
            "Tunisia (TUN),13,3,3,4,10,0,0,0,0,0,13,3,3,4,10\n",
            "Turkey (TUR),21,39,25,24,88,16,0,0,0,0,37,39,25,24,88\n",
            "Uganda (UGA),14,2,3,2,7,0,0,0,0,0,14,2,3,2,7\n",
            "Ukraine (UKR),5,33,27,55,115,6,2,1,4,7,11,35,28,59,122\n",
            "United Arab Emirates (UAE),8,1,0,0,1,0,0,0,0,0,8,1,0,0,1\n",
            "United States (USA) [P] [Q] [R] [Z],26,976,757,666,2399,22,96,102,84,282,48,1072,859,750,2681\n",
            "Uruguay (URU),20,2,2,6,10,1,0,0,0,0,21,2,2,6,10\n",
            "Uzbekistan (UZB),5,5,5,10,20,6,1,0,0,1,11,6,5,10,21\n",
            "Venezuela (VEN),17,2,2,8,12,4,0,0,0,0,21,2,2,8,12\n",
            "Vietnam (VIE),14,0,2,0,2,0,0,0,0,0,14,0,2,0,2\n",
            "Virgin Islands (ISV),11,0,1,0,1,7,0,0,0,0,18,0,1,0,1\n",
            "Yugoslavia (YUG) [YUG],16,26,29,28,83,14,0,3,1,4,30,26,32,29,87\n",
            "Independent Olympic Participants (IOP) [IOP],1,0,1,2,3,0,0,0,0,0,1,0,1,2,3\n",
            "Zambia (ZAM) [ZAM],12,0,1,1,2,0,0,0,0,0,12,0,1,1,2\n",
            "Zimbabwe (ZIM) [ZIM],12,3,4,1,8,1,0,0,0,0,13,3,4,1,8\n",
            "Mixed team (ZZX) [ZZX],3,8,5,4,17,0,0,0,0,0,3,8,5,4,17\n",
            "Totals,27,4809,4775,5130,14714,22,959,958,948,2865,49,5768,5733,6078,17579\n"
          ],
          "name": "stdout"
        }
      ]
    },
    {
      "cell_type": "code",
      "metadata": {
        "id": "DwhC4vX3vrl6",
        "colab_type": "code",
        "colab": {},
        "outputId": "142916af-832c-4a42-f141-3308bdc39c5b"
      },
      "source": [
        "df = pd.read_csv('olympics.csv')\n",
        "df.head()"
      ],
      "execution_count": 0,
      "outputs": [
        {
          "output_type": "execute_result",
          "data": {
            "text/html": [
              "<div>\n",
              "<style scoped>\n",
              "    .dataframe tbody tr th:only-of-type {\n",
              "        vertical-align: middle;\n",
              "    }\n",
              "\n",
              "    .dataframe tbody tr th {\n",
              "        vertical-align: top;\n",
              "    }\n",
              "\n",
              "    .dataframe thead th {\n",
              "        text-align: right;\n",
              "    }\n",
              "</style>\n",
              "<table border=\"1\" class=\"dataframe\">\n",
              "  <thead>\n",
              "    <tr style=\"text-align: right;\">\n",
              "      <th></th>\n",
              "      <th>0</th>\n",
              "      <th>1</th>\n",
              "      <th>2</th>\n",
              "      <th>3</th>\n",
              "      <th>4</th>\n",
              "      <th>5</th>\n",
              "      <th>6</th>\n",
              "      <th>7</th>\n",
              "      <th>8</th>\n",
              "      <th>9</th>\n",
              "      <th>10</th>\n",
              "      <th>11</th>\n",
              "      <th>12</th>\n",
              "      <th>13</th>\n",
              "      <th>14</th>\n",
              "      <th>15</th>\n",
              "    </tr>\n",
              "  </thead>\n",
              "  <tbody>\n",
              "    <tr>\n",
              "      <td>0</td>\n",
              "      <td>NaN</td>\n",
              "      <td>№ Summer</td>\n",
              "      <td>01 !</td>\n",
              "      <td>02 !</td>\n",
              "      <td>03 !</td>\n",
              "      <td>Total</td>\n",
              "      <td>№ Winter</td>\n",
              "      <td>01 !</td>\n",
              "      <td>02 !</td>\n",
              "      <td>03 !</td>\n",
              "      <td>Total</td>\n",
              "      <td>№ Games</td>\n",
              "      <td>01 !</td>\n",
              "      <td>02 !</td>\n",
              "      <td>03 !</td>\n",
              "      <td>Combined total</td>\n",
              "    </tr>\n",
              "    <tr>\n",
              "      <td>1</td>\n",
              "      <td>Afghanistan (AFG)</td>\n",
              "      <td>13</td>\n",
              "      <td>0</td>\n",
              "      <td>0</td>\n",
              "      <td>2</td>\n",
              "      <td>2</td>\n",
              "      <td>0</td>\n",
              "      <td>0</td>\n",
              "      <td>0</td>\n",
              "      <td>0</td>\n",
              "      <td>0</td>\n",
              "      <td>13</td>\n",
              "      <td>0</td>\n",
              "      <td>0</td>\n",
              "      <td>2</td>\n",
              "      <td>2</td>\n",
              "    </tr>\n",
              "    <tr>\n",
              "      <td>2</td>\n",
              "      <td>Algeria (ALG)</td>\n",
              "      <td>12</td>\n",
              "      <td>5</td>\n",
              "      <td>2</td>\n",
              "      <td>8</td>\n",
              "      <td>15</td>\n",
              "      <td>3</td>\n",
              "      <td>0</td>\n",
              "      <td>0</td>\n",
              "      <td>0</td>\n",
              "      <td>0</td>\n",
              "      <td>15</td>\n",
              "      <td>5</td>\n",
              "      <td>2</td>\n",
              "      <td>8</td>\n",
              "      <td>15</td>\n",
              "    </tr>\n",
              "    <tr>\n",
              "      <td>3</td>\n",
              "      <td>Argentina (ARG)</td>\n",
              "      <td>23</td>\n",
              "      <td>18</td>\n",
              "      <td>24</td>\n",
              "      <td>28</td>\n",
              "      <td>70</td>\n",
              "      <td>18</td>\n",
              "      <td>0</td>\n",
              "      <td>0</td>\n",
              "      <td>0</td>\n",
              "      <td>0</td>\n",
              "      <td>41</td>\n",
              "      <td>18</td>\n",
              "      <td>24</td>\n",
              "      <td>28</td>\n",
              "      <td>70</td>\n",
              "    </tr>\n",
              "    <tr>\n",
              "      <td>4</td>\n",
              "      <td>Armenia (ARM)</td>\n",
              "      <td>5</td>\n",
              "      <td>1</td>\n",
              "      <td>2</td>\n",
              "      <td>9</td>\n",
              "      <td>12</td>\n",
              "      <td>6</td>\n",
              "      <td>0</td>\n",
              "      <td>0</td>\n",
              "      <td>0</td>\n",
              "      <td>0</td>\n",
              "      <td>11</td>\n",
              "      <td>1</td>\n",
              "      <td>2</td>\n",
              "      <td>9</td>\n",
              "      <td>12</td>\n",
              "    </tr>\n",
              "  </tbody>\n",
              "</table>\n",
              "</div>"
            ],
            "text/plain": [
              "                   0         1     2     3     4      5         6     7     8  \\\n",
              "0                NaN  № Summer  01 !  02 !  03 !  Total  № Winter  01 !  02 !   \n",
              "1  Afghanistan (AFG)        13     0     0     2      2         0     0     0   \n",
              "2      Algeria (ALG)        12     5     2     8     15         3     0     0   \n",
              "3    Argentina (ARG)        23    18    24    28     70        18     0     0   \n",
              "4      Armenia (ARM)         5     1     2     9     12         6     0     0   \n",
              "\n",
              "      9     10       11    12    13    14              15  \n",
              "0  03 !  Total  № Games  01 !  02 !  03 !  Combined total  \n",
              "1     0      0       13     0     0     2               2  \n",
              "2     0      0       15     5     2     8              15  \n",
              "3     0      0       41    18    24    28              70  \n",
              "4     0      0       11     1     2     9              12  "
            ]
          },
          "metadata": {
            "tags": []
          },
          "execution_count": 58
        }
      ]
    },
    {
      "cell_type": "code",
      "metadata": {
        "id": "mL6mUirkvrl8",
        "colab_type": "code",
        "colab": {},
        "outputId": "b751f664-75d2-43b1-cf54-057faa1252d6"
      },
      "source": [
        "df = pd.read_csv('olympics.csv', index_col = 0, skiprows=1)\n",
        "df.head()"
      ],
      "execution_count": 0,
      "outputs": [
        {
          "output_type": "execute_result",
          "data": {
            "text/html": [
              "<div>\n",
              "<style scoped>\n",
              "    .dataframe tbody tr th:only-of-type {\n",
              "        vertical-align: middle;\n",
              "    }\n",
              "\n",
              "    .dataframe tbody tr th {\n",
              "        vertical-align: top;\n",
              "    }\n",
              "\n",
              "    .dataframe thead th {\n",
              "        text-align: right;\n",
              "    }\n",
              "</style>\n",
              "<table border=\"1\" class=\"dataframe\">\n",
              "  <thead>\n",
              "    <tr style=\"text-align: right;\">\n",
              "      <th></th>\n",
              "      <th>№ Summer</th>\n",
              "      <th>01 !</th>\n",
              "      <th>02 !</th>\n",
              "      <th>03 !</th>\n",
              "      <th>Total</th>\n",
              "      <th>№ Winter</th>\n",
              "      <th>01 !.1</th>\n",
              "      <th>02 !.1</th>\n",
              "      <th>03 !.1</th>\n",
              "      <th>Total.1</th>\n",
              "      <th>№ Games</th>\n",
              "      <th>01 !.2</th>\n",
              "      <th>02 !.2</th>\n",
              "      <th>03 !.2</th>\n",
              "      <th>Combined total</th>\n",
              "    </tr>\n",
              "  </thead>\n",
              "  <tbody>\n",
              "    <tr>\n",
              "      <td>Afghanistan (AFG)</td>\n",
              "      <td>13</td>\n",
              "      <td>0</td>\n",
              "      <td>0</td>\n",
              "      <td>2</td>\n",
              "      <td>2</td>\n",
              "      <td>0</td>\n",
              "      <td>0</td>\n",
              "      <td>0</td>\n",
              "      <td>0</td>\n",
              "      <td>0</td>\n",
              "      <td>13</td>\n",
              "      <td>0</td>\n",
              "      <td>0</td>\n",
              "      <td>2</td>\n",
              "      <td>2</td>\n",
              "    </tr>\n",
              "    <tr>\n",
              "      <td>Algeria (ALG)</td>\n",
              "      <td>12</td>\n",
              "      <td>5</td>\n",
              "      <td>2</td>\n",
              "      <td>8</td>\n",
              "      <td>15</td>\n",
              "      <td>3</td>\n",
              "      <td>0</td>\n",
              "      <td>0</td>\n",
              "      <td>0</td>\n",
              "      <td>0</td>\n",
              "      <td>15</td>\n",
              "      <td>5</td>\n",
              "      <td>2</td>\n",
              "      <td>8</td>\n",
              "      <td>15</td>\n",
              "    </tr>\n",
              "    <tr>\n",
              "      <td>Argentina (ARG)</td>\n",
              "      <td>23</td>\n",
              "      <td>18</td>\n",
              "      <td>24</td>\n",
              "      <td>28</td>\n",
              "      <td>70</td>\n",
              "      <td>18</td>\n",
              "      <td>0</td>\n",
              "      <td>0</td>\n",
              "      <td>0</td>\n",
              "      <td>0</td>\n",
              "      <td>41</td>\n",
              "      <td>18</td>\n",
              "      <td>24</td>\n",
              "      <td>28</td>\n",
              "      <td>70</td>\n",
              "    </tr>\n",
              "    <tr>\n",
              "      <td>Armenia (ARM)</td>\n",
              "      <td>5</td>\n",
              "      <td>1</td>\n",
              "      <td>2</td>\n",
              "      <td>9</td>\n",
              "      <td>12</td>\n",
              "      <td>6</td>\n",
              "      <td>0</td>\n",
              "      <td>0</td>\n",
              "      <td>0</td>\n",
              "      <td>0</td>\n",
              "      <td>11</td>\n",
              "      <td>1</td>\n",
              "      <td>2</td>\n",
              "      <td>9</td>\n",
              "      <td>12</td>\n",
              "    </tr>\n",
              "    <tr>\n",
              "      <td>Australasia (ANZ) [ANZ]</td>\n",
              "      <td>2</td>\n",
              "      <td>3</td>\n",
              "      <td>4</td>\n",
              "      <td>5</td>\n",
              "      <td>12</td>\n",
              "      <td>0</td>\n",
              "      <td>0</td>\n",
              "      <td>0</td>\n",
              "      <td>0</td>\n",
              "      <td>0</td>\n",
              "      <td>2</td>\n",
              "      <td>3</td>\n",
              "      <td>4</td>\n",
              "      <td>5</td>\n",
              "      <td>12</td>\n",
              "    </tr>\n",
              "  </tbody>\n",
              "</table>\n",
              "</div>"
            ],
            "text/plain": [
              "                         № Summer  01 !  02 !  03 !  Total  № Winter  01 !.1  \\\n",
              "Afghanistan (AFG)              13     0     0     2      2         0       0   \n",
              "Algeria (ALG)                  12     5     2     8     15         3       0   \n",
              "Argentina (ARG)                23    18    24    28     70        18       0   \n",
              "Armenia (ARM)                   5     1     2     9     12         6       0   \n",
              "Australasia (ANZ) [ANZ]         2     3     4     5     12         0       0   \n",
              "\n",
              "                         02 !.1  03 !.1  Total.1  № Games  01 !.2  02 !.2  \\\n",
              "Afghanistan (AFG)             0       0        0       13       0       0   \n",
              "Algeria (ALG)                 0       0        0       15       5       2   \n",
              "Argentina (ARG)               0       0        0       41      18      24   \n",
              "Armenia (ARM)                 0       0        0       11       1       2   \n",
              "Australasia (ANZ) [ANZ]       0       0        0        2       3       4   \n",
              "\n",
              "                         03 !.2  Combined total  \n",
              "Afghanistan (AFG)             2               2  \n",
              "Algeria (ALG)                 8              15  \n",
              "Argentina (ARG)              28              70  \n",
              "Armenia (ARM)                 9              12  \n",
              "Australasia (ANZ) [ANZ]       5              12  "
            ]
          },
          "metadata": {
            "tags": []
          },
          "execution_count": 59
        }
      ]
    },
    {
      "cell_type": "code",
      "metadata": {
        "id": "2_3vIf8pvrl-",
        "colab_type": "code",
        "colab": {},
        "outputId": "3834411f-55de-470d-b338-0b7aad4c8e14"
      },
      "source": [
        "df.columns"
      ],
      "execution_count": 0,
      "outputs": [
        {
          "output_type": "execute_result",
          "data": {
            "text/plain": [
              "Index(['№ Summer', '01 !', '02 !', '03 !', 'Total', '№ Winter', '01 !.1',\n",
              "       '02 !.1', '03 !.1', 'Total.1', '№ Games', '01 !.2', '02 !.2', '03 !.2',\n",
              "       'Combined total'],\n",
              "      dtype='object')"
            ]
          },
          "metadata": {
            "tags": []
          },
          "execution_count": 60
        }
      ]
    },
    {
      "cell_type": "code",
      "metadata": {
        "id": "rt1pQs_xvrmD",
        "colab_type": "code",
        "colab": {},
        "outputId": "bac7cf9e-1395-4726-cca5-a94e98f04d4b"
      },
      "source": [
        "for col in df.columns:\n",
        "    if col[:2]=='01':\n",
        "        df.rename(columns={col:'Gold' + col[4:]}, inplace=True)\n",
        "    if col[:2]=='02':\n",
        "        df.rename(columns={col:'Silver' + col[4:]}, inplace=True)\n",
        "    if col[:2]=='03':\n",
        "        df.rename(columns={col:'Bronze' + col[4:]}, inplace=True)\n",
        "    if col[:1]=='№':\n",
        "        df.rename(columns={col:'#' + col[1:]}, inplace=True) \n",
        "\n",
        "df.head()"
      ],
      "execution_count": 0,
      "outputs": [
        {
          "output_type": "execute_result",
          "data": {
            "text/html": [
              "<div>\n",
              "<style scoped>\n",
              "    .dataframe tbody tr th:only-of-type {\n",
              "        vertical-align: middle;\n",
              "    }\n",
              "\n",
              "    .dataframe tbody tr th {\n",
              "        vertical-align: top;\n",
              "    }\n",
              "\n",
              "    .dataframe thead th {\n",
              "        text-align: right;\n",
              "    }\n",
              "</style>\n",
              "<table border=\"1\" class=\"dataframe\">\n",
              "  <thead>\n",
              "    <tr style=\"text-align: right;\">\n",
              "      <th></th>\n",
              "      <th># Summer</th>\n",
              "      <th>Gold</th>\n",
              "      <th>Silver</th>\n",
              "      <th>Bronze</th>\n",
              "      <th>Total</th>\n",
              "      <th># Winter</th>\n",
              "      <th>Gold.1</th>\n",
              "      <th>Silver.1</th>\n",
              "      <th>Bronze.1</th>\n",
              "      <th>Total.1</th>\n",
              "      <th># Games</th>\n",
              "      <th>Gold.2</th>\n",
              "      <th>Silver.2</th>\n",
              "      <th>Bronze.2</th>\n",
              "      <th>Combined total</th>\n",
              "    </tr>\n",
              "  </thead>\n",
              "  <tbody>\n",
              "    <tr>\n",
              "      <td>Afghanistan (AFG)</td>\n",
              "      <td>13</td>\n",
              "      <td>0</td>\n",
              "      <td>0</td>\n",
              "      <td>2</td>\n",
              "      <td>2</td>\n",
              "      <td>0</td>\n",
              "      <td>0</td>\n",
              "      <td>0</td>\n",
              "      <td>0</td>\n",
              "      <td>0</td>\n",
              "      <td>13</td>\n",
              "      <td>0</td>\n",
              "      <td>0</td>\n",
              "      <td>2</td>\n",
              "      <td>2</td>\n",
              "    </tr>\n",
              "    <tr>\n",
              "      <td>Algeria (ALG)</td>\n",
              "      <td>12</td>\n",
              "      <td>5</td>\n",
              "      <td>2</td>\n",
              "      <td>8</td>\n",
              "      <td>15</td>\n",
              "      <td>3</td>\n",
              "      <td>0</td>\n",
              "      <td>0</td>\n",
              "      <td>0</td>\n",
              "      <td>0</td>\n",
              "      <td>15</td>\n",
              "      <td>5</td>\n",
              "      <td>2</td>\n",
              "      <td>8</td>\n",
              "      <td>15</td>\n",
              "    </tr>\n",
              "    <tr>\n",
              "      <td>Argentina (ARG)</td>\n",
              "      <td>23</td>\n",
              "      <td>18</td>\n",
              "      <td>24</td>\n",
              "      <td>28</td>\n",
              "      <td>70</td>\n",
              "      <td>18</td>\n",
              "      <td>0</td>\n",
              "      <td>0</td>\n",
              "      <td>0</td>\n",
              "      <td>0</td>\n",
              "      <td>41</td>\n",
              "      <td>18</td>\n",
              "      <td>24</td>\n",
              "      <td>28</td>\n",
              "      <td>70</td>\n",
              "    </tr>\n",
              "    <tr>\n",
              "      <td>Armenia (ARM)</td>\n",
              "      <td>5</td>\n",
              "      <td>1</td>\n",
              "      <td>2</td>\n",
              "      <td>9</td>\n",
              "      <td>12</td>\n",
              "      <td>6</td>\n",
              "      <td>0</td>\n",
              "      <td>0</td>\n",
              "      <td>0</td>\n",
              "      <td>0</td>\n",
              "      <td>11</td>\n",
              "      <td>1</td>\n",
              "      <td>2</td>\n",
              "      <td>9</td>\n",
              "      <td>12</td>\n",
              "    </tr>\n",
              "    <tr>\n",
              "      <td>Australasia (ANZ) [ANZ]</td>\n",
              "      <td>2</td>\n",
              "      <td>3</td>\n",
              "      <td>4</td>\n",
              "      <td>5</td>\n",
              "      <td>12</td>\n",
              "      <td>0</td>\n",
              "      <td>0</td>\n",
              "      <td>0</td>\n",
              "      <td>0</td>\n",
              "      <td>0</td>\n",
              "      <td>2</td>\n",
              "      <td>3</td>\n",
              "      <td>4</td>\n",
              "      <td>5</td>\n",
              "      <td>12</td>\n",
              "    </tr>\n",
              "  </tbody>\n",
              "</table>\n",
              "</div>"
            ],
            "text/plain": [
              "                         # Summer  Gold  Silver  Bronze  Total  # Winter  \\\n",
              "Afghanistan (AFG)              13     0       0       2      2         0   \n",
              "Algeria (ALG)                  12     5       2       8     15         3   \n",
              "Argentina (ARG)                23    18      24      28     70        18   \n",
              "Armenia (ARM)                   5     1       2       9     12         6   \n",
              "Australasia (ANZ) [ANZ]         2     3       4       5     12         0   \n",
              "\n",
              "                         Gold.1  Silver.1  Bronze.1  Total.1  # Games  Gold.2  \\\n",
              "Afghanistan (AFG)             0         0         0        0       13       0   \n",
              "Algeria (ALG)                 0         0         0        0       15       5   \n",
              "Argentina (ARG)               0         0         0        0       41      18   \n",
              "Armenia (ARM)                 0         0         0        0       11       1   \n",
              "Australasia (ANZ) [ANZ]       0         0         0        0        2       3   \n",
              "\n",
              "                         Silver.2  Bronze.2  Combined total  \n",
              "Afghanistan (AFG)               0         2               2  \n",
              "Algeria (ALG)                   2         8              15  \n",
              "Argentina (ARG)                24        28              70  \n",
              "Armenia (ARM)                   2         9              12  \n",
              "Australasia (ANZ) [ANZ]         4         5              12  "
            ]
          },
          "metadata": {
            "tags": []
          },
          "execution_count": 61
        }
      ]
    },
    {
      "cell_type": "markdown",
      "metadata": {
        "id": "_DO6oWF1vrmG",
        "colab_type": "text"
      },
      "source": [
        "# Querying a DataFrame"
      ]
    },
    {
      "cell_type": "code",
      "metadata": {
        "id": "gWh8f4lqvrmI",
        "colab_type": "code",
        "colab": {},
        "outputId": "a5747a92-4c5a-4395-90c0-275bbd622f56"
      },
      "source": [
        "df['Gold'] > 0"
      ],
      "execution_count": 0,
      "outputs": [
        {
          "output_type": "execute_result",
          "data": {
            "text/plain": [
              "Afghanistan (AFG)                               False\n",
              "Algeria (ALG)                                    True\n",
              "Argentina (ARG)                                  True\n",
              "Armenia (ARM)                                    True\n",
              "Australasia (ANZ) [ANZ]                          True\n",
              "                                                ...  \n",
              "Independent Olympic Participants (IOP) [IOP]    False\n",
              "Zambia (ZAM) [ZAM]                              False\n",
              "Zimbabwe (ZIM) [ZIM]                             True\n",
              "Mixed team (ZZX) [ZZX]                           True\n",
              "Totals                                           True\n",
              "Name: Gold, Length: 147, dtype: bool"
            ]
          },
          "metadata": {
            "tags": []
          },
          "execution_count": 62
        }
      ]
    },
    {
      "cell_type": "code",
      "metadata": {
        "id": "W5Gs7AXavrmK",
        "colab_type": "code",
        "colab": {},
        "outputId": "28705746-4838-49dd-e4b0-ba2a79f72773"
      },
      "source": [
        "only_gold = df.where(df['Gold'] > 0)\n",
        "only_gold.head()"
      ],
      "execution_count": 0,
      "outputs": [
        {
          "output_type": "execute_result",
          "data": {
            "text/html": [
              "<div>\n",
              "<style scoped>\n",
              "    .dataframe tbody tr th:only-of-type {\n",
              "        vertical-align: middle;\n",
              "    }\n",
              "\n",
              "    .dataframe tbody tr th {\n",
              "        vertical-align: top;\n",
              "    }\n",
              "\n",
              "    .dataframe thead th {\n",
              "        text-align: right;\n",
              "    }\n",
              "</style>\n",
              "<table border=\"1\" class=\"dataframe\">\n",
              "  <thead>\n",
              "    <tr style=\"text-align: right;\">\n",
              "      <th></th>\n",
              "      <th># Summer</th>\n",
              "      <th>Gold</th>\n",
              "      <th>Silver</th>\n",
              "      <th>Bronze</th>\n",
              "      <th>Total</th>\n",
              "      <th># Winter</th>\n",
              "      <th>Gold.1</th>\n",
              "      <th>Silver.1</th>\n",
              "      <th>Bronze.1</th>\n",
              "      <th>Total.1</th>\n",
              "      <th># Games</th>\n",
              "      <th>Gold.2</th>\n",
              "      <th>Silver.2</th>\n",
              "      <th>Bronze.2</th>\n",
              "      <th>Combined total</th>\n",
              "    </tr>\n",
              "  </thead>\n",
              "  <tbody>\n",
              "    <tr>\n",
              "      <td>Afghanistan (AFG)</td>\n",
              "      <td>NaN</td>\n",
              "      <td>NaN</td>\n",
              "      <td>NaN</td>\n",
              "      <td>NaN</td>\n",
              "      <td>NaN</td>\n",
              "      <td>NaN</td>\n",
              "      <td>NaN</td>\n",
              "      <td>NaN</td>\n",
              "      <td>NaN</td>\n",
              "      <td>NaN</td>\n",
              "      <td>NaN</td>\n",
              "      <td>NaN</td>\n",
              "      <td>NaN</td>\n",
              "      <td>NaN</td>\n",
              "      <td>NaN</td>\n",
              "    </tr>\n",
              "    <tr>\n",
              "      <td>Algeria (ALG)</td>\n",
              "      <td>12.0</td>\n",
              "      <td>5.0</td>\n",
              "      <td>2.0</td>\n",
              "      <td>8.0</td>\n",
              "      <td>15.0</td>\n",
              "      <td>3.0</td>\n",
              "      <td>0.0</td>\n",
              "      <td>0.0</td>\n",
              "      <td>0.0</td>\n",
              "      <td>0.0</td>\n",
              "      <td>15.0</td>\n",
              "      <td>5.0</td>\n",
              "      <td>2.0</td>\n",
              "      <td>8.0</td>\n",
              "      <td>15.0</td>\n",
              "    </tr>\n",
              "    <tr>\n",
              "      <td>Argentina (ARG)</td>\n",
              "      <td>23.0</td>\n",
              "      <td>18.0</td>\n",
              "      <td>24.0</td>\n",
              "      <td>28.0</td>\n",
              "      <td>70.0</td>\n",
              "      <td>18.0</td>\n",
              "      <td>0.0</td>\n",
              "      <td>0.0</td>\n",
              "      <td>0.0</td>\n",
              "      <td>0.0</td>\n",
              "      <td>41.0</td>\n",
              "      <td>18.0</td>\n",
              "      <td>24.0</td>\n",
              "      <td>28.0</td>\n",
              "      <td>70.0</td>\n",
              "    </tr>\n",
              "    <tr>\n",
              "      <td>Armenia (ARM)</td>\n",
              "      <td>5.0</td>\n",
              "      <td>1.0</td>\n",
              "      <td>2.0</td>\n",
              "      <td>9.0</td>\n",
              "      <td>12.0</td>\n",
              "      <td>6.0</td>\n",
              "      <td>0.0</td>\n",
              "      <td>0.0</td>\n",
              "      <td>0.0</td>\n",
              "      <td>0.0</td>\n",
              "      <td>11.0</td>\n",
              "      <td>1.0</td>\n",
              "      <td>2.0</td>\n",
              "      <td>9.0</td>\n",
              "      <td>12.0</td>\n",
              "    </tr>\n",
              "    <tr>\n",
              "      <td>Australasia (ANZ) [ANZ]</td>\n",
              "      <td>2.0</td>\n",
              "      <td>3.0</td>\n",
              "      <td>4.0</td>\n",
              "      <td>5.0</td>\n",
              "      <td>12.0</td>\n",
              "      <td>0.0</td>\n",
              "      <td>0.0</td>\n",
              "      <td>0.0</td>\n",
              "      <td>0.0</td>\n",
              "      <td>0.0</td>\n",
              "      <td>2.0</td>\n",
              "      <td>3.0</td>\n",
              "      <td>4.0</td>\n",
              "      <td>5.0</td>\n",
              "      <td>12.0</td>\n",
              "    </tr>\n",
              "  </tbody>\n",
              "</table>\n",
              "</div>"
            ],
            "text/plain": [
              "                         # Summer  Gold  Silver  Bronze  Total  # Winter  \\\n",
              "Afghanistan (AFG)             NaN   NaN     NaN     NaN    NaN       NaN   \n",
              "Algeria (ALG)                12.0   5.0     2.0     8.0   15.0       3.0   \n",
              "Argentina (ARG)              23.0  18.0    24.0    28.0   70.0      18.0   \n",
              "Armenia (ARM)                 5.0   1.0     2.0     9.0   12.0       6.0   \n",
              "Australasia (ANZ) [ANZ]       2.0   3.0     4.0     5.0   12.0       0.0   \n",
              "\n",
              "                         Gold.1  Silver.1  Bronze.1  Total.1  # Games  Gold.2  \\\n",
              "Afghanistan (AFG)           NaN       NaN       NaN      NaN      NaN     NaN   \n",
              "Algeria (ALG)               0.0       0.0       0.0      0.0     15.0     5.0   \n",
              "Argentina (ARG)             0.0       0.0       0.0      0.0     41.0    18.0   \n",
              "Armenia (ARM)               0.0       0.0       0.0      0.0     11.0     1.0   \n",
              "Australasia (ANZ) [ANZ]     0.0       0.0       0.0      0.0      2.0     3.0   \n",
              "\n",
              "                         Silver.2  Bronze.2  Combined total  \n",
              "Afghanistan (AFG)             NaN       NaN             NaN  \n",
              "Algeria (ALG)                 2.0       8.0            15.0  \n",
              "Argentina (ARG)              24.0      28.0            70.0  \n",
              "Armenia (ARM)                 2.0       9.0            12.0  \n",
              "Australasia (ANZ) [ANZ]       4.0       5.0            12.0  "
            ]
          },
          "metadata": {
            "tags": []
          },
          "execution_count": 63
        }
      ]
    },
    {
      "cell_type": "code",
      "metadata": {
        "id": "lKL6OYMLvrmN",
        "colab_type": "code",
        "colab": {},
        "outputId": "ecd4d189-d83d-4aa8-88b8-0f7b27e548f2"
      },
      "source": [
        "only_gold['Gold'].count()"
      ],
      "execution_count": 0,
      "outputs": [
        {
          "output_type": "execute_result",
          "data": {
            "text/plain": [
              "100"
            ]
          },
          "metadata": {
            "tags": []
          },
          "execution_count": 64
        }
      ]
    },
    {
      "cell_type": "code",
      "metadata": {
        "id": "hQpFxPVOvrmQ",
        "colab_type": "code",
        "colab": {},
        "outputId": "feeba1ed-3123-4019-8aca-602a93213392"
      },
      "source": [
        "df['Gold'].count()"
      ],
      "execution_count": 0,
      "outputs": [
        {
          "output_type": "execute_result",
          "data": {
            "text/plain": [
              "147"
            ]
          },
          "metadata": {
            "tags": []
          },
          "execution_count": 65
        }
      ]
    },
    {
      "cell_type": "code",
      "metadata": {
        "id": "_QBr5XfjvrmS",
        "colab_type": "code",
        "colab": {},
        "outputId": "da14f8fb-71f7-405d-eb13-5ce23105174a"
      },
      "source": [
        "only_gold = only_gold.dropna()\n",
        "only_gold.head()"
      ],
      "execution_count": 0,
      "outputs": [
        {
          "output_type": "execute_result",
          "data": {
            "text/html": [
              "<div>\n",
              "<style scoped>\n",
              "    .dataframe tbody tr th:only-of-type {\n",
              "        vertical-align: middle;\n",
              "    }\n",
              "\n",
              "    .dataframe tbody tr th {\n",
              "        vertical-align: top;\n",
              "    }\n",
              "\n",
              "    .dataframe thead th {\n",
              "        text-align: right;\n",
              "    }\n",
              "</style>\n",
              "<table border=\"1\" class=\"dataframe\">\n",
              "  <thead>\n",
              "    <tr style=\"text-align: right;\">\n",
              "      <th></th>\n",
              "      <th># Summer</th>\n",
              "      <th>Gold</th>\n",
              "      <th>Silver</th>\n",
              "      <th>Bronze</th>\n",
              "      <th>Total</th>\n",
              "      <th># Winter</th>\n",
              "      <th>Gold.1</th>\n",
              "      <th>Silver.1</th>\n",
              "      <th>Bronze.1</th>\n",
              "      <th>Total.1</th>\n",
              "      <th># Games</th>\n",
              "      <th>Gold.2</th>\n",
              "      <th>Silver.2</th>\n",
              "      <th>Bronze.2</th>\n",
              "      <th>Combined total</th>\n",
              "    </tr>\n",
              "  </thead>\n",
              "  <tbody>\n",
              "    <tr>\n",
              "      <td>Algeria (ALG)</td>\n",
              "      <td>12.0</td>\n",
              "      <td>5.0</td>\n",
              "      <td>2.0</td>\n",
              "      <td>8.0</td>\n",
              "      <td>15.0</td>\n",
              "      <td>3.0</td>\n",
              "      <td>0.0</td>\n",
              "      <td>0.0</td>\n",
              "      <td>0.0</td>\n",
              "      <td>0.0</td>\n",
              "      <td>15.0</td>\n",
              "      <td>5.0</td>\n",
              "      <td>2.0</td>\n",
              "      <td>8.0</td>\n",
              "      <td>15.0</td>\n",
              "    </tr>\n",
              "    <tr>\n",
              "      <td>Argentina (ARG)</td>\n",
              "      <td>23.0</td>\n",
              "      <td>18.0</td>\n",
              "      <td>24.0</td>\n",
              "      <td>28.0</td>\n",
              "      <td>70.0</td>\n",
              "      <td>18.0</td>\n",
              "      <td>0.0</td>\n",
              "      <td>0.0</td>\n",
              "      <td>0.0</td>\n",
              "      <td>0.0</td>\n",
              "      <td>41.0</td>\n",
              "      <td>18.0</td>\n",
              "      <td>24.0</td>\n",
              "      <td>28.0</td>\n",
              "      <td>70.0</td>\n",
              "    </tr>\n",
              "    <tr>\n",
              "      <td>Armenia (ARM)</td>\n",
              "      <td>5.0</td>\n",
              "      <td>1.0</td>\n",
              "      <td>2.0</td>\n",
              "      <td>9.0</td>\n",
              "      <td>12.0</td>\n",
              "      <td>6.0</td>\n",
              "      <td>0.0</td>\n",
              "      <td>0.0</td>\n",
              "      <td>0.0</td>\n",
              "      <td>0.0</td>\n",
              "      <td>11.0</td>\n",
              "      <td>1.0</td>\n",
              "      <td>2.0</td>\n",
              "      <td>9.0</td>\n",
              "      <td>12.0</td>\n",
              "    </tr>\n",
              "    <tr>\n",
              "      <td>Australasia (ANZ) [ANZ]</td>\n",
              "      <td>2.0</td>\n",
              "      <td>3.0</td>\n",
              "      <td>4.0</td>\n",
              "      <td>5.0</td>\n",
              "      <td>12.0</td>\n",
              "      <td>0.0</td>\n",
              "      <td>0.0</td>\n",
              "      <td>0.0</td>\n",
              "      <td>0.0</td>\n",
              "      <td>0.0</td>\n",
              "      <td>2.0</td>\n",
              "      <td>3.0</td>\n",
              "      <td>4.0</td>\n",
              "      <td>5.0</td>\n",
              "      <td>12.0</td>\n",
              "    </tr>\n",
              "    <tr>\n",
              "      <td>Australia (AUS) [AUS] [Z]</td>\n",
              "      <td>25.0</td>\n",
              "      <td>139.0</td>\n",
              "      <td>152.0</td>\n",
              "      <td>177.0</td>\n",
              "      <td>468.0</td>\n",
              "      <td>18.0</td>\n",
              "      <td>5.0</td>\n",
              "      <td>3.0</td>\n",
              "      <td>4.0</td>\n",
              "      <td>12.0</td>\n",
              "      <td>43.0</td>\n",
              "      <td>144.0</td>\n",
              "      <td>155.0</td>\n",
              "      <td>181.0</td>\n",
              "      <td>480.0</td>\n",
              "    </tr>\n",
              "  </tbody>\n",
              "</table>\n",
              "</div>"
            ],
            "text/plain": [
              "                           # Summer   Gold  Silver  Bronze  Total  # Winter  \\\n",
              "Algeria (ALG)                  12.0    5.0     2.0     8.0   15.0       3.0   \n",
              "Argentina (ARG)                23.0   18.0    24.0    28.0   70.0      18.0   \n",
              "Armenia (ARM)                   5.0    1.0     2.0     9.0   12.0       6.0   \n",
              "Australasia (ANZ) [ANZ]         2.0    3.0     4.0     5.0   12.0       0.0   \n",
              "Australia (AUS) [AUS] [Z]      25.0  139.0   152.0   177.0  468.0      18.0   \n",
              "\n",
              "                           Gold.1  Silver.1  Bronze.1  Total.1  # Games  \\\n",
              "Algeria (ALG)                 0.0       0.0       0.0      0.0     15.0   \n",
              "Argentina (ARG)               0.0       0.0       0.0      0.0     41.0   \n",
              "Armenia (ARM)                 0.0       0.0       0.0      0.0     11.0   \n",
              "Australasia (ANZ) [ANZ]       0.0       0.0       0.0      0.0      2.0   \n",
              "Australia (AUS) [AUS] [Z]     5.0       3.0       4.0     12.0     43.0   \n",
              "\n",
              "                           Gold.2  Silver.2  Bronze.2  Combined total  \n",
              "Algeria (ALG)                 5.0       2.0       8.0            15.0  \n",
              "Argentina (ARG)              18.0      24.0      28.0            70.0  \n",
              "Armenia (ARM)                 1.0       2.0       9.0            12.0  \n",
              "Australasia (ANZ) [ANZ]       3.0       4.0       5.0            12.0  \n",
              "Australia (AUS) [AUS] [Z]   144.0     155.0     181.0           480.0  "
            ]
          },
          "metadata": {
            "tags": []
          },
          "execution_count": 66
        }
      ]
    },
    {
      "cell_type": "code",
      "metadata": {
        "id": "h2f8O823vrmV",
        "colab_type": "code",
        "colab": {},
        "outputId": "01792b70-7d37-4355-bb89-d74ded3b6bbf"
      },
      "source": [
        "only_gold = df[df['Gold'] > 0]\n",
        "only_gold.head()"
      ],
      "execution_count": 0,
      "outputs": [
        {
          "output_type": "execute_result",
          "data": {
            "text/html": [
              "<div>\n",
              "<style scoped>\n",
              "    .dataframe tbody tr th:only-of-type {\n",
              "        vertical-align: middle;\n",
              "    }\n",
              "\n",
              "    .dataframe tbody tr th {\n",
              "        vertical-align: top;\n",
              "    }\n",
              "\n",
              "    .dataframe thead th {\n",
              "        text-align: right;\n",
              "    }\n",
              "</style>\n",
              "<table border=\"1\" class=\"dataframe\">\n",
              "  <thead>\n",
              "    <tr style=\"text-align: right;\">\n",
              "      <th></th>\n",
              "      <th># Summer</th>\n",
              "      <th>Gold</th>\n",
              "      <th>Silver</th>\n",
              "      <th>Bronze</th>\n",
              "      <th>Total</th>\n",
              "      <th># Winter</th>\n",
              "      <th>Gold.1</th>\n",
              "      <th>Silver.1</th>\n",
              "      <th>Bronze.1</th>\n",
              "      <th>Total.1</th>\n",
              "      <th># Games</th>\n",
              "      <th>Gold.2</th>\n",
              "      <th>Silver.2</th>\n",
              "      <th>Bronze.2</th>\n",
              "      <th>Combined total</th>\n",
              "    </tr>\n",
              "  </thead>\n",
              "  <tbody>\n",
              "    <tr>\n",
              "      <td>Algeria (ALG)</td>\n",
              "      <td>12</td>\n",
              "      <td>5</td>\n",
              "      <td>2</td>\n",
              "      <td>8</td>\n",
              "      <td>15</td>\n",
              "      <td>3</td>\n",
              "      <td>0</td>\n",
              "      <td>0</td>\n",
              "      <td>0</td>\n",
              "      <td>0</td>\n",
              "      <td>15</td>\n",
              "      <td>5</td>\n",
              "      <td>2</td>\n",
              "      <td>8</td>\n",
              "      <td>15</td>\n",
              "    </tr>\n",
              "    <tr>\n",
              "      <td>Argentina (ARG)</td>\n",
              "      <td>23</td>\n",
              "      <td>18</td>\n",
              "      <td>24</td>\n",
              "      <td>28</td>\n",
              "      <td>70</td>\n",
              "      <td>18</td>\n",
              "      <td>0</td>\n",
              "      <td>0</td>\n",
              "      <td>0</td>\n",
              "      <td>0</td>\n",
              "      <td>41</td>\n",
              "      <td>18</td>\n",
              "      <td>24</td>\n",
              "      <td>28</td>\n",
              "      <td>70</td>\n",
              "    </tr>\n",
              "    <tr>\n",
              "      <td>Armenia (ARM)</td>\n",
              "      <td>5</td>\n",
              "      <td>1</td>\n",
              "      <td>2</td>\n",
              "      <td>9</td>\n",
              "      <td>12</td>\n",
              "      <td>6</td>\n",
              "      <td>0</td>\n",
              "      <td>0</td>\n",
              "      <td>0</td>\n",
              "      <td>0</td>\n",
              "      <td>11</td>\n",
              "      <td>1</td>\n",
              "      <td>2</td>\n",
              "      <td>9</td>\n",
              "      <td>12</td>\n",
              "    </tr>\n",
              "    <tr>\n",
              "      <td>Australasia (ANZ) [ANZ]</td>\n",
              "      <td>2</td>\n",
              "      <td>3</td>\n",
              "      <td>4</td>\n",
              "      <td>5</td>\n",
              "      <td>12</td>\n",
              "      <td>0</td>\n",
              "      <td>0</td>\n",
              "      <td>0</td>\n",
              "      <td>0</td>\n",
              "      <td>0</td>\n",
              "      <td>2</td>\n",
              "      <td>3</td>\n",
              "      <td>4</td>\n",
              "      <td>5</td>\n",
              "      <td>12</td>\n",
              "    </tr>\n",
              "    <tr>\n",
              "      <td>Australia (AUS) [AUS] [Z]</td>\n",
              "      <td>25</td>\n",
              "      <td>139</td>\n",
              "      <td>152</td>\n",
              "      <td>177</td>\n",
              "      <td>468</td>\n",
              "      <td>18</td>\n",
              "      <td>5</td>\n",
              "      <td>3</td>\n",
              "      <td>4</td>\n",
              "      <td>12</td>\n",
              "      <td>43</td>\n",
              "      <td>144</td>\n",
              "      <td>155</td>\n",
              "      <td>181</td>\n",
              "      <td>480</td>\n",
              "    </tr>\n",
              "  </tbody>\n",
              "</table>\n",
              "</div>"
            ],
            "text/plain": [
              "                           # Summer  Gold  Silver  Bronze  Total  # Winter  \\\n",
              "Algeria (ALG)                    12     5       2       8     15         3   \n",
              "Argentina (ARG)                  23    18      24      28     70        18   \n",
              "Armenia (ARM)                     5     1       2       9     12         6   \n",
              "Australasia (ANZ) [ANZ]           2     3       4       5     12         0   \n",
              "Australia (AUS) [AUS] [Z]        25   139     152     177    468        18   \n",
              "\n",
              "                           Gold.1  Silver.1  Bronze.1  Total.1  # Games  \\\n",
              "Algeria (ALG)                   0         0         0        0       15   \n",
              "Argentina (ARG)                 0         0         0        0       41   \n",
              "Armenia (ARM)                   0         0         0        0       11   \n",
              "Australasia (ANZ) [ANZ]         0         0         0        0        2   \n",
              "Australia (AUS) [AUS] [Z]       5         3         4       12       43   \n",
              "\n",
              "                           Gold.2  Silver.2  Bronze.2  Combined total  \n",
              "Algeria (ALG)                   5         2         8              15  \n",
              "Argentina (ARG)                18        24        28              70  \n",
              "Armenia (ARM)                   1         2         9              12  \n",
              "Australasia (ANZ) [ANZ]         3         4         5              12  \n",
              "Australia (AUS) [AUS] [Z]     144       155       181             480  "
            ]
          },
          "metadata": {
            "tags": []
          },
          "execution_count": 67
        }
      ]
    },
    {
      "cell_type": "code",
      "metadata": {
        "id": "f6TknPBYvrmZ",
        "colab_type": "code",
        "colab": {},
        "outputId": "258f1fcd-d664-45e7-ae5d-9a34e6f1bb2c"
      },
      "source": [
        "len(df[(df['Gold'] > 0) | (df['Gold.1'] > 0)])"
      ],
      "execution_count": 0,
      "outputs": [
        {
          "output_type": "execute_result",
          "data": {
            "text/plain": [
              "101"
            ]
          },
          "metadata": {
            "tags": []
          },
          "execution_count": 68
        }
      ]
    },
    {
      "cell_type": "code",
      "metadata": {
        "id": "jsOgC309vrmc",
        "colab_type": "code",
        "colab": {},
        "outputId": "5452cfcb-7e00-43b6-d5b6-4e1469066886"
      },
      "source": [
        "df[(df['Gold.1'] > 0) & (df['Gold'] == 0)]"
      ],
      "execution_count": 0,
      "outputs": [
        {
          "output_type": "execute_result",
          "data": {
            "text/html": [
              "<div>\n",
              "<style scoped>\n",
              "    .dataframe tbody tr th:only-of-type {\n",
              "        vertical-align: middle;\n",
              "    }\n",
              "\n",
              "    .dataframe tbody tr th {\n",
              "        vertical-align: top;\n",
              "    }\n",
              "\n",
              "    .dataframe thead th {\n",
              "        text-align: right;\n",
              "    }\n",
              "</style>\n",
              "<table border=\"1\" class=\"dataframe\">\n",
              "  <thead>\n",
              "    <tr style=\"text-align: right;\">\n",
              "      <th></th>\n",
              "      <th># Summer</th>\n",
              "      <th>Gold</th>\n",
              "      <th>Silver</th>\n",
              "      <th>Bronze</th>\n",
              "      <th>Total</th>\n",
              "      <th># Winter</th>\n",
              "      <th>Gold.1</th>\n",
              "      <th>Silver.1</th>\n",
              "      <th>Bronze.1</th>\n",
              "      <th>Total.1</th>\n",
              "      <th># Games</th>\n",
              "      <th>Gold.2</th>\n",
              "      <th>Silver.2</th>\n",
              "      <th>Bronze.2</th>\n",
              "      <th>Combined total</th>\n",
              "    </tr>\n",
              "  </thead>\n",
              "  <tbody>\n",
              "    <tr>\n",
              "      <td>Liechtenstein (LIE)</td>\n",
              "      <td>16</td>\n",
              "      <td>0</td>\n",
              "      <td>0</td>\n",
              "      <td>0</td>\n",
              "      <td>0</td>\n",
              "      <td>18</td>\n",
              "      <td>2</td>\n",
              "      <td>2</td>\n",
              "      <td>5</td>\n",
              "      <td>9</td>\n",
              "      <td>34</td>\n",
              "      <td>2</td>\n",
              "      <td>2</td>\n",
              "      <td>5</td>\n",
              "      <td>9</td>\n",
              "    </tr>\n",
              "  </tbody>\n",
              "</table>\n",
              "</div>"
            ],
            "text/plain": [
              "                     # Summer  Gold  Silver  Bronze  Total  # Winter  Gold.1  \\\n",
              "Liechtenstein (LIE)        16     0       0       0      0        18       2   \n",
              "\n",
              "                     Silver.1  Bronze.1  Total.1  # Games  Gold.2  Silver.2  \\\n",
              "Liechtenstein (LIE)         2         5        9       34       2         2   \n",
              "\n",
              "                     Bronze.2  Combined total  \n",
              "Liechtenstein (LIE)         5               9  "
            ]
          },
          "metadata": {
            "tags": []
          },
          "execution_count": 69
        }
      ]
    },
    {
      "cell_type": "markdown",
      "metadata": {
        "id": "e9Vzq7MIvrme",
        "colab_type": "text"
      },
      "source": [
        "# Indexing Dataframes"
      ]
    },
    {
      "cell_type": "code",
      "metadata": {
        "id": "k8XyZOOpvrmf",
        "colab_type": "code",
        "colab": {},
        "outputId": "54cd4139-77a7-4ae4-f187-e6b3ad5e7f18"
      },
      "source": [
        "df.head()"
      ],
      "execution_count": 0,
      "outputs": [
        {
          "output_type": "execute_result",
          "data": {
            "text/html": [
              "<div>\n",
              "<style scoped>\n",
              "    .dataframe tbody tr th:only-of-type {\n",
              "        vertical-align: middle;\n",
              "    }\n",
              "\n",
              "    .dataframe tbody tr th {\n",
              "        vertical-align: top;\n",
              "    }\n",
              "\n",
              "    .dataframe thead th {\n",
              "        text-align: right;\n",
              "    }\n",
              "</style>\n",
              "<table border=\"1\" class=\"dataframe\">\n",
              "  <thead>\n",
              "    <tr style=\"text-align: right;\">\n",
              "      <th></th>\n",
              "      <th># Summer</th>\n",
              "      <th>Gold</th>\n",
              "      <th>Silver</th>\n",
              "      <th>Bronze</th>\n",
              "      <th>Total</th>\n",
              "      <th># Winter</th>\n",
              "      <th>Gold.1</th>\n",
              "      <th>Silver.1</th>\n",
              "      <th>Bronze.1</th>\n",
              "      <th>Total.1</th>\n",
              "      <th># Games</th>\n",
              "      <th>Gold.2</th>\n",
              "      <th>Silver.2</th>\n",
              "      <th>Bronze.2</th>\n",
              "      <th>Combined total</th>\n",
              "    </tr>\n",
              "  </thead>\n",
              "  <tbody>\n",
              "    <tr>\n",
              "      <td>Afghanistan (AFG)</td>\n",
              "      <td>13</td>\n",
              "      <td>0</td>\n",
              "      <td>0</td>\n",
              "      <td>2</td>\n",
              "      <td>2</td>\n",
              "      <td>0</td>\n",
              "      <td>0</td>\n",
              "      <td>0</td>\n",
              "      <td>0</td>\n",
              "      <td>0</td>\n",
              "      <td>13</td>\n",
              "      <td>0</td>\n",
              "      <td>0</td>\n",
              "      <td>2</td>\n",
              "      <td>2</td>\n",
              "    </tr>\n",
              "    <tr>\n",
              "      <td>Algeria (ALG)</td>\n",
              "      <td>12</td>\n",
              "      <td>5</td>\n",
              "      <td>2</td>\n",
              "      <td>8</td>\n",
              "      <td>15</td>\n",
              "      <td>3</td>\n",
              "      <td>0</td>\n",
              "      <td>0</td>\n",
              "      <td>0</td>\n",
              "      <td>0</td>\n",
              "      <td>15</td>\n",
              "      <td>5</td>\n",
              "      <td>2</td>\n",
              "      <td>8</td>\n",
              "      <td>15</td>\n",
              "    </tr>\n",
              "    <tr>\n",
              "      <td>Argentina (ARG)</td>\n",
              "      <td>23</td>\n",
              "      <td>18</td>\n",
              "      <td>24</td>\n",
              "      <td>28</td>\n",
              "      <td>70</td>\n",
              "      <td>18</td>\n",
              "      <td>0</td>\n",
              "      <td>0</td>\n",
              "      <td>0</td>\n",
              "      <td>0</td>\n",
              "      <td>41</td>\n",
              "      <td>18</td>\n",
              "      <td>24</td>\n",
              "      <td>28</td>\n",
              "      <td>70</td>\n",
              "    </tr>\n",
              "    <tr>\n",
              "      <td>Armenia (ARM)</td>\n",
              "      <td>5</td>\n",
              "      <td>1</td>\n",
              "      <td>2</td>\n",
              "      <td>9</td>\n",
              "      <td>12</td>\n",
              "      <td>6</td>\n",
              "      <td>0</td>\n",
              "      <td>0</td>\n",
              "      <td>0</td>\n",
              "      <td>0</td>\n",
              "      <td>11</td>\n",
              "      <td>1</td>\n",
              "      <td>2</td>\n",
              "      <td>9</td>\n",
              "      <td>12</td>\n",
              "    </tr>\n",
              "    <tr>\n",
              "      <td>Australasia (ANZ) [ANZ]</td>\n",
              "      <td>2</td>\n",
              "      <td>3</td>\n",
              "      <td>4</td>\n",
              "      <td>5</td>\n",
              "      <td>12</td>\n",
              "      <td>0</td>\n",
              "      <td>0</td>\n",
              "      <td>0</td>\n",
              "      <td>0</td>\n",
              "      <td>0</td>\n",
              "      <td>2</td>\n",
              "      <td>3</td>\n",
              "      <td>4</td>\n",
              "      <td>5</td>\n",
              "      <td>12</td>\n",
              "    </tr>\n",
              "  </tbody>\n",
              "</table>\n",
              "</div>"
            ],
            "text/plain": [
              "                         # Summer  Gold  Silver  Bronze  Total  # Winter  \\\n",
              "Afghanistan (AFG)              13     0       0       2      2         0   \n",
              "Algeria (ALG)                  12     5       2       8     15         3   \n",
              "Argentina (ARG)                23    18      24      28     70        18   \n",
              "Armenia (ARM)                   5     1       2       9     12         6   \n",
              "Australasia (ANZ) [ANZ]         2     3       4       5     12         0   \n",
              "\n",
              "                         Gold.1  Silver.1  Bronze.1  Total.1  # Games  Gold.2  \\\n",
              "Afghanistan (AFG)             0         0         0        0       13       0   \n",
              "Algeria (ALG)                 0         0         0        0       15       5   \n",
              "Argentina (ARG)               0         0         0        0       41      18   \n",
              "Armenia (ARM)                 0         0         0        0       11       1   \n",
              "Australasia (ANZ) [ANZ]       0         0         0        0        2       3   \n",
              "\n",
              "                         Silver.2  Bronze.2  Combined total  \n",
              "Afghanistan (AFG)               0         2               2  \n",
              "Algeria (ALG)                   2         8              15  \n",
              "Argentina (ARG)                24        28              70  \n",
              "Armenia (ARM)                   2         9              12  \n",
              "Australasia (ANZ) [ANZ]         4         5              12  "
            ]
          },
          "metadata": {
            "tags": []
          },
          "execution_count": 70
        }
      ]
    },
    {
      "cell_type": "code",
      "metadata": {
        "id": "GGIRAmq0vrmh",
        "colab_type": "code",
        "colab": {},
        "outputId": "f7ad6a8c-99e3-4a41-ac35-8ff4ea0ea190"
      },
      "source": [
        "df['country'] = df.index\n",
        "df = df.set_index('Gold')\n",
        "df.head()"
      ],
      "execution_count": 0,
      "outputs": [
        {
          "output_type": "execute_result",
          "data": {
            "text/html": [
              "<div>\n",
              "<style scoped>\n",
              "    .dataframe tbody tr th:only-of-type {\n",
              "        vertical-align: middle;\n",
              "    }\n",
              "\n",
              "    .dataframe tbody tr th {\n",
              "        vertical-align: top;\n",
              "    }\n",
              "\n",
              "    .dataframe thead th {\n",
              "        text-align: right;\n",
              "    }\n",
              "</style>\n",
              "<table border=\"1\" class=\"dataframe\">\n",
              "  <thead>\n",
              "    <tr style=\"text-align: right;\">\n",
              "      <th></th>\n",
              "      <th># Summer</th>\n",
              "      <th>Silver</th>\n",
              "      <th>Bronze</th>\n",
              "      <th>Total</th>\n",
              "      <th># Winter</th>\n",
              "      <th>Gold.1</th>\n",
              "      <th>Silver.1</th>\n",
              "      <th>Bronze.1</th>\n",
              "      <th>Total.1</th>\n",
              "      <th># Games</th>\n",
              "      <th>Gold.2</th>\n",
              "      <th>Silver.2</th>\n",
              "      <th>Bronze.2</th>\n",
              "      <th>Combined total</th>\n",
              "      <th>country</th>\n",
              "    </tr>\n",
              "    <tr>\n",
              "      <th>Gold</th>\n",
              "      <th></th>\n",
              "      <th></th>\n",
              "      <th></th>\n",
              "      <th></th>\n",
              "      <th></th>\n",
              "      <th></th>\n",
              "      <th></th>\n",
              "      <th></th>\n",
              "      <th></th>\n",
              "      <th></th>\n",
              "      <th></th>\n",
              "      <th></th>\n",
              "      <th></th>\n",
              "      <th></th>\n",
              "      <th></th>\n",
              "    </tr>\n",
              "  </thead>\n",
              "  <tbody>\n",
              "    <tr>\n",
              "      <td>0</td>\n",
              "      <td>13</td>\n",
              "      <td>0</td>\n",
              "      <td>2</td>\n",
              "      <td>2</td>\n",
              "      <td>0</td>\n",
              "      <td>0</td>\n",
              "      <td>0</td>\n",
              "      <td>0</td>\n",
              "      <td>0</td>\n",
              "      <td>13</td>\n",
              "      <td>0</td>\n",
              "      <td>0</td>\n",
              "      <td>2</td>\n",
              "      <td>2</td>\n",
              "      <td>Afghanistan (AFG)</td>\n",
              "    </tr>\n",
              "    <tr>\n",
              "      <td>5</td>\n",
              "      <td>12</td>\n",
              "      <td>2</td>\n",
              "      <td>8</td>\n",
              "      <td>15</td>\n",
              "      <td>3</td>\n",
              "      <td>0</td>\n",
              "      <td>0</td>\n",
              "      <td>0</td>\n",
              "      <td>0</td>\n",
              "      <td>15</td>\n",
              "      <td>5</td>\n",
              "      <td>2</td>\n",
              "      <td>8</td>\n",
              "      <td>15</td>\n",
              "      <td>Algeria (ALG)</td>\n",
              "    </tr>\n",
              "    <tr>\n",
              "      <td>18</td>\n",
              "      <td>23</td>\n",
              "      <td>24</td>\n",
              "      <td>28</td>\n",
              "      <td>70</td>\n",
              "      <td>18</td>\n",
              "      <td>0</td>\n",
              "      <td>0</td>\n",
              "      <td>0</td>\n",
              "      <td>0</td>\n",
              "      <td>41</td>\n",
              "      <td>18</td>\n",
              "      <td>24</td>\n",
              "      <td>28</td>\n",
              "      <td>70</td>\n",
              "      <td>Argentina (ARG)</td>\n",
              "    </tr>\n",
              "    <tr>\n",
              "      <td>1</td>\n",
              "      <td>5</td>\n",
              "      <td>2</td>\n",
              "      <td>9</td>\n",
              "      <td>12</td>\n",
              "      <td>6</td>\n",
              "      <td>0</td>\n",
              "      <td>0</td>\n",
              "      <td>0</td>\n",
              "      <td>0</td>\n",
              "      <td>11</td>\n",
              "      <td>1</td>\n",
              "      <td>2</td>\n",
              "      <td>9</td>\n",
              "      <td>12</td>\n",
              "      <td>Armenia (ARM)</td>\n",
              "    </tr>\n",
              "    <tr>\n",
              "      <td>3</td>\n",
              "      <td>2</td>\n",
              "      <td>4</td>\n",
              "      <td>5</td>\n",
              "      <td>12</td>\n",
              "      <td>0</td>\n",
              "      <td>0</td>\n",
              "      <td>0</td>\n",
              "      <td>0</td>\n",
              "      <td>0</td>\n",
              "      <td>2</td>\n",
              "      <td>3</td>\n",
              "      <td>4</td>\n",
              "      <td>5</td>\n",
              "      <td>12</td>\n",
              "      <td>Australasia (ANZ) [ANZ]</td>\n",
              "    </tr>\n",
              "  </tbody>\n",
              "</table>\n",
              "</div>"
            ],
            "text/plain": [
              "      # Summer  Silver  Bronze  Total  # Winter  Gold.1  Silver.1  Bronze.1  \\\n",
              "Gold                                                                          \n",
              "0           13       0       2      2         0       0         0         0   \n",
              "5           12       2       8     15         3       0         0         0   \n",
              "18          23      24      28     70        18       0         0         0   \n",
              "1            5       2       9     12         6       0         0         0   \n",
              "3            2       4       5     12         0       0         0         0   \n",
              "\n",
              "      Total.1  # Games  Gold.2  Silver.2  Bronze.2  Combined total  \\\n",
              "Gold                                                                 \n",
              "0           0       13       0         0         2               2   \n",
              "5           0       15       5         2         8              15   \n",
              "18          0       41      18        24        28              70   \n",
              "1           0       11       1         2         9              12   \n",
              "3           0        2       3         4         5              12   \n",
              "\n",
              "                      country  \n",
              "Gold                           \n",
              "0           Afghanistan (AFG)  \n",
              "5               Algeria (ALG)  \n",
              "18            Argentina (ARG)  \n",
              "1               Armenia (ARM)  \n",
              "3     Australasia (ANZ) [ANZ]  "
            ]
          },
          "metadata": {
            "tags": []
          },
          "execution_count": 71
        }
      ]
    },
    {
      "cell_type": "code",
      "metadata": {
        "id": "dGKVNsEdvrmk",
        "colab_type": "code",
        "colab": {},
        "outputId": "76e30bf1-79b3-45bc-b27d-201400f731d9"
      },
      "source": [
        "df = df.reset_index()\n",
        "df.head()"
      ],
      "execution_count": 0,
      "outputs": [
        {
          "output_type": "execute_result",
          "data": {
            "text/html": [
              "<div>\n",
              "<style scoped>\n",
              "    .dataframe tbody tr th:only-of-type {\n",
              "        vertical-align: middle;\n",
              "    }\n",
              "\n",
              "    .dataframe tbody tr th {\n",
              "        vertical-align: top;\n",
              "    }\n",
              "\n",
              "    .dataframe thead th {\n",
              "        text-align: right;\n",
              "    }\n",
              "</style>\n",
              "<table border=\"1\" class=\"dataframe\">\n",
              "  <thead>\n",
              "    <tr style=\"text-align: right;\">\n",
              "      <th></th>\n",
              "      <th>Gold</th>\n",
              "      <th># Summer</th>\n",
              "      <th>Silver</th>\n",
              "      <th>Bronze</th>\n",
              "      <th>Total</th>\n",
              "      <th># Winter</th>\n",
              "      <th>Gold.1</th>\n",
              "      <th>Silver.1</th>\n",
              "      <th>Bronze.1</th>\n",
              "      <th>Total.1</th>\n",
              "      <th># Games</th>\n",
              "      <th>Gold.2</th>\n",
              "      <th>Silver.2</th>\n",
              "      <th>Bronze.2</th>\n",
              "      <th>Combined total</th>\n",
              "      <th>country</th>\n",
              "    </tr>\n",
              "  </thead>\n",
              "  <tbody>\n",
              "    <tr>\n",
              "      <td>0</td>\n",
              "      <td>0</td>\n",
              "      <td>13</td>\n",
              "      <td>0</td>\n",
              "      <td>2</td>\n",
              "      <td>2</td>\n",
              "      <td>0</td>\n",
              "      <td>0</td>\n",
              "      <td>0</td>\n",
              "      <td>0</td>\n",
              "      <td>0</td>\n",
              "      <td>13</td>\n",
              "      <td>0</td>\n",
              "      <td>0</td>\n",
              "      <td>2</td>\n",
              "      <td>2</td>\n",
              "      <td>Afghanistan (AFG)</td>\n",
              "    </tr>\n",
              "    <tr>\n",
              "      <td>1</td>\n",
              "      <td>5</td>\n",
              "      <td>12</td>\n",
              "      <td>2</td>\n",
              "      <td>8</td>\n",
              "      <td>15</td>\n",
              "      <td>3</td>\n",
              "      <td>0</td>\n",
              "      <td>0</td>\n",
              "      <td>0</td>\n",
              "      <td>0</td>\n",
              "      <td>15</td>\n",
              "      <td>5</td>\n",
              "      <td>2</td>\n",
              "      <td>8</td>\n",
              "      <td>15</td>\n",
              "      <td>Algeria (ALG)</td>\n",
              "    </tr>\n",
              "    <tr>\n",
              "      <td>2</td>\n",
              "      <td>18</td>\n",
              "      <td>23</td>\n",
              "      <td>24</td>\n",
              "      <td>28</td>\n",
              "      <td>70</td>\n",
              "      <td>18</td>\n",
              "      <td>0</td>\n",
              "      <td>0</td>\n",
              "      <td>0</td>\n",
              "      <td>0</td>\n",
              "      <td>41</td>\n",
              "      <td>18</td>\n",
              "      <td>24</td>\n",
              "      <td>28</td>\n",
              "      <td>70</td>\n",
              "      <td>Argentina (ARG)</td>\n",
              "    </tr>\n",
              "    <tr>\n",
              "      <td>3</td>\n",
              "      <td>1</td>\n",
              "      <td>5</td>\n",
              "      <td>2</td>\n",
              "      <td>9</td>\n",
              "      <td>12</td>\n",
              "      <td>6</td>\n",
              "      <td>0</td>\n",
              "      <td>0</td>\n",
              "      <td>0</td>\n",
              "      <td>0</td>\n",
              "      <td>11</td>\n",
              "      <td>1</td>\n",
              "      <td>2</td>\n",
              "      <td>9</td>\n",
              "      <td>12</td>\n",
              "      <td>Armenia (ARM)</td>\n",
              "    </tr>\n",
              "    <tr>\n",
              "      <td>4</td>\n",
              "      <td>3</td>\n",
              "      <td>2</td>\n",
              "      <td>4</td>\n",
              "      <td>5</td>\n",
              "      <td>12</td>\n",
              "      <td>0</td>\n",
              "      <td>0</td>\n",
              "      <td>0</td>\n",
              "      <td>0</td>\n",
              "      <td>0</td>\n",
              "      <td>2</td>\n",
              "      <td>3</td>\n",
              "      <td>4</td>\n",
              "      <td>5</td>\n",
              "      <td>12</td>\n",
              "      <td>Australasia (ANZ) [ANZ]</td>\n",
              "    </tr>\n",
              "  </tbody>\n",
              "</table>\n",
              "</div>"
            ],
            "text/plain": [
              "   Gold  # Summer  Silver  Bronze  Total  # Winter  Gold.1  Silver.1  \\\n",
              "0     0        13       0       2      2         0       0         0   \n",
              "1     5        12       2       8     15         3       0         0   \n",
              "2    18        23      24      28     70        18       0         0   \n",
              "3     1         5       2       9     12         6       0         0   \n",
              "4     3         2       4       5     12         0       0         0   \n",
              "\n",
              "   Bronze.1  Total.1  # Games  Gold.2  Silver.2  Bronze.2  Combined total  \\\n",
              "0         0        0       13       0         0         2               2   \n",
              "1         0        0       15       5         2         8              15   \n",
              "2         0        0       41      18        24        28              70   \n",
              "3         0        0       11       1         2         9              12   \n",
              "4         0        0        2       3         4         5              12   \n",
              "\n",
              "                   country  \n",
              "0        Afghanistan (AFG)  \n",
              "1            Algeria (ALG)  \n",
              "2          Argentina (ARG)  \n",
              "3            Armenia (ARM)  \n",
              "4  Australasia (ANZ) [ANZ]  "
            ]
          },
          "metadata": {
            "tags": []
          },
          "execution_count": 72
        }
      ]
    },
    {
      "cell_type": "code",
      "metadata": {
        "id": "MSLTQOYXvrmm",
        "colab_type": "code",
        "colab": {},
        "outputId": "e5541ca8-25d1-490f-ccc4-4a7e1e6d0688"
      },
      "source": [
        "df = pd.read_csv('census.csv')\n",
        "df.head()"
      ],
      "execution_count": 0,
      "outputs": [
        {
          "output_type": "execute_result",
          "data": {
            "text/html": [
              "<div>\n",
              "<style scoped>\n",
              "    .dataframe tbody tr th:only-of-type {\n",
              "        vertical-align: middle;\n",
              "    }\n",
              "\n",
              "    .dataframe tbody tr th {\n",
              "        vertical-align: top;\n",
              "    }\n",
              "\n",
              "    .dataframe thead th {\n",
              "        text-align: right;\n",
              "    }\n",
              "</style>\n",
              "<table border=\"1\" class=\"dataframe\">\n",
              "  <thead>\n",
              "    <tr style=\"text-align: right;\">\n",
              "      <th></th>\n",
              "      <th>SUMLEV</th>\n",
              "      <th>REGION</th>\n",
              "      <th>DIVISION</th>\n",
              "      <th>STATE</th>\n",
              "      <th>COUNTY</th>\n",
              "      <th>STNAME</th>\n",
              "      <th>CTYNAME</th>\n",
              "      <th>CENSUS2010POP</th>\n",
              "      <th>ESTIMATESBASE2010</th>\n",
              "      <th>POPESTIMATE2010</th>\n",
              "      <th>...</th>\n",
              "      <th>RDOMESTICMIG2011</th>\n",
              "      <th>RDOMESTICMIG2012</th>\n",
              "      <th>RDOMESTICMIG2013</th>\n",
              "      <th>RDOMESTICMIG2014</th>\n",
              "      <th>RDOMESTICMIG2015</th>\n",
              "      <th>RNETMIG2011</th>\n",
              "      <th>RNETMIG2012</th>\n",
              "      <th>RNETMIG2013</th>\n",
              "      <th>RNETMIG2014</th>\n",
              "      <th>RNETMIG2015</th>\n",
              "    </tr>\n",
              "  </thead>\n",
              "  <tbody>\n",
              "    <tr>\n",
              "      <td>0</td>\n",
              "      <td>40</td>\n",
              "      <td>3</td>\n",
              "      <td>6</td>\n",
              "      <td>1</td>\n",
              "      <td>0</td>\n",
              "      <td>Alabama</td>\n",
              "      <td>Alabama</td>\n",
              "      <td>4779736</td>\n",
              "      <td>4780127</td>\n",
              "      <td>4785161</td>\n",
              "      <td>...</td>\n",
              "      <td>0.002295</td>\n",
              "      <td>-0.193196</td>\n",
              "      <td>0.381066</td>\n",
              "      <td>0.582002</td>\n",
              "      <td>-0.467369</td>\n",
              "      <td>1.030015</td>\n",
              "      <td>0.826644</td>\n",
              "      <td>1.383282</td>\n",
              "      <td>1.724718</td>\n",
              "      <td>0.712594</td>\n",
              "    </tr>\n",
              "    <tr>\n",
              "      <td>1</td>\n",
              "      <td>50</td>\n",
              "      <td>3</td>\n",
              "      <td>6</td>\n",
              "      <td>1</td>\n",
              "      <td>1</td>\n",
              "      <td>Alabama</td>\n",
              "      <td>Autauga County</td>\n",
              "      <td>54571</td>\n",
              "      <td>54571</td>\n",
              "      <td>54660</td>\n",
              "      <td>...</td>\n",
              "      <td>7.242091</td>\n",
              "      <td>-2.915927</td>\n",
              "      <td>-3.012349</td>\n",
              "      <td>2.265971</td>\n",
              "      <td>-2.530799</td>\n",
              "      <td>7.606016</td>\n",
              "      <td>-2.626146</td>\n",
              "      <td>-2.722002</td>\n",
              "      <td>2.592270</td>\n",
              "      <td>-2.187333</td>\n",
              "    </tr>\n",
              "    <tr>\n",
              "      <td>2</td>\n",
              "      <td>50</td>\n",
              "      <td>3</td>\n",
              "      <td>6</td>\n",
              "      <td>1</td>\n",
              "      <td>3</td>\n",
              "      <td>Alabama</td>\n",
              "      <td>Baldwin County</td>\n",
              "      <td>182265</td>\n",
              "      <td>182265</td>\n",
              "      <td>183193</td>\n",
              "      <td>...</td>\n",
              "      <td>14.832960</td>\n",
              "      <td>17.647293</td>\n",
              "      <td>21.845705</td>\n",
              "      <td>19.243287</td>\n",
              "      <td>17.197872</td>\n",
              "      <td>15.844176</td>\n",
              "      <td>18.559627</td>\n",
              "      <td>22.727626</td>\n",
              "      <td>20.317142</td>\n",
              "      <td>18.293499</td>\n",
              "    </tr>\n",
              "    <tr>\n",
              "      <td>3</td>\n",
              "      <td>50</td>\n",
              "      <td>3</td>\n",
              "      <td>6</td>\n",
              "      <td>1</td>\n",
              "      <td>5</td>\n",
              "      <td>Alabama</td>\n",
              "      <td>Barbour County</td>\n",
              "      <td>27457</td>\n",
              "      <td>27457</td>\n",
              "      <td>27341</td>\n",
              "      <td>...</td>\n",
              "      <td>-4.728132</td>\n",
              "      <td>-2.500690</td>\n",
              "      <td>-7.056824</td>\n",
              "      <td>-3.904217</td>\n",
              "      <td>-10.543299</td>\n",
              "      <td>-4.874741</td>\n",
              "      <td>-2.758113</td>\n",
              "      <td>-7.167664</td>\n",
              "      <td>-3.978583</td>\n",
              "      <td>-10.543299</td>\n",
              "    </tr>\n",
              "    <tr>\n",
              "      <td>4</td>\n",
              "      <td>50</td>\n",
              "      <td>3</td>\n",
              "      <td>6</td>\n",
              "      <td>1</td>\n",
              "      <td>7</td>\n",
              "      <td>Alabama</td>\n",
              "      <td>Bibb County</td>\n",
              "      <td>22915</td>\n",
              "      <td>22919</td>\n",
              "      <td>22861</td>\n",
              "      <td>...</td>\n",
              "      <td>-5.527043</td>\n",
              "      <td>-5.068871</td>\n",
              "      <td>-6.201001</td>\n",
              "      <td>-0.177537</td>\n",
              "      <td>0.177258</td>\n",
              "      <td>-5.088389</td>\n",
              "      <td>-4.363636</td>\n",
              "      <td>-5.403729</td>\n",
              "      <td>0.754533</td>\n",
              "      <td>1.107861</td>\n",
              "    </tr>\n",
              "  </tbody>\n",
              "</table>\n",
              "<p>5 rows × 100 columns</p>\n",
              "</div>"
            ],
            "text/plain": [
              "   SUMLEV  REGION  DIVISION  STATE  COUNTY   STNAME         CTYNAME  \\\n",
              "0      40       3         6      1       0  Alabama         Alabama   \n",
              "1      50       3         6      1       1  Alabama  Autauga County   \n",
              "2      50       3         6      1       3  Alabama  Baldwin County   \n",
              "3      50       3         6      1       5  Alabama  Barbour County   \n",
              "4      50       3         6      1       7  Alabama     Bibb County   \n",
              "\n",
              "   CENSUS2010POP  ESTIMATESBASE2010  POPESTIMATE2010  ...  RDOMESTICMIG2011  \\\n",
              "0        4779736            4780127          4785161  ...          0.002295   \n",
              "1          54571              54571            54660  ...          7.242091   \n",
              "2         182265             182265           183193  ...         14.832960   \n",
              "3          27457              27457            27341  ...         -4.728132   \n",
              "4          22915              22919            22861  ...         -5.527043   \n",
              "\n",
              "   RDOMESTICMIG2012  RDOMESTICMIG2013  RDOMESTICMIG2014  RDOMESTICMIG2015  \\\n",
              "0         -0.193196          0.381066          0.582002         -0.467369   \n",
              "1         -2.915927         -3.012349          2.265971         -2.530799   \n",
              "2         17.647293         21.845705         19.243287         17.197872   \n",
              "3         -2.500690         -7.056824         -3.904217        -10.543299   \n",
              "4         -5.068871         -6.201001         -0.177537          0.177258   \n",
              "\n",
              "   RNETMIG2011  RNETMIG2012  RNETMIG2013  RNETMIG2014  RNETMIG2015  \n",
              "0     1.030015     0.826644     1.383282     1.724718     0.712594  \n",
              "1     7.606016    -2.626146    -2.722002     2.592270    -2.187333  \n",
              "2    15.844176    18.559627    22.727626    20.317142    18.293499  \n",
              "3    -4.874741    -2.758113    -7.167664    -3.978583   -10.543299  \n",
              "4    -5.088389    -4.363636    -5.403729     0.754533     1.107861  \n",
              "\n",
              "[5 rows x 100 columns]"
            ]
          },
          "metadata": {
            "tags": []
          },
          "execution_count": 73
        }
      ]
    },
    {
      "cell_type": "code",
      "metadata": {
        "id": "r87RCtrFvrmp",
        "colab_type": "code",
        "colab": {},
        "outputId": "d932018d-9749-4f8b-d476-d1f2372c00f6"
      },
      "source": [
        "df['SUMLEV'].unique()"
      ],
      "execution_count": 0,
      "outputs": [
        {
          "output_type": "execute_result",
          "data": {
            "text/plain": [
              "array([40, 50])"
            ]
          },
          "metadata": {
            "tags": []
          },
          "execution_count": 74
        }
      ]
    },
    {
      "cell_type": "code",
      "metadata": {
        "id": "LkJ4UnG4vrms",
        "colab_type": "code",
        "colab": {},
        "outputId": "03d97c2c-ec95-482d-c3e3-a105b614a348"
      },
      "source": [
        "df=df[df['SUMLEV'] == 50]\n",
        "df.head()"
      ],
      "execution_count": 0,
      "outputs": [
        {
          "output_type": "execute_result",
          "data": {
            "text/html": [
              "<div>\n",
              "<style scoped>\n",
              "    .dataframe tbody tr th:only-of-type {\n",
              "        vertical-align: middle;\n",
              "    }\n",
              "\n",
              "    .dataframe tbody tr th {\n",
              "        vertical-align: top;\n",
              "    }\n",
              "\n",
              "    .dataframe thead th {\n",
              "        text-align: right;\n",
              "    }\n",
              "</style>\n",
              "<table border=\"1\" class=\"dataframe\">\n",
              "  <thead>\n",
              "    <tr style=\"text-align: right;\">\n",
              "      <th></th>\n",
              "      <th>SUMLEV</th>\n",
              "      <th>REGION</th>\n",
              "      <th>DIVISION</th>\n",
              "      <th>STATE</th>\n",
              "      <th>COUNTY</th>\n",
              "      <th>STNAME</th>\n",
              "      <th>CTYNAME</th>\n",
              "      <th>CENSUS2010POP</th>\n",
              "      <th>ESTIMATESBASE2010</th>\n",
              "      <th>POPESTIMATE2010</th>\n",
              "      <th>...</th>\n",
              "      <th>RDOMESTICMIG2011</th>\n",
              "      <th>RDOMESTICMIG2012</th>\n",
              "      <th>RDOMESTICMIG2013</th>\n",
              "      <th>RDOMESTICMIG2014</th>\n",
              "      <th>RDOMESTICMIG2015</th>\n",
              "      <th>RNETMIG2011</th>\n",
              "      <th>RNETMIG2012</th>\n",
              "      <th>RNETMIG2013</th>\n",
              "      <th>RNETMIG2014</th>\n",
              "      <th>RNETMIG2015</th>\n",
              "    </tr>\n",
              "  </thead>\n",
              "  <tbody>\n",
              "    <tr>\n",
              "      <td>1</td>\n",
              "      <td>50</td>\n",
              "      <td>3</td>\n",
              "      <td>6</td>\n",
              "      <td>1</td>\n",
              "      <td>1</td>\n",
              "      <td>Alabama</td>\n",
              "      <td>Autauga County</td>\n",
              "      <td>54571</td>\n",
              "      <td>54571</td>\n",
              "      <td>54660</td>\n",
              "      <td>...</td>\n",
              "      <td>7.242091</td>\n",
              "      <td>-2.915927</td>\n",
              "      <td>-3.012349</td>\n",
              "      <td>2.265971</td>\n",
              "      <td>-2.530799</td>\n",
              "      <td>7.606016</td>\n",
              "      <td>-2.626146</td>\n",
              "      <td>-2.722002</td>\n",
              "      <td>2.592270</td>\n",
              "      <td>-2.187333</td>\n",
              "    </tr>\n",
              "    <tr>\n",
              "      <td>2</td>\n",
              "      <td>50</td>\n",
              "      <td>3</td>\n",
              "      <td>6</td>\n",
              "      <td>1</td>\n",
              "      <td>3</td>\n",
              "      <td>Alabama</td>\n",
              "      <td>Baldwin County</td>\n",
              "      <td>182265</td>\n",
              "      <td>182265</td>\n",
              "      <td>183193</td>\n",
              "      <td>...</td>\n",
              "      <td>14.832960</td>\n",
              "      <td>17.647293</td>\n",
              "      <td>21.845705</td>\n",
              "      <td>19.243287</td>\n",
              "      <td>17.197872</td>\n",
              "      <td>15.844176</td>\n",
              "      <td>18.559627</td>\n",
              "      <td>22.727626</td>\n",
              "      <td>20.317142</td>\n",
              "      <td>18.293499</td>\n",
              "    </tr>\n",
              "    <tr>\n",
              "      <td>3</td>\n",
              "      <td>50</td>\n",
              "      <td>3</td>\n",
              "      <td>6</td>\n",
              "      <td>1</td>\n",
              "      <td>5</td>\n",
              "      <td>Alabama</td>\n",
              "      <td>Barbour County</td>\n",
              "      <td>27457</td>\n",
              "      <td>27457</td>\n",
              "      <td>27341</td>\n",
              "      <td>...</td>\n",
              "      <td>-4.728132</td>\n",
              "      <td>-2.500690</td>\n",
              "      <td>-7.056824</td>\n",
              "      <td>-3.904217</td>\n",
              "      <td>-10.543299</td>\n",
              "      <td>-4.874741</td>\n",
              "      <td>-2.758113</td>\n",
              "      <td>-7.167664</td>\n",
              "      <td>-3.978583</td>\n",
              "      <td>-10.543299</td>\n",
              "    </tr>\n",
              "    <tr>\n",
              "      <td>4</td>\n",
              "      <td>50</td>\n",
              "      <td>3</td>\n",
              "      <td>6</td>\n",
              "      <td>1</td>\n",
              "      <td>7</td>\n",
              "      <td>Alabama</td>\n",
              "      <td>Bibb County</td>\n",
              "      <td>22915</td>\n",
              "      <td>22919</td>\n",
              "      <td>22861</td>\n",
              "      <td>...</td>\n",
              "      <td>-5.527043</td>\n",
              "      <td>-5.068871</td>\n",
              "      <td>-6.201001</td>\n",
              "      <td>-0.177537</td>\n",
              "      <td>0.177258</td>\n",
              "      <td>-5.088389</td>\n",
              "      <td>-4.363636</td>\n",
              "      <td>-5.403729</td>\n",
              "      <td>0.754533</td>\n",
              "      <td>1.107861</td>\n",
              "    </tr>\n",
              "    <tr>\n",
              "      <td>5</td>\n",
              "      <td>50</td>\n",
              "      <td>3</td>\n",
              "      <td>6</td>\n",
              "      <td>1</td>\n",
              "      <td>9</td>\n",
              "      <td>Alabama</td>\n",
              "      <td>Blount County</td>\n",
              "      <td>57322</td>\n",
              "      <td>57322</td>\n",
              "      <td>57373</td>\n",
              "      <td>...</td>\n",
              "      <td>1.807375</td>\n",
              "      <td>-1.177622</td>\n",
              "      <td>-1.748766</td>\n",
              "      <td>-2.062535</td>\n",
              "      <td>-1.369970</td>\n",
              "      <td>1.859511</td>\n",
              "      <td>-0.848580</td>\n",
              "      <td>-1.402476</td>\n",
              "      <td>-1.577232</td>\n",
              "      <td>-0.884411</td>\n",
              "    </tr>\n",
              "  </tbody>\n",
              "</table>\n",
              "<p>5 rows × 100 columns</p>\n",
              "</div>"
            ],
            "text/plain": [
              "   SUMLEV  REGION  DIVISION  STATE  COUNTY   STNAME         CTYNAME  \\\n",
              "1      50       3         6      1       1  Alabama  Autauga County   \n",
              "2      50       3         6      1       3  Alabama  Baldwin County   \n",
              "3      50       3         6      1       5  Alabama  Barbour County   \n",
              "4      50       3         6      1       7  Alabama     Bibb County   \n",
              "5      50       3         6      1       9  Alabama   Blount County   \n",
              "\n",
              "   CENSUS2010POP  ESTIMATESBASE2010  POPESTIMATE2010  ...  RDOMESTICMIG2011  \\\n",
              "1          54571              54571            54660  ...          7.242091   \n",
              "2         182265             182265           183193  ...         14.832960   \n",
              "3          27457              27457            27341  ...         -4.728132   \n",
              "4          22915              22919            22861  ...         -5.527043   \n",
              "5          57322              57322            57373  ...          1.807375   \n",
              "\n",
              "   RDOMESTICMIG2012  RDOMESTICMIG2013  RDOMESTICMIG2014  RDOMESTICMIG2015  \\\n",
              "1         -2.915927         -3.012349          2.265971         -2.530799   \n",
              "2         17.647293         21.845705         19.243287         17.197872   \n",
              "3         -2.500690         -7.056824         -3.904217        -10.543299   \n",
              "4         -5.068871         -6.201001         -0.177537          0.177258   \n",
              "5         -1.177622         -1.748766         -2.062535         -1.369970   \n",
              "\n",
              "   RNETMIG2011  RNETMIG2012  RNETMIG2013  RNETMIG2014  RNETMIG2015  \n",
              "1     7.606016    -2.626146    -2.722002     2.592270    -2.187333  \n",
              "2    15.844176    18.559627    22.727626    20.317142    18.293499  \n",
              "3    -4.874741    -2.758113    -7.167664    -3.978583   -10.543299  \n",
              "4    -5.088389    -4.363636    -5.403729     0.754533     1.107861  \n",
              "5     1.859511    -0.848580    -1.402476    -1.577232    -0.884411  \n",
              "\n",
              "[5 rows x 100 columns]"
            ]
          },
          "metadata": {
            "tags": []
          },
          "execution_count": 75
        }
      ]
    },
    {
      "cell_type": "code",
      "metadata": {
        "id": "IaKz_XPEvrmu",
        "colab_type": "code",
        "colab": {},
        "outputId": "7edbb583-f805-4110-dc55-5b0c034247dd"
      },
      "source": [
        "columns_to_keep = ['STNAME',\n",
        "                   'CTYNAME',\n",
        "                   'BIRTHS2010',\n",
        "                   'BIRTHS2011',\n",
        "                   'BIRTHS2012',\n",
        "                   'BIRTHS2013',\n",
        "                   'BIRTHS2014',\n",
        "                   'BIRTHS2015',\n",
        "                   'POPESTIMATE2010',\n",
        "                   'POPESTIMATE2011',\n",
        "                   'POPESTIMATE2012',\n",
        "                   'POPESTIMATE2013',\n",
        "                   'POPESTIMATE2014',\n",
        "                   'POPESTIMATE2015']\n",
        "df = df[columns_to_keep]\n",
        "df.head()"
      ],
      "execution_count": 0,
      "outputs": [
        {
          "output_type": "execute_result",
          "data": {
            "text/html": [
              "<div>\n",
              "<style scoped>\n",
              "    .dataframe tbody tr th:only-of-type {\n",
              "        vertical-align: middle;\n",
              "    }\n",
              "\n",
              "    .dataframe tbody tr th {\n",
              "        vertical-align: top;\n",
              "    }\n",
              "\n",
              "    .dataframe thead th {\n",
              "        text-align: right;\n",
              "    }\n",
              "</style>\n",
              "<table border=\"1\" class=\"dataframe\">\n",
              "  <thead>\n",
              "    <tr style=\"text-align: right;\">\n",
              "      <th></th>\n",
              "      <th>STNAME</th>\n",
              "      <th>CTYNAME</th>\n",
              "      <th>BIRTHS2010</th>\n",
              "      <th>BIRTHS2011</th>\n",
              "      <th>BIRTHS2012</th>\n",
              "      <th>BIRTHS2013</th>\n",
              "      <th>BIRTHS2014</th>\n",
              "      <th>BIRTHS2015</th>\n",
              "      <th>POPESTIMATE2010</th>\n",
              "      <th>POPESTIMATE2011</th>\n",
              "      <th>POPESTIMATE2012</th>\n",
              "      <th>POPESTIMATE2013</th>\n",
              "      <th>POPESTIMATE2014</th>\n",
              "      <th>POPESTIMATE2015</th>\n",
              "    </tr>\n",
              "  </thead>\n",
              "  <tbody>\n",
              "    <tr>\n",
              "      <td>1</td>\n",
              "      <td>Alabama</td>\n",
              "      <td>Autauga County</td>\n",
              "      <td>151</td>\n",
              "      <td>636</td>\n",
              "      <td>615</td>\n",
              "      <td>574</td>\n",
              "      <td>623</td>\n",
              "      <td>600</td>\n",
              "      <td>54660</td>\n",
              "      <td>55253</td>\n",
              "      <td>55175</td>\n",
              "      <td>55038</td>\n",
              "      <td>55290</td>\n",
              "      <td>55347</td>\n",
              "    </tr>\n",
              "    <tr>\n",
              "      <td>2</td>\n",
              "      <td>Alabama</td>\n",
              "      <td>Baldwin County</td>\n",
              "      <td>517</td>\n",
              "      <td>2187</td>\n",
              "      <td>2092</td>\n",
              "      <td>2160</td>\n",
              "      <td>2186</td>\n",
              "      <td>2240</td>\n",
              "      <td>183193</td>\n",
              "      <td>186659</td>\n",
              "      <td>190396</td>\n",
              "      <td>195126</td>\n",
              "      <td>199713</td>\n",
              "      <td>203709</td>\n",
              "    </tr>\n",
              "    <tr>\n",
              "      <td>3</td>\n",
              "      <td>Alabama</td>\n",
              "      <td>Barbour County</td>\n",
              "      <td>70</td>\n",
              "      <td>335</td>\n",
              "      <td>300</td>\n",
              "      <td>283</td>\n",
              "      <td>260</td>\n",
              "      <td>269</td>\n",
              "      <td>27341</td>\n",
              "      <td>27226</td>\n",
              "      <td>27159</td>\n",
              "      <td>26973</td>\n",
              "      <td>26815</td>\n",
              "      <td>26489</td>\n",
              "    </tr>\n",
              "    <tr>\n",
              "      <td>4</td>\n",
              "      <td>Alabama</td>\n",
              "      <td>Bibb County</td>\n",
              "      <td>44</td>\n",
              "      <td>266</td>\n",
              "      <td>245</td>\n",
              "      <td>259</td>\n",
              "      <td>247</td>\n",
              "      <td>253</td>\n",
              "      <td>22861</td>\n",
              "      <td>22733</td>\n",
              "      <td>22642</td>\n",
              "      <td>22512</td>\n",
              "      <td>22549</td>\n",
              "      <td>22583</td>\n",
              "    </tr>\n",
              "    <tr>\n",
              "      <td>5</td>\n",
              "      <td>Alabama</td>\n",
              "      <td>Blount County</td>\n",
              "      <td>183</td>\n",
              "      <td>744</td>\n",
              "      <td>710</td>\n",
              "      <td>646</td>\n",
              "      <td>618</td>\n",
              "      <td>603</td>\n",
              "      <td>57373</td>\n",
              "      <td>57711</td>\n",
              "      <td>57776</td>\n",
              "      <td>57734</td>\n",
              "      <td>57658</td>\n",
              "      <td>57673</td>\n",
              "    </tr>\n",
              "  </tbody>\n",
              "</table>\n",
              "</div>"
            ],
            "text/plain": [
              "    STNAME         CTYNAME  BIRTHS2010  BIRTHS2011  BIRTHS2012  BIRTHS2013  \\\n",
              "1  Alabama  Autauga County         151         636         615         574   \n",
              "2  Alabama  Baldwin County         517        2187        2092        2160   \n",
              "3  Alabama  Barbour County          70         335         300         283   \n",
              "4  Alabama     Bibb County          44         266         245         259   \n",
              "5  Alabama   Blount County         183         744         710         646   \n",
              "\n",
              "   BIRTHS2014  BIRTHS2015  POPESTIMATE2010  POPESTIMATE2011  POPESTIMATE2012  \\\n",
              "1         623         600            54660            55253            55175   \n",
              "2        2186        2240           183193           186659           190396   \n",
              "3         260         269            27341            27226            27159   \n",
              "4         247         253            22861            22733            22642   \n",
              "5         618         603            57373            57711            57776   \n",
              "\n",
              "   POPESTIMATE2013  POPESTIMATE2014  POPESTIMATE2015  \n",
              "1            55038            55290            55347  \n",
              "2           195126           199713           203709  \n",
              "3            26973            26815            26489  \n",
              "4            22512            22549            22583  \n",
              "5            57734            57658            57673  "
            ]
          },
          "metadata": {
            "tags": []
          },
          "execution_count": 76
        }
      ]
    },
    {
      "cell_type": "code",
      "metadata": {
        "id": "krVefx0vvrmx",
        "colab_type": "code",
        "colab": {},
        "outputId": "b24ab212-adb5-44ff-8524-3ddd6ca4362a"
      },
      "source": [
        "df = df.set_index(['STNAME', 'CTYNAME'])\n",
        "df.head()"
      ],
      "execution_count": 0,
      "outputs": [
        {
          "output_type": "execute_result",
          "data": {
            "text/html": [
              "<div>\n",
              "<style scoped>\n",
              "    .dataframe tbody tr th:only-of-type {\n",
              "        vertical-align: middle;\n",
              "    }\n",
              "\n",
              "    .dataframe tbody tr th {\n",
              "        vertical-align: top;\n",
              "    }\n",
              "\n",
              "    .dataframe thead th {\n",
              "        text-align: right;\n",
              "    }\n",
              "</style>\n",
              "<table border=\"1\" class=\"dataframe\">\n",
              "  <thead>\n",
              "    <tr style=\"text-align: right;\">\n",
              "      <th></th>\n",
              "      <th></th>\n",
              "      <th>BIRTHS2010</th>\n",
              "      <th>BIRTHS2011</th>\n",
              "      <th>BIRTHS2012</th>\n",
              "      <th>BIRTHS2013</th>\n",
              "      <th>BIRTHS2014</th>\n",
              "      <th>BIRTHS2015</th>\n",
              "      <th>POPESTIMATE2010</th>\n",
              "      <th>POPESTIMATE2011</th>\n",
              "      <th>POPESTIMATE2012</th>\n",
              "      <th>POPESTIMATE2013</th>\n",
              "      <th>POPESTIMATE2014</th>\n",
              "      <th>POPESTIMATE2015</th>\n",
              "    </tr>\n",
              "    <tr>\n",
              "      <th>STNAME</th>\n",
              "      <th>CTYNAME</th>\n",
              "      <th></th>\n",
              "      <th></th>\n",
              "      <th></th>\n",
              "      <th></th>\n",
              "      <th></th>\n",
              "      <th></th>\n",
              "      <th></th>\n",
              "      <th></th>\n",
              "      <th></th>\n",
              "      <th></th>\n",
              "      <th></th>\n",
              "      <th></th>\n",
              "    </tr>\n",
              "  </thead>\n",
              "  <tbody>\n",
              "    <tr>\n",
              "      <td rowspan=\"5\" valign=\"top\">Alabama</td>\n",
              "      <td>Autauga County</td>\n",
              "      <td>151</td>\n",
              "      <td>636</td>\n",
              "      <td>615</td>\n",
              "      <td>574</td>\n",
              "      <td>623</td>\n",
              "      <td>600</td>\n",
              "      <td>54660</td>\n",
              "      <td>55253</td>\n",
              "      <td>55175</td>\n",
              "      <td>55038</td>\n",
              "      <td>55290</td>\n",
              "      <td>55347</td>\n",
              "    </tr>\n",
              "    <tr>\n",
              "      <td>Baldwin County</td>\n",
              "      <td>517</td>\n",
              "      <td>2187</td>\n",
              "      <td>2092</td>\n",
              "      <td>2160</td>\n",
              "      <td>2186</td>\n",
              "      <td>2240</td>\n",
              "      <td>183193</td>\n",
              "      <td>186659</td>\n",
              "      <td>190396</td>\n",
              "      <td>195126</td>\n",
              "      <td>199713</td>\n",
              "      <td>203709</td>\n",
              "    </tr>\n",
              "    <tr>\n",
              "      <td>Barbour County</td>\n",
              "      <td>70</td>\n",
              "      <td>335</td>\n",
              "      <td>300</td>\n",
              "      <td>283</td>\n",
              "      <td>260</td>\n",
              "      <td>269</td>\n",
              "      <td>27341</td>\n",
              "      <td>27226</td>\n",
              "      <td>27159</td>\n",
              "      <td>26973</td>\n",
              "      <td>26815</td>\n",
              "      <td>26489</td>\n",
              "    </tr>\n",
              "    <tr>\n",
              "      <td>Bibb County</td>\n",
              "      <td>44</td>\n",
              "      <td>266</td>\n",
              "      <td>245</td>\n",
              "      <td>259</td>\n",
              "      <td>247</td>\n",
              "      <td>253</td>\n",
              "      <td>22861</td>\n",
              "      <td>22733</td>\n",
              "      <td>22642</td>\n",
              "      <td>22512</td>\n",
              "      <td>22549</td>\n",
              "      <td>22583</td>\n",
              "    </tr>\n",
              "    <tr>\n",
              "      <td>Blount County</td>\n",
              "      <td>183</td>\n",
              "      <td>744</td>\n",
              "      <td>710</td>\n",
              "      <td>646</td>\n",
              "      <td>618</td>\n",
              "      <td>603</td>\n",
              "      <td>57373</td>\n",
              "      <td>57711</td>\n",
              "      <td>57776</td>\n",
              "      <td>57734</td>\n",
              "      <td>57658</td>\n",
              "      <td>57673</td>\n",
              "    </tr>\n",
              "  </tbody>\n",
              "</table>\n",
              "</div>"
            ],
            "text/plain": [
              "                        BIRTHS2010  BIRTHS2011  BIRTHS2012  BIRTHS2013  \\\n",
              "STNAME  CTYNAME                                                          \n",
              "Alabama Autauga County         151         636         615         574   \n",
              "        Baldwin County         517        2187        2092        2160   \n",
              "        Barbour County          70         335         300         283   \n",
              "        Bibb County             44         266         245         259   \n",
              "        Blount County          183         744         710         646   \n",
              "\n",
              "                        BIRTHS2014  BIRTHS2015  POPESTIMATE2010  \\\n",
              "STNAME  CTYNAME                                                   \n",
              "Alabama Autauga County         623         600            54660   \n",
              "        Baldwin County        2186        2240           183193   \n",
              "        Barbour County         260         269            27341   \n",
              "        Bibb County            247         253            22861   \n",
              "        Blount County          618         603            57373   \n",
              "\n",
              "                        POPESTIMATE2011  POPESTIMATE2012  POPESTIMATE2013  \\\n",
              "STNAME  CTYNAME                                                             \n",
              "Alabama Autauga County            55253            55175            55038   \n",
              "        Baldwin County           186659           190396           195126   \n",
              "        Barbour County            27226            27159            26973   \n",
              "        Bibb County               22733            22642            22512   \n",
              "        Blount County             57711            57776            57734   \n",
              "\n",
              "                        POPESTIMATE2014  POPESTIMATE2015  \n",
              "STNAME  CTYNAME                                           \n",
              "Alabama Autauga County            55290            55347  \n",
              "        Baldwin County           199713           203709  \n",
              "        Barbour County            26815            26489  \n",
              "        Bibb County               22549            22583  \n",
              "        Blount County             57658            57673  "
            ]
          },
          "metadata": {
            "tags": []
          },
          "execution_count": 77
        }
      ]
    },
    {
      "cell_type": "code",
      "metadata": {
        "id": "8iqd-o6Fvrmz",
        "colab_type": "code",
        "colab": {},
        "outputId": "76f174ce-b27d-45e2-cc8f-d2e52dda21c5"
      },
      "source": [
        "df.loc['Michigan', 'Washtenaw County']"
      ],
      "execution_count": 0,
      "outputs": [
        {
          "output_type": "execute_result",
          "data": {
            "text/plain": [
              "BIRTHS2010            977\n",
              "BIRTHS2011           3826\n",
              "BIRTHS2012           3780\n",
              "BIRTHS2013           3662\n",
              "BIRTHS2014           3683\n",
              "BIRTHS2015           3709\n",
              "POPESTIMATE2010    345563\n",
              "POPESTIMATE2011    349048\n",
              "POPESTIMATE2012    351213\n",
              "POPESTIMATE2013    354289\n",
              "POPESTIMATE2014    357029\n",
              "POPESTIMATE2015    358880\n",
              "Name: (Michigan, Washtenaw County), dtype: int64"
            ]
          },
          "metadata": {
            "tags": []
          },
          "execution_count": 78
        }
      ]
    },
    {
      "cell_type": "code",
      "metadata": {
        "id": "a4sVv6Vqvrm1",
        "colab_type": "code",
        "colab": {},
        "outputId": "e2eb3a05-77a0-4592-b946-9c7ef81bef78"
      },
      "source": [
        "df.loc[ [('Michigan', 'Washtenaw County'),\n",
        "         ('Michigan', 'Wayne County')] ]"
      ],
      "execution_count": 0,
      "outputs": [
        {
          "output_type": "execute_result",
          "data": {
            "text/html": [
              "<div>\n",
              "<style scoped>\n",
              "    .dataframe tbody tr th:only-of-type {\n",
              "        vertical-align: middle;\n",
              "    }\n",
              "\n",
              "    .dataframe tbody tr th {\n",
              "        vertical-align: top;\n",
              "    }\n",
              "\n",
              "    .dataframe thead th {\n",
              "        text-align: right;\n",
              "    }\n",
              "</style>\n",
              "<table border=\"1\" class=\"dataframe\">\n",
              "  <thead>\n",
              "    <tr style=\"text-align: right;\">\n",
              "      <th></th>\n",
              "      <th></th>\n",
              "      <th>BIRTHS2010</th>\n",
              "      <th>BIRTHS2011</th>\n",
              "      <th>BIRTHS2012</th>\n",
              "      <th>BIRTHS2013</th>\n",
              "      <th>BIRTHS2014</th>\n",
              "      <th>BIRTHS2015</th>\n",
              "      <th>POPESTIMATE2010</th>\n",
              "      <th>POPESTIMATE2011</th>\n",
              "      <th>POPESTIMATE2012</th>\n",
              "      <th>POPESTIMATE2013</th>\n",
              "      <th>POPESTIMATE2014</th>\n",
              "      <th>POPESTIMATE2015</th>\n",
              "    </tr>\n",
              "    <tr>\n",
              "      <th>STNAME</th>\n",
              "      <th>CTYNAME</th>\n",
              "      <th></th>\n",
              "      <th></th>\n",
              "      <th></th>\n",
              "      <th></th>\n",
              "      <th></th>\n",
              "      <th></th>\n",
              "      <th></th>\n",
              "      <th></th>\n",
              "      <th></th>\n",
              "      <th></th>\n",
              "      <th></th>\n",
              "      <th></th>\n",
              "    </tr>\n",
              "  </thead>\n",
              "  <tbody>\n",
              "    <tr>\n",
              "      <td rowspan=\"2\" valign=\"top\">Michigan</td>\n",
              "      <td>Washtenaw County</td>\n",
              "      <td>977</td>\n",
              "      <td>3826</td>\n",
              "      <td>3780</td>\n",
              "      <td>3662</td>\n",
              "      <td>3683</td>\n",
              "      <td>3709</td>\n",
              "      <td>345563</td>\n",
              "      <td>349048</td>\n",
              "      <td>351213</td>\n",
              "      <td>354289</td>\n",
              "      <td>357029</td>\n",
              "      <td>358880</td>\n",
              "    </tr>\n",
              "    <tr>\n",
              "      <td>Wayne County</td>\n",
              "      <td>5918</td>\n",
              "      <td>23819</td>\n",
              "      <td>23270</td>\n",
              "      <td>23377</td>\n",
              "      <td>23607</td>\n",
              "      <td>23586</td>\n",
              "      <td>1815199</td>\n",
              "      <td>1801273</td>\n",
              "      <td>1792514</td>\n",
              "      <td>1775713</td>\n",
              "      <td>1766008</td>\n",
              "      <td>1759335</td>\n",
              "    </tr>\n",
              "  </tbody>\n",
              "</table>\n",
              "</div>"
            ],
            "text/plain": [
              "                           BIRTHS2010  BIRTHS2011  BIRTHS2012  BIRTHS2013  \\\n",
              "STNAME   CTYNAME                                                            \n",
              "Michigan Washtenaw County         977        3826        3780        3662   \n",
              "         Wayne County            5918       23819       23270       23377   \n",
              "\n",
              "                           BIRTHS2014  BIRTHS2015  POPESTIMATE2010  \\\n",
              "STNAME   CTYNAME                                                     \n",
              "Michigan Washtenaw County        3683        3709           345563   \n",
              "         Wayne County           23607       23586          1815199   \n",
              "\n",
              "                           POPESTIMATE2011  POPESTIMATE2012  POPESTIMATE2013  \\\n",
              "STNAME   CTYNAME                                                               \n",
              "Michigan Washtenaw County           349048           351213           354289   \n",
              "         Wayne County              1801273          1792514          1775713   \n",
              "\n",
              "                           POPESTIMATE2014  POPESTIMATE2015  \n",
              "STNAME   CTYNAME                                             \n",
              "Michigan Washtenaw County           357029           358880  \n",
              "         Wayne County              1766008          1759335  "
            ]
          },
          "metadata": {
            "tags": []
          },
          "execution_count": 79
        }
      ]
    },
    {
      "cell_type": "markdown",
      "metadata": {
        "id": "Q-91xBAcvrm6",
        "colab_type": "text"
      },
      "source": [
        "# Missing values"
      ]
    },
    {
      "cell_type": "code",
      "metadata": {
        "id": "Bp9-yV_Evrm7",
        "colab_type": "code",
        "colab": {},
        "outputId": "97e79c28-edab-4362-c118-a13cef9bea47"
      },
      "source": [
        "df = pd.read_csv('log.csv')\n",
        "df"
      ],
      "execution_count": 0,
      "outputs": [
        {
          "output_type": "execute_result",
          "data": {
            "text/html": [
              "<div>\n",
              "<style scoped>\n",
              "    .dataframe tbody tr th:only-of-type {\n",
              "        vertical-align: middle;\n",
              "    }\n",
              "\n",
              "    .dataframe tbody tr th {\n",
              "        vertical-align: top;\n",
              "    }\n",
              "\n",
              "    .dataframe thead th {\n",
              "        text-align: right;\n",
              "    }\n",
              "</style>\n",
              "<table border=\"1\" class=\"dataframe\">\n",
              "  <thead>\n",
              "    <tr style=\"text-align: right;\">\n",
              "      <th></th>\n",
              "      <th>time</th>\n",
              "      <th>user</th>\n",
              "      <th>video</th>\n",
              "      <th>playback position</th>\n",
              "      <th>paused</th>\n",
              "      <th>volume</th>\n",
              "    </tr>\n",
              "  </thead>\n",
              "  <tbody>\n",
              "    <tr>\n",
              "      <td>0</td>\n",
              "      <td>1469974424</td>\n",
              "      <td>cheryl</td>\n",
              "      <td>intro.html</td>\n",
              "      <td>5</td>\n",
              "      <td>False</td>\n",
              "      <td>10.0</td>\n",
              "    </tr>\n",
              "    <tr>\n",
              "      <td>1</td>\n",
              "      <td>1469974454</td>\n",
              "      <td>cheryl</td>\n",
              "      <td>intro.html</td>\n",
              "      <td>6</td>\n",
              "      <td>NaN</td>\n",
              "      <td>NaN</td>\n",
              "    </tr>\n",
              "    <tr>\n",
              "      <td>2</td>\n",
              "      <td>1469974544</td>\n",
              "      <td>cheryl</td>\n",
              "      <td>intro.html</td>\n",
              "      <td>9</td>\n",
              "      <td>NaN</td>\n",
              "      <td>NaN</td>\n",
              "    </tr>\n",
              "    <tr>\n",
              "      <td>3</td>\n",
              "      <td>1469974574</td>\n",
              "      <td>cheryl</td>\n",
              "      <td>intro.html</td>\n",
              "      <td>10</td>\n",
              "      <td>NaN</td>\n",
              "      <td>NaN</td>\n",
              "    </tr>\n",
              "    <tr>\n",
              "      <td>4</td>\n",
              "      <td>1469977514</td>\n",
              "      <td>bob</td>\n",
              "      <td>intro.html</td>\n",
              "      <td>1</td>\n",
              "      <td>NaN</td>\n",
              "      <td>NaN</td>\n",
              "    </tr>\n",
              "    <tr>\n",
              "      <td>5</td>\n",
              "      <td>1469977544</td>\n",
              "      <td>bob</td>\n",
              "      <td>intro.html</td>\n",
              "      <td>1</td>\n",
              "      <td>NaN</td>\n",
              "      <td>NaN</td>\n",
              "    </tr>\n",
              "    <tr>\n",
              "      <td>6</td>\n",
              "      <td>1469977574</td>\n",
              "      <td>bob</td>\n",
              "      <td>intro.html</td>\n",
              "      <td>1</td>\n",
              "      <td>NaN</td>\n",
              "      <td>NaN</td>\n",
              "    </tr>\n",
              "    <tr>\n",
              "      <td>7</td>\n",
              "      <td>1469977604</td>\n",
              "      <td>bob</td>\n",
              "      <td>intro.html</td>\n",
              "      <td>1</td>\n",
              "      <td>NaN</td>\n",
              "      <td>NaN</td>\n",
              "    </tr>\n",
              "    <tr>\n",
              "      <td>8</td>\n",
              "      <td>1469974604</td>\n",
              "      <td>cheryl</td>\n",
              "      <td>intro.html</td>\n",
              "      <td>11</td>\n",
              "      <td>NaN</td>\n",
              "      <td>NaN</td>\n",
              "    </tr>\n",
              "    <tr>\n",
              "      <td>9</td>\n",
              "      <td>1469974694</td>\n",
              "      <td>cheryl</td>\n",
              "      <td>intro.html</td>\n",
              "      <td>14</td>\n",
              "      <td>NaN</td>\n",
              "      <td>NaN</td>\n",
              "    </tr>\n",
              "    <tr>\n",
              "      <td>10</td>\n",
              "      <td>1469974724</td>\n",
              "      <td>cheryl</td>\n",
              "      <td>intro.html</td>\n",
              "      <td>15</td>\n",
              "      <td>NaN</td>\n",
              "      <td>NaN</td>\n",
              "    </tr>\n",
              "    <tr>\n",
              "      <td>11</td>\n",
              "      <td>1469974454</td>\n",
              "      <td>sue</td>\n",
              "      <td>advanced.html</td>\n",
              "      <td>24</td>\n",
              "      <td>NaN</td>\n",
              "      <td>NaN</td>\n",
              "    </tr>\n",
              "    <tr>\n",
              "      <td>12</td>\n",
              "      <td>1469974524</td>\n",
              "      <td>sue</td>\n",
              "      <td>advanced.html</td>\n",
              "      <td>25</td>\n",
              "      <td>NaN</td>\n",
              "      <td>NaN</td>\n",
              "    </tr>\n",
              "    <tr>\n",
              "      <td>13</td>\n",
              "      <td>1469974424</td>\n",
              "      <td>sue</td>\n",
              "      <td>advanced.html</td>\n",
              "      <td>23</td>\n",
              "      <td>False</td>\n",
              "      <td>10.0</td>\n",
              "    </tr>\n",
              "    <tr>\n",
              "      <td>14</td>\n",
              "      <td>1469974554</td>\n",
              "      <td>sue</td>\n",
              "      <td>advanced.html</td>\n",
              "      <td>26</td>\n",
              "      <td>NaN</td>\n",
              "      <td>NaN</td>\n",
              "    </tr>\n",
              "    <tr>\n",
              "      <td>15</td>\n",
              "      <td>1469974624</td>\n",
              "      <td>sue</td>\n",
              "      <td>advanced.html</td>\n",
              "      <td>27</td>\n",
              "      <td>NaN</td>\n",
              "      <td>NaN</td>\n",
              "    </tr>\n",
              "    <tr>\n",
              "      <td>16</td>\n",
              "      <td>1469974654</td>\n",
              "      <td>sue</td>\n",
              "      <td>advanced.html</td>\n",
              "      <td>28</td>\n",
              "      <td>NaN</td>\n",
              "      <td>5.0</td>\n",
              "    </tr>\n",
              "    <tr>\n",
              "      <td>17</td>\n",
              "      <td>1469974724</td>\n",
              "      <td>sue</td>\n",
              "      <td>advanced.html</td>\n",
              "      <td>29</td>\n",
              "      <td>NaN</td>\n",
              "      <td>NaN</td>\n",
              "    </tr>\n",
              "    <tr>\n",
              "      <td>18</td>\n",
              "      <td>1469974484</td>\n",
              "      <td>cheryl</td>\n",
              "      <td>intro.html</td>\n",
              "      <td>7</td>\n",
              "      <td>NaN</td>\n",
              "      <td>NaN</td>\n",
              "    </tr>\n",
              "    <tr>\n",
              "      <td>19</td>\n",
              "      <td>1469974514</td>\n",
              "      <td>cheryl</td>\n",
              "      <td>intro.html</td>\n",
              "      <td>8</td>\n",
              "      <td>NaN</td>\n",
              "      <td>NaN</td>\n",
              "    </tr>\n",
              "    <tr>\n",
              "      <td>20</td>\n",
              "      <td>1469974754</td>\n",
              "      <td>sue</td>\n",
              "      <td>advanced.html</td>\n",
              "      <td>30</td>\n",
              "      <td>NaN</td>\n",
              "      <td>NaN</td>\n",
              "    </tr>\n",
              "    <tr>\n",
              "      <td>21</td>\n",
              "      <td>1469974824</td>\n",
              "      <td>sue</td>\n",
              "      <td>advanced.html</td>\n",
              "      <td>31</td>\n",
              "      <td>NaN</td>\n",
              "      <td>NaN</td>\n",
              "    </tr>\n",
              "    <tr>\n",
              "      <td>22</td>\n",
              "      <td>1469974854</td>\n",
              "      <td>sue</td>\n",
              "      <td>advanced.html</td>\n",
              "      <td>32</td>\n",
              "      <td>NaN</td>\n",
              "      <td>NaN</td>\n",
              "    </tr>\n",
              "    <tr>\n",
              "      <td>23</td>\n",
              "      <td>1469974924</td>\n",
              "      <td>sue</td>\n",
              "      <td>advanced.html</td>\n",
              "      <td>33</td>\n",
              "      <td>NaN</td>\n",
              "      <td>NaN</td>\n",
              "    </tr>\n",
              "    <tr>\n",
              "      <td>24</td>\n",
              "      <td>1469977424</td>\n",
              "      <td>bob</td>\n",
              "      <td>intro.html</td>\n",
              "      <td>1</td>\n",
              "      <td>True</td>\n",
              "      <td>10.0</td>\n",
              "    </tr>\n",
              "    <tr>\n",
              "      <td>25</td>\n",
              "      <td>1469977454</td>\n",
              "      <td>bob</td>\n",
              "      <td>intro.html</td>\n",
              "      <td>1</td>\n",
              "      <td>NaN</td>\n",
              "      <td>NaN</td>\n",
              "    </tr>\n",
              "    <tr>\n",
              "      <td>26</td>\n",
              "      <td>1469977484</td>\n",
              "      <td>bob</td>\n",
              "      <td>intro.html</td>\n",
              "      <td>1</td>\n",
              "      <td>NaN</td>\n",
              "      <td>NaN</td>\n",
              "    </tr>\n",
              "    <tr>\n",
              "      <td>27</td>\n",
              "      <td>1469977634</td>\n",
              "      <td>bob</td>\n",
              "      <td>intro.html</td>\n",
              "      <td>1</td>\n",
              "      <td>NaN</td>\n",
              "      <td>NaN</td>\n",
              "    </tr>\n",
              "    <tr>\n",
              "      <td>28</td>\n",
              "      <td>1469977664</td>\n",
              "      <td>bob</td>\n",
              "      <td>intro.html</td>\n",
              "      <td>1</td>\n",
              "      <td>NaN</td>\n",
              "      <td>NaN</td>\n",
              "    </tr>\n",
              "    <tr>\n",
              "      <td>29</td>\n",
              "      <td>1469974634</td>\n",
              "      <td>cheryl</td>\n",
              "      <td>intro.html</td>\n",
              "      <td>12</td>\n",
              "      <td>NaN</td>\n",
              "      <td>NaN</td>\n",
              "    </tr>\n",
              "    <tr>\n",
              "      <td>30</td>\n",
              "      <td>1469974664</td>\n",
              "      <td>cheryl</td>\n",
              "      <td>intro.html</td>\n",
              "      <td>13</td>\n",
              "      <td>NaN</td>\n",
              "      <td>NaN</td>\n",
              "    </tr>\n",
              "    <tr>\n",
              "      <td>31</td>\n",
              "      <td>1469977694</td>\n",
              "      <td>bob</td>\n",
              "      <td>intro.html</td>\n",
              "      <td>1</td>\n",
              "      <td>NaN</td>\n",
              "      <td>NaN</td>\n",
              "    </tr>\n",
              "    <tr>\n",
              "      <td>32</td>\n",
              "      <td>1469977724</td>\n",
              "      <td>bob</td>\n",
              "      <td>intro.html</td>\n",
              "      <td>1</td>\n",
              "      <td>NaN</td>\n",
              "      <td>NaN</td>\n",
              "    </tr>\n",
              "  </tbody>\n",
              "</table>\n",
              "</div>"
            ],
            "text/plain": [
              "          time    user          video  playback position paused  volume\n",
              "0   1469974424  cheryl     intro.html                  5  False    10.0\n",
              "1   1469974454  cheryl     intro.html                  6    NaN     NaN\n",
              "2   1469974544  cheryl     intro.html                  9    NaN     NaN\n",
              "3   1469974574  cheryl     intro.html                 10    NaN     NaN\n",
              "4   1469977514     bob     intro.html                  1    NaN     NaN\n",
              "5   1469977544     bob     intro.html                  1    NaN     NaN\n",
              "6   1469977574     bob     intro.html                  1    NaN     NaN\n",
              "7   1469977604     bob     intro.html                  1    NaN     NaN\n",
              "8   1469974604  cheryl     intro.html                 11    NaN     NaN\n",
              "9   1469974694  cheryl     intro.html                 14    NaN     NaN\n",
              "10  1469974724  cheryl     intro.html                 15    NaN     NaN\n",
              "11  1469974454     sue  advanced.html                 24    NaN     NaN\n",
              "12  1469974524     sue  advanced.html                 25    NaN     NaN\n",
              "13  1469974424     sue  advanced.html                 23  False    10.0\n",
              "14  1469974554     sue  advanced.html                 26    NaN     NaN\n",
              "15  1469974624     sue  advanced.html                 27    NaN     NaN\n",
              "16  1469974654     sue  advanced.html                 28    NaN     5.0\n",
              "17  1469974724     sue  advanced.html                 29    NaN     NaN\n",
              "18  1469974484  cheryl     intro.html                  7    NaN     NaN\n",
              "19  1469974514  cheryl     intro.html                  8    NaN     NaN\n",
              "20  1469974754     sue  advanced.html                 30    NaN     NaN\n",
              "21  1469974824     sue  advanced.html                 31    NaN     NaN\n",
              "22  1469974854     sue  advanced.html                 32    NaN     NaN\n",
              "23  1469974924     sue  advanced.html                 33    NaN     NaN\n",
              "24  1469977424     bob     intro.html                  1   True    10.0\n",
              "25  1469977454     bob     intro.html                  1    NaN     NaN\n",
              "26  1469977484     bob     intro.html                  1    NaN     NaN\n",
              "27  1469977634     bob     intro.html                  1    NaN     NaN\n",
              "28  1469977664     bob     intro.html                  1    NaN     NaN\n",
              "29  1469974634  cheryl     intro.html                 12    NaN     NaN\n",
              "30  1469974664  cheryl     intro.html                 13    NaN     NaN\n",
              "31  1469977694     bob     intro.html                  1    NaN     NaN\n",
              "32  1469977724     bob     intro.html                  1    NaN     NaN"
            ]
          },
          "metadata": {
            "tags": []
          },
          "execution_count": 83
        }
      ]
    },
    {
      "cell_type": "code",
      "metadata": {
        "id": "2qryA6k6vrm9",
        "colab_type": "code",
        "colab": {},
        "outputId": "405a6386-93d7-41d0-b957-744b950c88ec"
      },
      "source": [
        "df.fillna?"
      ],
      "execution_count": 0,
      "outputs": [
        {
          "output_type": "display_data",
          "data": {
            "text/plain": [
              "\u001b[0;31mSignature:\u001b[0m\n",
              "\u001b[0mdf\u001b[0m\u001b[0;34m.\u001b[0m\u001b[0mfillna\u001b[0m\u001b[0;34m(\u001b[0m\u001b[0;34m\u001b[0m\n",
              "\u001b[0;34m\u001b[0m    \u001b[0mvalue\u001b[0m\u001b[0;34m=\u001b[0m\u001b[0;32mNone\u001b[0m\u001b[0;34m,\u001b[0m\u001b[0;34m\u001b[0m\n",
              "\u001b[0;34m\u001b[0m    \u001b[0mmethod\u001b[0m\u001b[0;34m=\u001b[0m\u001b[0;32mNone\u001b[0m\u001b[0;34m,\u001b[0m\u001b[0;34m\u001b[0m\n",
              "\u001b[0;34m\u001b[0m    \u001b[0maxis\u001b[0m\u001b[0;34m=\u001b[0m\u001b[0;32mNone\u001b[0m\u001b[0;34m,\u001b[0m\u001b[0;34m\u001b[0m\n",
              "\u001b[0;34m\u001b[0m    \u001b[0minplace\u001b[0m\u001b[0;34m=\u001b[0m\u001b[0;32mFalse\u001b[0m\u001b[0;34m,\u001b[0m\u001b[0;34m\u001b[0m\n",
              "\u001b[0;34m\u001b[0m    \u001b[0mlimit\u001b[0m\u001b[0;34m=\u001b[0m\u001b[0;32mNone\u001b[0m\u001b[0;34m,\u001b[0m\u001b[0;34m\u001b[0m\n",
              "\u001b[0;34m\u001b[0m    \u001b[0mdowncast\u001b[0m\u001b[0;34m=\u001b[0m\u001b[0;32mNone\u001b[0m\u001b[0;34m,\u001b[0m\u001b[0;34m\u001b[0m\n",
              "\u001b[0;34m\u001b[0m    \u001b[0;34m**\u001b[0m\u001b[0mkwargs\u001b[0m\u001b[0;34m,\u001b[0m\u001b[0;34m\u001b[0m\n",
              "\u001b[0;34m\u001b[0m\u001b[0;34m)\u001b[0m\u001b[0;34m\u001b[0m\u001b[0;34m\u001b[0m\u001b[0m\n",
              "\u001b[0;31mDocstring:\u001b[0m\n",
              "Fill NA/NaN values using the specified method.\n",
              "\n",
              "Parameters\n",
              "----------\n",
              "value : scalar, dict, Series, or DataFrame\n",
              "    Value to use to fill holes (e.g. 0), alternately a\n",
              "    dict/Series/DataFrame of values specifying which value to use for\n",
              "    each index (for a Series) or column (for a DataFrame).  Values not\n",
              "    in the dict/Series/DataFrame will not be filled. This value cannot\n",
              "    be a list.\n",
              "method : {'backfill', 'bfill', 'pad', 'ffill', None}, default None\n",
              "    Method to use for filling holes in reindexed Series\n",
              "    pad / ffill: propagate last valid observation forward to next valid\n",
              "    backfill / bfill: use next valid observation to fill gap.\n",
              "axis : {0 or 'index', 1 or 'columns'}\n",
              "    Axis along which to fill missing values.\n",
              "inplace : bool, default False\n",
              "    If True, fill in-place. Note: this will modify any\n",
              "    other views on this object (e.g., a no-copy slice for a column in a\n",
              "    DataFrame).\n",
              "limit : int, default None\n",
              "    If method is specified, this is the maximum number of consecutive\n",
              "    NaN values to forward/backward fill. In other words, if there is\n",
              "    a gap with more than this number of consecutive NaNs, it will only\n",
              "    be partially filled. If method is not specified, this is the\n",
              "    maximum number of entries along the entire axis where NaNs will be\n",
              "    filled. Must be greater than 0 if not None.\n",
              "downcast : dict, default is None\n",
              "    A dict of item->dtype of what to downcast if possible,\n",
              "    or the string 'infer' which will try to downcast to an appropriate\n",
              "    equal type (e.g. float64 to int64 if possible).\n",
              "\n",
              "Returns\n",
              "-------\n",
              "DataFrame\n",
              "    Object with missing values filled.\n",
              "\n",
              "See Also\n",
              "--------\n",
              "interpolate : Fill NaN values using interpolation.\n",
              "reindex : Conform object to new index.\n",
              "asfreq : Convert TimeSeries to specified frequency.\n",
              "\n",
              "Examples\n",
              "--------\n",
              ">>> df = pd.DataFrame([[np.nan, 2, np.nan, 0],\n",
              "...                    [3, 4, np.nan, 1],\n",
              "...                    [np.nan, np.nan, np.nan, 5],\n",
              "...                    [np.nan, 3, np.nan, 4]],\n",
              "...                   columns=list('ABCD'))\n",
              ">>> df\n",
              "     A    B   C  D\n",
              "0  NaN  2.0 NaN  0\n",
              "1  3.0  4.0 NaN  1\n",
              "2  NaN  NaN NaN  5\n",
              "3  NaN  3.0 NaN  4\n",
              "\n",
              "Replace all NaN elements with 0s.\n",
              "\n",
              ">>> df.fillna(0)\n",
              "    A   B   C   D\n",
              "0   0.0 2.0 0.0 0\n",
              "1   3.0 4.0 0.0 1\n",
              "2   0.0 0.0 0.0 5\n",
              "3   0.0 3.0 0.0 4\n",
              "\n",
              "We can also propagate non-null values forward or backward.\n",
              "\n",
              ">>> df.fillna(method='ffill')\n",
              "    A   B   C   D\n",
              "0   NaN 2.0 NaN 0\n",
              "1   3.0 4.0 NaN 1\n",
              "2   3.0 4.0 NaN 5\n",
              "3   3.0 3.0 NaN 4\n",
              "\n",
              "Replace all NaN elements in column 'A', 'B', 'C', and 'D', with 0, 1,\n",
              "2, and 3 respectively.\n",
              "\n",
              ">>> values = {'A': 0, 'B': 1, 'C': 2, 'D': 3}\n",
              ">>> df.fillna(value=values)\n",
              "    A   B   C   D\n",
              "0   0.0 2.0 2.0 0\n",
              "1   3.0 4.0 2.0 1\n",
              "2   0.0 1.0 2.0 5\n",
              "3   0.0 3.0 2.0 4\n",
              "\n",
              "Only replace the first NaN element.\n",
              "\n",
              ">>> df.fillna(value=values, limit=1)\n",
              "    A   B   C   D\n",
              "0   0.0 2.0 2.0 0\n",
              "1   3.0 4.0 NaN 1\n",
              "2   NaN 1.0 NaN 5\n",
              "3   NaN 3.0 NaN 4\n",
              "\u001b[0;31mFile:\u001b[0m      ~/anaconda3/lib/python3.7/site-packages/pandas/core/frame.py\n",
              "\u001b[0;31mType:\u001b[0m      method\n"
            ]
          },
          "metadata": {
            "tags": []
          }
        }
      ]
    },
    {
      "cell_type": "code",
      "metadata": {
        "id": "Aaz7s7P0vrm_",
        "colab_type": "code",
        "colab": {},
        "outputId": "c161374a-4b89-4dd6-fff7-03cf5ba0cff8"
      },
      "source": [
        "df = df.set_index('time')\n",
        "df = df.sort_index()\n",
        "df"
      ],
      "execution_count": 0,
      "outputs": [
        {
          "output_type": "execute_result",
          "data": {
            "text/html": [
              "<div>\n",
              "<style scoped>\n",
              "    .dataframe tbody tr th:only-of-type {\n",
              "        vertical-align: middle;\n",
              "    }\n",
              "\n",
              "    .dataframe tbody tr th {\n",
              "        vertical-align: top;\n",
              "    }\n",
              "\n",
              "    .dataframe thead th {\n",
              "        text-align: right;\n",
              "    }\n",
              "</style>\n",
              "<table border=\"1\" class=\"dataframe\">\n",
              "  <thead>\n",
              "    <tr style=\"text-align: right;\">\n",
              "      <th></th>\n",
              "      <th>user</th>\n",
              "      <th>video</th>\n",
              "      <th>playback position</th>\n",
              "      <th>paused</th>\n",
              "      <th>volume</th>\n",
              "    </tr>\n",
              "    <tr>\n",
              "      <th>time</th>\n",
              "      <th></th>\n",
              "      <th></th>\n",
              "      <th></th>\n",
              "      <th></th>\n",
              "      <th></th>\n",
              "    </tr>\n",
              "  </thead>\n",
              "  <tbody>\n",
              "    <tr>\n",
              "      <td>1469974424</td>\n",
              "      <td>cheryl</td>\n",
              "      <td>intro.html</td>\n",
              "      <td>5</td>\n",
              "      <td>False</td>\n",
              "      <td>10.0</td>\n",
              "    </tr>\n",
              "    <tr>\n",
              "      <td>1469974424</td>\n",
              "      <td>sue</td>\n",
              "      <td>advanced.html</td>\n",
              "      <td>23</td>\n",
              "      <td>False</td>\n",
              "      <td>10.0</td>\n",
              "    </tr>\n",
              "    <tr>\n",
              "      <td>1469974454</td>\n",
              "      <td>cheryl</td>\n",
              "      <td>intro.html</td>\n",
              "      <td>6</td>\n",
              "      <td>NaN</td>\n",
              "      <td>NaN</td>\n",
              "    </tr>\n",
              "    <tr>\n",
              "      <td>1469974454</td>\n",
              "      <td>sue</td>\n",
              "      <td>advanced.html</td>\n",
              "      <td>24</td>\n",
              "      <td>NaN</td>\n",
              "      <td>NaN</td>\n",
              "    </tr>\n",
              "    <tr>\n",
              "      <td>1469974484</td>\n",
              "      <td>cheryl</td>\n",
              "      <td>intro.html</td>\n",
              "      <td>7</td>\n",
              "      <td>NaN</td>\n",
              "      <td>NaN</td>\n",
              "    </tr>\n",
              "    <tr>\n",
              "      <td>1469974514</td>\n",
              "      <td>cheryl</td>\n",
              "      <td>intro.html</td>\n",
              "      <td>8</td>\n",
              "      <td>NaN</td>\n",
              "      <td>NaN</td>\n",
              "    </tr>\n",
              "    <tr>\n",
              "      <td>1469974524</td>\n",
              "      <td>sue</td>\n",
              "      <td>advanced.html</td>\n",
              "      <td>25</td>\n",
              "      <td>NaN</td>\n",
              "      <td>NaN</td>\n",
              "    </tr>\n",
              "    <tr>\n",
              "      <td>1469974544</td>\n",
              "      <td>cheryl</td>\n",
              "      <td>intro.html</td>\n",
              "      <td>9</td>\n",
              "      <td>NaN</td>\n",
              "      <td>NaN</td>\n",
              "    </tr>\n",
              "    <tr>\n",
              "      <td>1469974554</td>\n",
              "      <td>sue</td>\n",
              "      <td>advanced.html</td>\n",
              "      <td>26</td>\n",
              "      <td>NaN</td>\n",
              "      <td>NaN</td>\n",
              "    </tr>\n",
              "    <tr>\n",
              "      <td>1469974574</td>\n",
              "      <td>cheryl</td>\n",
              "      <td>intro.html</td>\n",
              "      <td>10</td>\n",
              "      <td>NaN</td>\n",
              "      <td>NaN</td>\n",
              "    </tr>\n",
              "    <tr>\n",
              "      <td>1469974604</td>\n",
              "      <td>cheryl</td>\n",
              "      <td>intro.html</td>\n",
              "      <td>11</td>\n",
              "      <td>NaN</td>\n",
              "      <td>NaN</td>\n",
              "    </tr>\n",
              "    <tr>\n",
              "      <td>1469974624</td>\n",
              "      <td>sue</td>\n",
              "      <td>advanced.html</td>\n",
              "      <td>27</td>\n",
              "      <td>NaN</td>\n",
              "      <td>NaN</td>\n",
              "    </tr>\n",
              "    <tr>\n",
              "      <td>1469974634</td>\n",
              "      <td>cheryl</td>\n",
              "      <td>intro.html</td>\n",
              "      <td>12</td>\n",
              "      <td>NaN</td>\n",
              "      <td>NaN</td>\n",
              "    </tr>\n",
              "    <tr>\n",
              "      <td>1469974654</td>\n",
              "      <td>sue</td>\n",
              "      <td>advanced.html</td>\n",
              "      <td>28</td>\n",
              "      <td>NaN</td>\n",
              "      <td>5.0</td>\n",
              "    </tr>\n",
              "    <tr>\n",
              "      <td>1469974664</td>\n",
              "      <td>cheryl</td>\n",
              "      <td>intro.html</td>\n",
              "      <td>13</td>\n",
              "      <td>NaN</td>\n",
              "      <td>NaN</td>\n",
              "    </tr>\n",
              "    <tr>\n",
              "      <td>1469974694</td>\n",
              "      <td>cheryl</td>\n",
              "      <td>intro.html</td>\n",
              "      <td>14</td>\n",
              "      <td>NaN</td>\n",
              "      <td>NaN</td>\n",
              "    </tr>\n",
              "    <tr>\n",
              "      <td>1469974724</td>\n",
              "      <td>cheryl</td>\n",
              "      <td>intro.html</td>\n",
              "      <td>15</td>\n",
              "      <td>NaN</td>\n",
              "      <td>NaN</td>\n",
              "    </tr>\n",
              "    <tr>\n",
              "      <td>1469974724</td>\n",
              "      <td>sue</td>\n",
              "      <td>advanced.html</td>\n",
              "      <td>29</td>\n",
              "      <td>NaN</td>\n",
              "      <td>NaN</td>\n",
              "    </tr>\n",
              "    <tr>\n",
              "      <td>1469974754</td>\n",
              "      <td>sue</td>\n",
              "      <td>advanced.html</td>\n",
              "      <td>30</td>\n",
              "      <td>NaN</td>\n",
              "      <td>NaN</td>\n",
              "    </tr>\n",
              "    <tr>\n",
              "      <td>1469974824</td>\n",
              "      <td>sue</td>\n",
              "      <td>advanced.html</td>\n",
              "      <td>31</td>\n",
              "      <td>NaN</td>\n",
              "      <td>NaN</td>\n",
              "    </tr>\n",
              "    <tr>\n",
              "      <td>1469974854</td>\n",
              "      <td>sue</td>\n",
              "      <td>advanced.html</td>\n",
              "      <td>32</td>\n",
              "      <td>NaN</td>\n",
              "      <td>NaN</td>\n",
              "    </tr>\n",
              "    <tr>\n",
              "      <td>1469974924</td>\n",
              "      <td>sue</td>\n",
              "      <td>advanced.html</td>\n",
              "      <td>33</td>\n",
              "      <td>NaN</td>\n",
              "      <td>NaN</td>\n",
              "    </tr>\n",
              "    <tr>\n",
              "      <td>1469977424</td>\n",
              "      <td>bob</td>\n",
              "      <td>intro.html</td>\n",
              "      <td>1</td>\n",
              "      <td>True</td>\n",
              "      <td>10.0</td>\n",
              "    </tr>\n",
              "    <tr>\n",
              "      <td>1469977454</td>\n",
              "      <td>bob</td>\n",
              "      <td>intro.html</td>\n",
              "      <td>1</td>\n",
              "      <td>NaN</td>\n",
              "      <td>NaN</td>\n",
              "    </tr>\n",
              "    <tr>\n",
              "      <td>1469977484</td>\n",
              "      <td>bob</td>\n",
              "      <td>intro.html</td>\n",
              "      <td>1</td>\n",
              "      <td>NaN</td>\n",
              "      <td>NaN</td>\n",
              "    </tr>\n",
              "    <tr>\n",
              "      <td>1469977514</td>\n",
              "      <td>bob</td>\n",
              "      <td>intro.html</td>\n",
              "      <td>1</td>\n",
              "      <td>NaN</td>\n",
              "      <td>NaN</td>\n",
              "    </tr>\n",
              "    <tr>\n",
              "      <td>1469977544</td>\n",
              "      <td>bob</td>\n",
              "      <td>intro.html</td>\n",
              "      <td>1</td>\n",
              "      <td>NaN</td>\n",
              "      <td>NaN</td>\n",
              "    </tr>\n",
              "    <tr>\n",
              "      <td>1469977574</td>\n",
              "      <td>bob</td>\n",
              "      <td>intro.html</td>\n",
              "      <td>1</td>\n",
              "      <td>NaN</td>\n",
              "      <td>NaN</td>\n",
              "    </tr>\n",
              "    <tr>\n",
              "      <td>1469977604</td>\n",
              "      <td>bob</td>\n",
              "      <td>intro.html</td>\n",
              "      <td>1</td>\n",
              "      <td>NaN</td>\n",
              "      <td>NaN</td>\n",
              "    </tr>\n",
              "    <tr>\n",
              "      <td>1469977634</td>\n",
              "      <td>bob</td>\n",
              "      <td>intro.html</td>\n",
              "      <td>1</td>\n",
              "      <td>NaN</td>\n",
              "      <td>NaN</td>\n",
              "    </tr>\n",
              "    <tr>\n",
              "      <td>1469977664</td>\n",
              "      <td>bob</td>\n",
              "      <td>intro.html</td>\n",
              "      <td>1</td>\n",
              "      <td>NaN</td>\n",
              "      <td>NaN</td>\n",
              "    </tr>\n",
              "    <tr>\n",
              "      <td>1469977694</td>\n",
              "      <td>bob</td>\n",
              "      <td>intro.html</td>\n",
              "      <td>1</td>\n",
              "      <td>NaN</td>\n",
              "      <td>NaN</td>\n",
              "    </tr>\n",
              "    <tr>\n",
              "      <td>1469977724</td>\n",
              "      <td>bob</td>\n",
              "      <td>intro.html</td>\n",
              "      <td>1</td>\n",
              "      <td>NaN</td>\n",
              "      <td>NaN</td>\n",
              "    </tr>\n",
              "  </tbody>\n",
              "</table>\n",
              "</div>"
            ],
            "text/plain": [
              "              user          video  playback position paused  volume\n",
              "time                                                               \n",
              "1469974424  cheryl     intro.html                  5  False    10.0\n",
              "1469974424     sue  advanced.html                 23  False    10.0\n",
              "1469974454  cheryl     intro.html                  6    NaN     NaN\n",
              "1469974454     sue  advanced.html                 24    NaN     NaN\n",
              "1469974484  cheryl     intro.html                  7    NaN     NaN\n",
              "1469974514  cheryl     intro.html                  8    NaN     NaN\n",
              "1469974524     sue  advanced.html                 25    NaN     NaN\n",
              "1469974544  cheryl     intro.html                  9    NaN     NaN\n",
              "1469974554     sue  advanced.html                 26    NaN     NaN\n",
              "1469974574  cheryl     intro.html                 10    NaN     NaN\n",
              "1469974604  cheryl     intro.html                 11    NaN     NaN\n",
              "1469974624     sue  advanced.html                 27    NaN     NaN\n",
              "1469974634  cheryl     intro.html                 12    NaN     NaN\n",
              "1469974654     sue  advanced.html                 28    NaN     5.0\n",
              "1469974664  cheryl     intro.html                 13    NaN     NaN\n",
              "1469974694  cheryl     intro.html                 14    NaN     NaN\n",
              "1469974724  cheryl     intro.html                 15    NaN     NaN\n",
              "1469974724     sue  advanced.html                 29    NaN     NaN\n",
              "1469974754     sue  advanced.html                 30    NaN     NaN\n",
              "1469974824     sue  advanced.html                 31    NaN     NaN\n",
              "1469974854     sue  advanced.html                 32    NaN     NaN\n",
              "1469974924     sue  advanced.html                 33    NaN     NaN\n",
              "1469977424     bob     intro.html                  1   True    10.0\n",
              "1469977454     bob     intro.html                  1    NaN     NaN\n",
              "1469977484     bob     intro.html                  1    NaN     NaN\n",
              "1469977514     bob     intro.html                  1    NaN     NaN\n",
              "1469977544     bob     intro.html                  1    NaN     NaN\n",
              "1469977574     bob     intro.html                  1    NaN     NaN\n",
              "1469977604     bob     intro.html                  1    NaN     NaN\n",
              "1469977634     bob     intro.html                  1    NaN     NaN\n",
              "1469977664     bob     intro.html                  1    NaN     NaN\n",
              "1469977694     bob     intro.html                  1    NaN     NaN\n",
              "1469977724     bob     intro.html                  1    NaN     NaN"
            ]
          },
          "metadata": {
            "tags": []
          },
          "execution_count": 85
        }
      ]
    },
    {
      "cell_type": "code",
      "metadata": {
        "id": "tnKNqdK7vrnC",
        "colab_type": "code",
        "colab": {},
        "outputId": "c95e5bfb-72b0-47f1-e3f1-da02556c5704"
      },
      "source": [
        "df = df.reset_index()\n",
        "df = df.set_index(['time', 'user'])\n",
        "df"
      ],
      "execution_count": 0,
      "outputs": [
        {
          "output_type": "execute_result",
          "data": {
            "text/html": [
              "<div>\n",
              "<style scoped>\n",
              "    .dataframe tbody tr th:only-of-type {\n",
              "        vertical-align: middle;\n",
              "    }\n",
              "\n",
              "    .dataframe tbody tr th {\n",
              "        vertical-align: top;\n",
              "    }\n",
              "\n",
              "    .dataframe thead th {\n",
              "        text-align: right;\n",
              "    }\n",
              "</style>\n",
              "<table border=\"1\" class=\"dataframe\">\n",
              "  <thead>\n",
              "    <tr style=\"text-align: right;\">\n",
              "      <th></th>\n",
              "      <th></th>\n",
              "      <th>video</th>\n",
              "      <th>playback position</th>\n",
              "      <th>paused</th>\n",
              "      <th>volume</th>\n",
              "    </tr>\n",
              "    <tr>\n",
              "      <th>time</th>\n",
              "      <th>user</th>\n",
              "      <th></th>\n",
              "      <th></th>\n",
              "      <th></th>\n",
              "      <th></th>\n",
              "    </tr>\n",
              "  </thead>\n",
              "  <tbody>\n",
              "    <tr>\n",
              "      <td rowspan=\"2\" valign=\"top\">1469974424</td>\n",
              "      <td>cheryl</td>\n",
              "      <td>intro.html</td>\n",
              "      <td>5</td>\n",
              "      <td>False</td>\n",
              "      <td>10.0</td>\n",
              "    </tr>\n",
              "    <tr>\n",
              "      <td>sue</td>\n",
              "      <td>advanced.html</td>\n",
              "      <td>23</td>\n",
              "      <td>False</td>\n",
              "      <td>10.0</td>\n",
              "    </tr>\n",
              "    <tr>\n",
              "      <td rowspan=\"2\" valign=\"top\">1469974454</td>\n",
              "      <td>cheryl</td>\n",
              "      <td>intro.html</td>\n",
              "      <td>6</td>\n",
              "      <td>NaN</td>\n",
              "      <td>NaN</td>\n",
              "    </tr>\n",
              "    <tr>\n",
              "      <td>sue</td>\n",
              "      <td>advanced.html</td>\n",
              "      <td>24</td>\n",
              "      <td>NaN</td>\n",
              "      <td>NaN</td>\n",
              "    </tr>\n",
              "    <tr>\n",
              "      <td>1469974484</td>\n",
              "      <td>cheryl</td>\n",
              "      <td>intro.html</td>\n",
              "      <td>7</td>\n",
              "      <td>NaN</td>\n",
              "      <td>NaN</td>\n",
              "    </tr>\n",
              "    <tr>\n",
              "      <td>1469974514</td>\n",
              "      <td>cheryl</td>\n",
              "      <td>intro.html</td>\n",
              "      <td>8</td>\n",
              "      <td>NaN</td>\n",
              "      <td>NaN</td>\n",
              "    </tr>\n",
              "    <tr>\n",
              "      <td>1469974524</td>\n",
              "      <td>sue</td>\n",
              "      <td>advanced.html</td>\n",
              "      <td>25</td>\n",
              "      <td>NaN</td>\n",
              "      <td>NaN</td>\n",
              "    </tr>\n",
              "    <tr>\n",
              "      <td>1469974544</td>\n",
              "      <td>cheryl</td>\n",
              "      <td>intro.html</td>\n",
              "      <td>9</td>\n",
              "      <td>NaN</td>\n",
              "      <td>NaN</td>\n",
              "    </tr>\n",
              "    <tr>\n",
              "      <td>1469974554</td>\n",
              "      <td>sue</td>\n",
              "      <td>advanced.html</td>\n",
              "      <td>26</td>\n",
              "      <td>NaN</td>\n",
              "      <td>NaN</td>\n",
              "    </tr>\n",
              "    <tr>\n",
              "      <td>1469974574</td>\n",
              "      <td>cheryl</td>\n",
              "      <td>intro.html</td>\n",
              "      <td>10</td>\n",
              "      <td>NaN</td>\n",
              "      <td>NaN</td>\n",
              "    </tr>\n",
              "    <tr>\n",
              "      <td>1469974604</td>\n",
              "      <td>cheryl</td>\n",
              "      <td>intro.html</td>\n",
              "      <td>11</td>\n",
              "      <td>NaN</td>\n",
              "      <td>NaN</td>\n",
              "    </tr>\n",
              "    <tr>\n",
              "      <td>1469974624</td>\n",
              "      <td>sue</td>\n",
              "      <td>advanced.html</td>\n",
              "      <td>27</td>\n",
              "      <td>NaN</td>\n",
              "      <td>NaN</td>\n",
              "    </tr>\n",
              "    <tr>\n",
              "      <td>1469974634</td>\n",
              "      <td>cheryl</td>\n",
              "      <td>intro.html</td>\n",
              "      <td>12</td>\n",
              "      <td>NaN</td>\n",
              "      <td>NaN</td>\n",
              "    </tr>\n",
              "    <tr>\n",
              "      <td>1469974654</td>\n",
              "      <td>sue</td>\n",
              "      <td>advanced.html</td>\n",
              "      <td>28</td>\n",
              "      <td>NaN</td>\n",
              "      <td>5.0</td>\n",
              "    </tr>\n",
              "    <tr>\n",
              "      <td>1469974664</td>\n",
              "      <td>cheryl</td>\n",
              "      <td>intro.html</td>\n",
              "      <td>13</td>\n",
              "      <td>NaN</td>\n",
              "      <td>NaN</td>\n",
              "    </tr>\n",
              "    <tr>\n",
              "      <td>1469974694</td>\n",
              "      <td>cheryl</td>\n",
              "      <td>intro.html</td>\n",
              "      <td>14</td>\n",
              "      <td>NaN</td>\n",
              "      <td>NaN</td>\n",
              "    </tr>\n",
              "    <tr>\n",
              "      <td rowspan=\"2\" valign=\"top\">1469974724</td>\n",
              "      <td>cheryl</td>\n",
              "      <td>intro.html</td>\n",
              "      <td>15</td>\n",
              "      <td>NaN</td>\n",
              "      <td>NaN</td>\n",
              "    </tr>\n",
              "    <tr>\n",
              "      <td>sue</td>\n",
              "      <td>advanced.html</td>\n",
              "      <td>29</td>\n",
              "      <td>NaN</td>\n",
              "      <td>NaN</td>\n",
              "    </tr>\n",
              "    <tr>\n",
              "      <td>1469974754</td>\n",
              "      <td>sue</td>\n",
              "      <td>advanced.html</td>\n",
              "      <td>30</td>\n",
              "      <td>NaN</td>\n",
              "      <td>NaN</td>\n",
              "    </tr>\n",
              "    <tr>\n",
              "      <td>1469974824</td>\n",
              "      <td>sue</td>\n",
              "      <td>advanced.html</td>\n",
              "      <td>31</td>\n",
              "      <td>NaN</td>\n",
              "      <td>NaN</td>\n",
              "    </tr>\n",
              "    <tr>\n",
              "      <td>1469974854</td>\n",
              "      <td>sue</td>\n",
              "      <td>advanced.html</td>\n",
              "      <td>32</td>\n",
              "      <td>NaN</td>\n",
              "      <td>NaN</td>\n",
              "    </tr>\n",
              "    <tr>\n",
              "      <td>1469974924</td>\n",
              "      <td>sue</td>\n",
              "      <td>advanced.html</td>\n",
              "      <td>33</td>\n",
              "      <td>NaN</td>\n",
              "      <td>NaN</td>\n",
              "    </tr>\n",
              "    <tr>\n",
              "      <td>1469977424</td>\n",
              "      <td>bob</td>\n",
              "      <td>intro.html</td>\n",
              "      <td>1</td>\n",
              "      <td>True</td>\n",
              "      <td>10.0</td>\n",
              "    </tr>\n",
              "    <tr>\n",
              "      <td>1469977454</td>\n",
              "      <td>bob</td>\n",
              "      <td>intro.html</td>\n",
              "      <td>1</td>\n",
              "      <td>NaN</td>\n",
              "      <td>NaN</td>\n",
              "    </tr>\n",
              "    <tr>\n",
              "      <td>1469977484</td>\n",
              "      <td>bob</td>\n",
              "      <td>intro.html</td>\n",
              "      <td>1</td>\n",
              "      <td>NaN</td>\n",
              "      <td>NaN</td>\n",
              "    </tr>\n",
              "    <tr>\n",
              "      <td>1469977514</td>\n",
              "      <td>bob</td>\n",
              "      <td>intro.html</td>\n",
              "      <td>1</td>\n",
              "      <td>NaN</td>\n",
              "      <td>NaN</td>\n",
              "    </tr>\n",
              "    <tr>\n",
              "      <td>1469977544</td>\n",
              "      <td>bob</td>\n",
              "      <td>intro.html</td>\n",
              "      <td>1</td>\n",
              "      <td>NaN</td>\n",
              "      <td>NaN</td>\n",
              "    </tr>\n",
              "    <tr>\n",
              "      <td>1469977574</td>\n",
              "      <td>bob</td>\n",
              "      <td>intro.html</td>\n",
              "      <td>1</td>\n",
              "      <td>NaN</td>\n",
              "      <td>NaN</td>\n",
              "    </tr>\n",
              "    <tr>\n",
              "      <td>1469977604</td>\n",
              "      <td>bob</td>\n",
              "      <td>intro.html</td>\n",
              "      <td>1</td>\n",
              "      <td>NaN</td>\n",
              "      <td>NaN</td>\n",
              "    </tr>\n",
              "    <tr>\n",
              "      <td>1469977634</td>\n",
              "      <td>bob</td>\n",
              "      <td>intro.html</td>\n",
              "      <td>1</td>\n",
              "      <td>NaN</td>\n",
              "      <td>NaN</td>\n",
              "    </tr>\n",
              "    <tr>\n",
              "      <td>1469977664</td>\n",
              "      <td>bob</td>\n",
              "      <td>intro.html</td>\n",
              "      <td>1</td>\n",
              "      <td>NaN</td>\n",
              "      <td>NaN</td>\n",
              "    </tr>\n",
              "    <tr>\n",
              "      <td>1469977694</td>\n",
              "      <td>bob</td>\n",
              "      <td>intro.html</td>\n",
              "      <td>1</td>\n",
              "      <td>NaN</td>\n",
              "      <td>NaN</td>\n",
              "    </tr>\n",
              "    <tr>\n",
              "      <td>1469977724</td>\n",
              "      <td>bob</td>\n",
              "      <td>intro.html</td>\n",
              "      <td>1</td>\n",
              "      <td>NaN</td>\n",
              "      <td>NaN</td>\n",
              "    </tr>\n",
              "  </tbody>\n",
              "</table>\n",
              "</div>"
            ],
            "text/plain": [
              "                           video  playback position paused  volume\n",
              "time       user                                                   \n",
              "1469974424 cheryl     intro.html                  5  False    10.0\n",
              "           sue     advanced.html                 23  False    10.0\n",
              "1469974454 cheryl     intro.html                  6    NaN     NaN\n",
              "           sue     advanced.html                 24    NaN     NaN\n",
              "1469974484 cheryl     intro.html                  7    NaN     NaN\n",
              "1469974514 cheryl     intro.html                  8    NaN     NaN\n",
              "1469974524 sue     advanced.html                 25    NaN     NaN\n",
              "1469974544 cheryl     intro.html                  9    NaN     NaN\n",
              "1469974554 sue     advanced.html                 26    NaN     NaN\n",
              "1469974574 cheryl     intro.html                 10    NaN     NaN\n",
              "1469974604 cheryl     intro.html                 11    NaN     NaN\n",
              "1469974624 sue     advanced.html                 27    NaN     NaN\n",
              "1469974634 cheryl     intro.html                 12    NaN     NaN\n",
              "1469974654 sue     advanced.html                 28    NaN     5.0\n",
              "1469974664 cheryl     intro.html                 13    NaN     NaN\n",
              "1469974694 cheryl     intro.html                 14    NaN     NaN\n",
              "1469974724 cheryl     intro.html                 15    NaN     NaN\n",
              "           sue     advanced.html                 29    NaN     NaN\n",
              "1469974754 sue     advanced.html                 30    NaN     NaN\n",
              "1469974824 sue     advanced.html                 31    NaN     NaN\n",
              "1469974854 sue     advanced.html                 32    NaN     NaN\n",
              "1469974924 sue     advanced.html                 33    NaN     NaN\n",
              "1469977424 bob        intro.html                  1   True    10.0\n",
              "1469977454 bob        intro.html                  1    NaN     NaN\n",
              "1469977484 bob        intro.html                  1    NaN     NaN\n",
              "1469977514 bob        intro.html                  1    NaN     NaN\n",
              "1469977544 bob        intro.html                  1    NaN     NaN\n",
              "1469977574 bob        intro.html                  1    NaN     NaN\n",
              "1469977604 bob        intro.html                  1    NaN     NaN\n",
              "1469977634 bob        intro.html                  1    NaN     NaN\n",
              "1469977664 bob        intro.html                  1    NaN     NaN\n",
              "1469977694 bob        intro.html                  1    NaN     NaN\n",
              "1469977724 bob        intro.html                  1    NaN     NaN"
            ]
          },
          "metadata": {
            "tags": []
          },
          "execution_count": 86
        }
      ]
    },
    {
      "cell_type": "code",
      "metadata": {
        "id": "VxnUEsKOvrnE",
        "colab_type": "code",
        "colab": {},
        "outputId": "ce75c396-9615-4d0a-d3ff-dccd3a662d2d"
      },
      "source": [
        "df = df.fillna(method='ffill')\n",
        "df.head()"
      ],
      "execution_count": 0,
      "outputs": [
        {
          "output_type": "execute_result",
          "data": {
            "text/html": [
              "<div>\n",
              "<style scoped>\n",
              "    .dataframe tbody tr th:only-of-type {\n",
              "        vertical-align: middle;\n",
              "    }\n",
              "\n",
              "    .dataframe tbody tr th {\n",
              "        vertical-align: top;\n",
              "    }\n",
              "\n",
              "    .dataframe thead th {\n",
              "        text-align: right;\n",
              "    }\n",
              "</style>\n",
              "<table border=\"1\" class=\"dataframe\">\n",
              "  <thead>\n",
              "    <tr style=\"text-align: right;\">\n",
              "      <th></th>\n",
              "      <th></th>\n",
              "      <th>video</th>\n",
              "      <th>playback position</th>\n",
              "      <th>paused</th>\n",
              "      <th>volume</th>\n",
              "    </tr>\n",
              "    <tr>\n",
              "      <th>time</th>\n",
              "      <th>user</th>\n",
              "      <th></th>\n",
              "      <th></th>\n",
              "      <th></th>\n",
              "      <th></th>\n",
              "    </tr>\n",
              "  </thead>\n",
              "  <tbody>\n",
              "    <tr>\n",
              "      <td rowspan=\"2\" valign=\"top\">1469974424</td>\n",
              "      <td>cheryl</td>\n",
              "      <td>intro.html</td>\n",
              "      <td>5</td>\n",
              "      <td>False</td>\n",
              "      <td>10.0</td>\n",
              "    </tr>\n",
              "    <tr>\n",
              "      <td>sue</td>\n",
              "      <td>advanced.html</td>\n",
              "      <td>23</td>\n",
              "      <td>False</td>\n",
              "      <td>10.0</td>\n",
              "    </tr>\n",
              "    <tr>\n",
              "      <td rowspan=\"2\" valign=\"top\">1469974454</td>\n",
              "      <td>cheryl</td>\n",
              "      <td>intro.html</td>\n",
              "      <td>6</td>\n",
              "      <td>False</td>\n",
              "      <td>10.0</td>\n",
              "    </tr>\n",
              "    <tr>\n",
              "      <td>sue</td>\n",
              "      <td>advanced.html</td>\n",
              "      <td>24</td>\n",
              "      <td>False</td>\n",
              "      <td>10.0</td>\n",
              "    </tr>\n",
              "    <tr>\n",
              "      <td>1469974484</td>\n",
              "      <td>cheryl</td>\n",
              "      <td>intro.html</td>\n",
              "      <td>7</td>\n",
              "      <td>False</td>\n",
              "      <td>10.0</td>\n",
              "    </tr>\n",
              "  </tbody>\n",
              "</table>\n",
              "</div>"
            ],
            "text/plain": [
              "                           video  playback position  paused  volume\n",
              "time       user                                                    \n",
              "1469974424 cheryl     intro.html                  5   False    10.0\n",
              "           sue     advanced.html                 23   False    10.0\n",
              "1469974454 cheryl     intro.html                  6   False    10.0\n",
              "           sue     advanced.html                 24   False    10.0\n",
              "1469974484 cheryl     intro.html                  7   False    10.0"
            ]
          },
          "metadata": {
            "tags": []
          },
          "execution_count": 87
        }
      ]
    },
    {
      "cell_type": "code",
      "metadata": {
        "id": "yfw3lSOAvrnG",
        "colab_type": "code",
        "colab": {}
      },
      "source": [
        ""
      ],
      "execution_count": 0,
      "outputs": []
    }
  ]
}